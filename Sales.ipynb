{
 "cells": [
  {
   "cell_type": "markdown",
   "id": "d4508fe4",
   "metadata": {},
   "source": [
    "Fictional Product Study\n",
    "===="
   ]
  },
  {
   "cell_type": "markdown",
   "id": "d0ec7de9",
   "metadata": {},
   "source": [
    "Introduction\n",
    "===="
   ]
  },
  {
   "cell_type": "markdown",
   "id": "3285250f",
   "metadata": {},
   "source": [
    "This study will show the analysis on a fake data set downloaded from kaggle."
   ]
  },
  {
   "cell_type": "markdown",
   "id": "c7488005",
   "metadata": {},
   "source": [
    "Importing Libraries\n",
    "===="
   ]
  },
  {
   "cell_type": "code",
   "execution_count": 1,
   "id": "aa985a2b",
   "metadata": {},
   "outputs": [],
   "source": [
    "#Normal Imports\n",
    "import numpy as np\n",
    "import pandas as pd\n",
    "import matplotlib.pyplot as plt\n",
    "%matplotlib inline\n",
    "import seaborn as sns\n",
    "import scipy as sc\n",
    "\n",
    "#Train/Test or CV\n",
    "from sklearn.model_selection import StratifiedShuffleSplit\n",
    "from sklearn.model_selection import train_test_split\n",
    "from sklearn.model_selection import KFold, cross_val_predict, cross_val_score\n",
    "\n",
    "#DataWrangling\n",
    "from scipy import stats\n",
    "from scipy.stats.mstats import normaltest\n",
    "from sklearn.preprocessing import PolynomialFeatures\n",
    "from sklearn.preprocessing import StandardScaler, MinMaxScaler, MaxAbsScaler\n",
    "from sklearn.preprocessing import OneHotEncoder\n",
    "from sklearn.preprocessing import LabelBinarizer, LabelEncoder, OrdinalEncoder\n",
    "import datetime"
   ]
  },
  {
   "cell_type": "markdown",
   "id": "8cdc3131",
   "metadata": {},
   "source": [
    "Importing Data\n",
    "===="
   ]
  },
  {
   "cell_type": "code",
   "execution_count": 2,
   "id": "f0f1b124",
   "metadata": {},
   "outputs": [],
   "source": [
    "#import filetype\n",
    "df1 = pd.read_csv(r\"C:\\Users\\2-1\\Downloads\\Sales\\Sales_January_2019.csv\")\n",
    "df2 = pd.read_csv(r\"C:\\Users\\2-1\\Downloads\\Sales\\Sales_February_2019.csv\")\n",
    "df3 = pd.read_csv(r\"C:\\Users\\2-1\\Downloads\\Sales\\Sales_March_2019.csv\")\n",
    "df4 = pd.read_csv(r\"C:\\Users\\2-1\\Downloads\\Sales\\Sales_April_2019.csv\")\n",
    "df5 = pd.read_csv(r\"C:\\Users\\2-1\\Downloads\\Sales\\Sales_May_2019.csv\")\n",
    "df6 = pd.read_csv(r\"C:\\Users\\2-1\\Downloads\\Sales\\Sales_June_2019.csv\")\n",
    "df7 = pd.read_csv(r\"C:\\Users\\2-1\\Downloads\\Sales\\Sales_July_2019.csv\")\n",
    "df8 = pd.read_csv(r\"C:\\Users\\2-1\\Downloads\\Sales\\Sales_August_2019.csv\")\n",
    "df9 = pd.read_csv(r\"C:\\Users\\2-1\\Downloads\\Sales\\Sales_September_2019.csv\")\n",
    "df10 = pd.read_csv(r\"C:\\Users\\2-1\\Downloads\\Sales\\Sales_October_2019.csv\")\n",
    "df11 = pd.read_csv(r\"C:\\Users\\2-1\\Downloads\\Sales\\Sales_November_2019.csv\")\n",
    "df12 = pd.read_csv(r\"C:\\Users\\2-1\\Downloads\\Sales\\Sales_December_2019.csv\")"
   ]
  },
  {
   "cell_type": "code",
   "execution_count": 3,
   "id": "08ce5875",
   "metadata": {},
   "outputs": [
    {
     "data": {
      "text/html": [
       "<div>\n",
       "<style scoped>\n",
       "    .dataframe tbody tr th:only-of-type {\n",
       "        vertical-align: middle;\n",
       "    }\n",
       "\n",
       "    .dataframe tbody tr th {\n",
       "        vertical-align: top;\n",
       "    }\n",
       "\n",
       "    .dataframe thead th {\n",
       "        text-align: right;\n",
       "    }\n",
       "</style>\n",
       "<table border=\"1\" class=\"dataframe\">\n",
       "  <thead>\n",
       "    <tr style=\"text-align: right;\">\n",
       "      <th></th>\n",
       "      <th>Order ID</th>\n",
       "      <th>Product</th>\n",
       "      <th>Quantity Ordered</th>\n",
       "      <th>Price Each</th>\n",
       "      <th>Order Date</th>\n",
       "      <th>Purchase Address</th>\n",
       "    </tr>\n",
       "  </thead>\n",
       "  <tbody>\n",
       "    <tr>\n",
       "      <th>0</th>\n",
       "      <td>141234</td>\n",
       "      <td>iPhone</td>\n",
       "      <td>1</td>\n",
       "      <td>700</td>\n",
       "      <td>01/22/19 21:25</td>\n",
       "      <td>944 Walnut St, Boston, MA 02215</td>\n",
       "    </tr>\n",
       "    <tr>\n",
       "      <th>1</th>\n",
       "      <td>141235</td>\n",
       "      <td>Lightning Charging Cable</td>\n",
       "      <td>1</td>\n",
       "      <td>14.95</td>\n",
       "      <td>01/28/19 14:15</td>\n",
       "      <td>185 Maple St, Portland, OR 97035</td>\n",
       "    </tr>\n",
       "    <tr>\n",
       "      <th>2</th>\n",
       "      <td>141236</td>\n",
       "      <td>Wired Headphones</td>\n",
       "      <td>2</td>\n",
       "      <td>11.99</td>\n",
       "      <td>01/17/19 13:33</td>\n",
       "      <td>538 Adams St, San Francisco, CA 94016</td>\n",
       "    </tr>\n",
       "    <tr>\n",
       "      <th>3</th>\n",
       "      <td>141237</td>\n",
       "      <td>27in FHD Monitor</td>\n",
       "      <td>1</td>\n",
       "      <td>149.99</td>\n",
       "      <td>01/05/19 20:33</td>\n",
       "      <td>738 10th St, Los Angeles, CA 90001</td>\n",
       "    </tr>\n",
       "    <tr>\n",
       "      <th>4</th>\n",
       "      <td>141238</td>\n",
       "      <td>Wired Headphones</td>\n",
       "      <td>1</td>\n",
       "      <td>11.99</td>\n",
       "      <td>01/25/19 11:59</td>\n",
       "      <td>387 10th St, Austin, TX 73301</td>\n",
       "    </tr>\n",
       "  </tbody>\n",
       "</table>\n",
       "</div>"
      ],
      "text/plain": [
       "  Order ID                   Product Quantity Ordered Price Each  \\\n",
       "0   141234                    iPhone                1        700   \n",
       "1   141235  Lightning Charging Cable                1      14.95   \n",
       "2   141236          Wired Headphones                2      11.99   \n",
       "3   141237          27in FHD Monitor                1     149.99   \n",
       "4   141238          Wired Headphones                1      11.99   \n",
       "\n",
       "       Order Date                       Purchase Address  \n",
       "0  01/22/19 21:25        944 Walnut St, Boston, MA 02215  \n",
       "1  01/28/19 14:15       185 Maple St, Portland, OR 97035  \n",
       "2  01/17/19 13:33  538 Adams St, San Francisco, CA 94016  \n",
       "3  01/05/19 20:33     738 10th St, Los Angeles, CA 90001  \n",
       "4  01/25/19 11:59          387 10th St, Austin, TX 73301  "
      ]
     },
     "execution_count": 3,
     "metadata": {},
     "output_type": "execute_result"
    }
   ],
   "source": [
    "df1.head()"
   ]
  },
  {
   "cell_type": "code",
   "execution_count": 4,
   "id": "ed891be7",
   "metadata": {},
   "outputs": [],
   "source": [
    "#Merge\n",
    "dfs = [df1, df2, df3, df4, df5, df6, df7, df8, df9, df10, df11, df12]\n",
    "df = pd.concat(dfs)"
   ]
  },
  {
   "cell_type": "markdown",
   "id": "21648aa0",
   "metadata": {},
   "source": [
    "FIRST EDA\n",
    "===="
   ]
  },
  {
   "cell_type": "code",
   "execution_count": 5,
   "id": "86f52f2a",
   "metadata": {},
   "outputs": [
    {
     "data": {
      "text/html": [
       "<div>\n",
       "<style scoped>\n",
       "    .dataframe tbody tr th:only-of-type {\n",
       "        vertical-align: middle;\n",
       "    }\n",
       "\n",
       "    .dataframe tbody tr th {\n",
       "        vertical-align: top;\n",
       "    }\n",
       "\n",
       "    .dataframe thead th {\n",
       "        text-align: right;\n",
       "    }\n",
       "</style>\n",
       "<table border=\"1\" class=\"dataframe\">\n",
       "  <thead>\n",
       "    <tr style=\"text-align: right;\">\n",
       "      <th></th>\n",
       "      <th>Order ID</th>\n",
       "      <th>Product</th>\n",
       "      <th>Quantity Ordered</th>\n",
       "      <th>Price Each</th>\n",
       "      <th>Order Date</th>\n",
       "      <th>Purchase Address</th>\n",
       "    </tr>\n",
       "  </thead>\n",
       "  <tbody>\n",
       "    <tr>\n",
       "      <th>0</th>\n",
       "      <td>141234</td>\n",
       "      <td>iPhone</td>\n",
       "      <td>1</td>\n",
       "      <td>700</td>\n",
       "      <td>01/22/19 21:25</td>\n",
       "      <td>944 Walnut St, Boston, MA 02215</td>\n",
       "    </tr>\n",
       "    <tr>\n",
       "      <th>1</th>\n",
       "      <td>141235</td>\n",
       "      <td>Lightning Charging Cable</td>\n",
       "      <td>1</td>\n",
       "      <td>14.95</td>\n",
       "      <td>01/28/19 14:15</td>\n",
       "      <td>185 Maple St, Portland, OR 97035</td>\n",
       "    </tr>\n",
       "    <tr>\n",
       "      <th>2</th>\n",
       "      <td>141236</td>\n",
       "      <td>Wired Headphones</td>\n",
       "      <td>2</td>\n",
       "      <td>11.99</td>\n",
       "      <td>01/17/19 13:33</td>\n",
       "      <td>538 Adams St, San Francisco, CA 94016</td>\n",
       "    </tr>\n",
       "    <tr>\n",
       "      <th>3</th>\n",
       "      <td>141237</td>\n",
       "      <td>27in FHD Monitor</td>\n",
       "      <td>1</td>\n",
       "      <td>149.99</td>\n",
       "      <td>01/05/19 20:33</td>\n",
       "      <td>738 10th St, Los Angeles, CA 90001</td>\n",
       "    </tr>\n",
       "    <tr>\n",
       "      <th>4</th>\n",
       "      <td>141238</td>\n",
       "      <td>Wired Headphones</td>\n",
       "      <td>1</td>\n",
       "      <td>11.99</td>\n",
       "      <td>01/25/19 11:59</td>\n",
       "      <td>387 10th St, Austin, TX 73301</td>\n",
       "    </tr>\n",
       "  </tbody>\n",
       "</table>\n",
       "</div>"
      ],
      "text/plain": [
       "  Order ID                   Product Quantity Ordered Price Each  \\\n",
       "0   141234                    iPhone                1        700   \n",
       "1   141235  Lightning Charging Cable                1      14.95   \n",
       "2   141236          Wired Headphones                2      11.99   \n",
       "3   141237          27in FHD Monitor                1     149.99   \n",
       "4   141238          Wired Headphones                1      11.99   \n",
       "\n",
       "       Order Date                       Purchase Address  \n",
       "0  01/22/19 21:25        944 Walnut St, Boston, MA 02215  \n",
       "1  01/28/19 14:15       185 Maple St, Portland, OR 97035  \n",
       "2  01/17/19 13:33  538 Adams St, San Francisco, CA 94016  \n",
       "3  01/05/19 20:33     738 10th St, Los Angeles, CA 90001  \n",
       "4  01/25/19 11:59          387 10th St, Austin, TX 73301  "
      ]
     },
     "execution_count": 5,
     "metadata": {},
     "output_type": "execute_result"
    }
   ],
   "source": [
    "#check top 5 rows\n",
    "df.head()"
   ]
  },
  {
   "cell_type": "code",
   "execution_count": 6,
   "id": "cdc3d6eb",
   "metadata": {},
   "outputs": [
    {
     "name": "stdout",
     "output_type": "stream",
     "text": [
      "['Order ID', 'Product', 'Quantity Ordered', 'Price Each', 'Order Date', 'Purchase Address']\n"
     ]
    }
   ],
   "source": [
    "#check column names\n",
    "print(df.columns.tolist())"
   ]
  },
  {
   "cell_type": "code",
   "execution_count": 7,
   "id": "e632be53",
   "metadata": {},
   "outputs": [],
   "source": [
    "#Change Column Name if necessary\n",
    "df.rename({'Order ID': 'Order_ID', 'Quantity Ordered': 'Quantity_Ordered','Price Each':'Price_Each','Order Date':'Order_Date','Purchase Address':'Purchase_Address'}, axis=1, inplace=True)"
   ]
  },
  {
   "cell_type": "code",
   "execution_count": 8,
   "id": "3cad94f0",
   "metadata": {},
   "outputs": [
    {
     "data": {
      "text/html": [
       "<div>\n",
       "<style scoped>\n",
       "    .dataframe tbody tr th:only-of-type {\n",
       "        vertical-align: middle;\n",
       "    }\n",
       "\n",
       "    .dataframe tbody tr th {\n",
       "        vertical-align: top;\n",
       "    }\n",
       "\n",
       "    .dataframe thead th {\n",
       "        text-align: right;\n",
       "    }\n",
       "</style>\n",
       "<table border=\"1\" class=\"dataframe\">\n",
       "  <thead>\n",
       "    <tr style=\"text-align: right;\">\n",
       "      <th></th>\n",
       "      <th>count</th>\n",
       "      <th>unique</th>\n",
       "      <th>top</th>\n",
       "      <th>freq</th>\n",
       "    </tr>\n",
       "  </thead>\n",
       "  <tbody>\n",
       "    <tr>\n",
       "      <th>Order_ID</th>\n",
       "      <td>186305</td>\n",
       "      <td>178438</td>\n",
       "      <td>Order ID</td>\n",
       "      <td>355</td>\n",
       "    </tr>\n",
       "    <tr>\n",
       "      <th>Product</th>\n",
       "      <td>186305</td>\n",
       "      <td>20</td>\n",
       "      <td>USB-C Charging Cable</td>\n",
       "      <td>21903</td>\n",
       "    </tr>\n",
       "    <tr>\n",
       "      <th>Quantity_Ordered</th>\n",
       "      <td>186305</td>\n",
       "      <td>10</td>\n",
       "      <td>1</td>\n",
       "      <td>168552</td>\n",
       "    </tr>\n",
       "    <tr>\n",
       "      <th>Price_Each</th>\n",
       "      <td>186305</td>\n",
       "      <td>24</td>\n",
       "      <td>11.95</td>\n",
       "      <td>21903</td>\n",
       "    </tr>\n",
       "    <tr>\n",
       "      <th>Order_Date</th>\n",
       "      <td>186305</td>\n",
       "      <td>142396</td>\n",
       "      <td>Order Date</td>\n",
       "      <td>355</td>\n",
       "    </tr>\n",
       "    <tr>\n",
       "      <th>Purchase_Address</th>\n",
       "      <td>186305</td>\n",
       "      <td>140788</td>\n",
       "      <td>Purchase Address</td>\n",
       "      <td>355</td>\n",
       "    </tr>\n",
       "  </tbody>\n",
       "</table>\n",
       "</div>"
      ],
      "text/plain": [
       "                   count  unique                   top    freq\n",
       "Order_ID          186305  178438              Order ID     355\n",
       "Product           186305      20  USB-C Charging Cable   21903\n",
       "Quantity_Ordered  186305      10                     1  168552\n",
       "Price_Each        186305      24                 11.95   21903\n",
       "Order_Date        186305  142396            Order Date     355\n",
       "Purchase_Address  186305  140788      Purchase Address     355"
      ]
     },
     "execution_count": 8,
     "metadata": {},
     "output_type": "execute_result"
    }
   ],
   "source": [
    "#quick summary stats:numeric\n",
    "df.describe().T"
   ]
  },
  {
   "cell_type": "code",
   "execution_count": 9,
   "id": "a8877d84",
   "metadata": {},
   "outputs": [
    {
     "data": {
      "text/html": [
       "<div>\n",
       "<style scoped>\n",
       "    .dataframe tbody tr th:only-of-type {\n",
       "        vertical-align: middle;\n",
       "    }\n",
       "\n",
       "    .dataframe tbody tr th {\n",
       "        vertical-align: top;\n",
       "    }\n",
       "\n",
       "    .dataframe thead th {\n",
       "        text-align: right;\n",
       "    }\n",
       "</style>\n",
       "<table border=\"1\" class=\"dataframe\">\n",
       "  <thead>\n",
       "    <tr style=\"text-align: right;\">\n",
       "      <th></th>\n",
       "      <th>Order_ID</th>\n",
       "      <th>Product</th>\n",
       "      <th>Quantity_Ordered</th>\n",
       "      <th>Price_Each</th>\n",
       "      <th>Order_Date</th>\n",
       "      <th>Purchase_Address</th>\n",
       "    </tr>\n",
       "  </thead>\n",
       "  <tbody>\n",
       "    <tr>\n",
       "      <th>count</th>\n",
       "      <td>186305</td>\n",
       "      <td>186305</td>\n",
       "      <td>186305</td>\n",
       "      <td>186305</td>\n",
       "      <td>186305</td>\n",
       "      <td>186305</td>\n",
       "    </tr>\n",
       "    <tr>\n",
       "      <th>unique</th>\n",
       "      <td>178438</td>\n",
       "      <td>20</td>\n",
       "      <td>10</td>\n",
       "      <td>24</td>\n",
       "      <td>142396</td>\n",
       "      <td>140788</td>\n",
       "    </tr>\n",
       "    <tr>\n",
       "      <th>top</th>\n",
       "      <td>Order ID</td>\n",
       "      <td>USB-C Charging Cable</td>\n",
       "      <td>1</td>\n",
       "      <td>11.95</td>\n",
       "      <td>Order Date</td>\n",
       "      <td>Purchase Address</td>\n",
       "    </tr>\n",
       "    <tr>\n",
       "      <th>freq</th>\n",
       "      <td>355</td>\n",
       "      <td>21903</td>\n",
       "      <td>168552</td>\n",
       "      <td>21903</td>\n",
       "      <td>355</td>\n",
       "      <td>355</td>\n",
       "    </tr>\n",
       "  </tbody>\n",
       "</table>\n",
       "</div>"
      ],
      "text/plain": [
       "        Order_ID               Product Quantity_Ordered Price_Each  \\\n",
       "count     186305                186305           186305     186305   \n",
       "unique    178438                    20               10         24   \n",
       "top     Order ID  USB-C Charging Cable                1      11.95   \n",
       "freq         355                 21903           168552      21903   \n",
       "\n",
       "        Order_Date  Purchase_Address  \n",
       "count       186305            186305  \n",
       "unique      142396            140788  \n",
       "top     Order Date  Purchase Address  \n",
       "freq           355               355  "
      ]
     },
     "execution_count": 9,
     "metadata": {},
     "output_type": "execute_result"
    }
   ],
   "source": [
    "#quick summary stats:categorical\n",
    "df.describe(include='object')"
   ]
  },
  {
   "cell_type": "code",
   "execution_count": 10,
   "id": "f2ea95a1",
   "metadata": {},
   "outputs": [
    {
     "data": {
      "text/plain": [
       "(186850, 6)"
      ]
     },
     "execution_count": 10,
     "metadata": {},
     "output_type": "execute_result"
    }
   ],
   "source": [
    "#look at rows/columns\n",
    "df.shape"
   ]
  },
  {
   "cell_type": "code",
   "execution_count": 11,
   "id": "1a2f72a2",
   "metadata": {},
   "outputs": [
    {
     "name": "stdout",
     "output_type": "stream",
     "text": [
      "object    6\n",
      "dtype: int64\n"
     ]
    }
   ],
   "source": [
    "#look at objects counts\n",
    "print(df.dtypes.value_counts())"
   ]
  },
  {
   "cell_type": "code",
   "execution_count": 12,
   "id": "8ba8b053",
   "metadata": {},
   "outputs": [
    {
     "name": "stdout",
     "output_type": "stream",
     "text": [
      "Order_ID : ['141234' '141235' '141236' ... '319668' '319669' '319670']\n",
      "Product : ['iPhone' 'Lightning Charging Cable' 'Wired Headphones' '27in FHD Monitor'\n",
      " 'AAA Batteries (4-pack)' '27in 4K Gaming Monitor' 'USB-C Charging Cable'\n",
      " 'Bose SoundSport Headphones' 'Apple Airpods Headphones'\n",
      " 'Macbook Pro Laptop' 'Flatscreen TV' 'Vareebadd Phone'\n",
      " 'AA Batteries (4-pack)' 'Google Phone' '20in Monitor'\n",
      " '34in Ultrawide Monitor' 'ThinkPad Laptop' 'LG Dryer'\n",
      " 'LG Washing Machine' nan 'Product']\n",
      "Quantity_Ordered : ['1' '2' '3' '5' '4' nan '7' 'Quantity Ordered' '6' '9' '8']\n",
      "Price_Each : ['700' '14.95' '11.99' '149.99' '2.99' '389.99' '11.95' '99.99' '150'\n",
      " '1700' '300' '400' '3.84' '600' '109.99' '379.99' '999.99' '600.0' nan\n",
      " 'Price Each' '700.0' '150.0' '300.0' '1700.0' '400.0']\n",
      "Order_Date : ['01/22/19 21:25' '01/28/19 14:15' '01/17/19 13:33' ... '12/01/19 12:01'\n",
      " '12/09/19 06:43' '12/03/19 10:39']\n",
      "Purchase_Address : ['944 Walnut St, Boston, MA 02215' '185 Maple St, Portland, OR 97035'\n",
      " '538 Adams St, San Francisco, CA 94016' ...\n",
      " '273 Wilson St, Seattle, WA 98101' '778 River St, Dallas, TX 75001'\n",
      " '747 Chestnut St, Los Angeles, CA 90001']\n"
     ]
    }
   ],
   "source": [
    "#Checking for wrong entries like symbols -,?,#,*,etc.\n",
    "for col in df.columns:\n",
    "    print('{} : {}'.format(col,df[col].unique()))"
   ]
  },
  {
   "cell_type": "code",
   "execution_count": 13,
   "id": "2038691f",
   "metadata": {},
   "outputs": [],
   "source": [
    "df = df[df.Quantity_Ordered != 'Quantity Ordered']\n",
    "df = df[df.Price_Each != 'Price Each']"
   ]
  },
  {
   "cell_type": "code",
   "execution_count": 14,
   "id": "06226cf5",
   "metadata": {},
   "outputs": [
    {
     "name": "stdout",
     "output_type": "stream",
     "text": [
      "Order_ID : ['141234' '141235' '141236' ... '319668' '319669' '319670']\n",
      "Product : ['iPhone' 'Lightning Charging Cable' 'Wired Headphones' '27in FHD Monitor'\n",
      " 'AAA Batteries (4-pack)' '27in 4K Gaming Monitor' 'USB-C Charging Cable'\n",
      " 'Bose SoundSport Headphones' 'Apple Airpods Headphones'\n",
      " 'Macbook Pro Laptop' 'Flatscreen TV' 'Vareebadd Phone'\n",
      " 'AA Batteries (4-pack)' 'Google Phone' '20in Monitor'\n",
      " '34in Ultrawide Monitor' 'ThinkPad Laptop' 'LG Dryer'\n",
      " 'LG Washing Machine' nan]\n",
      "Quantity_Ordered : ['1' '2' '3' '5' '4' nan '7' '6' '9' '8']\n",
      "Price_Each : ['700' '14.95' '11.99' '149.99' '2.99' '389.99' '11.95' '99.99' '150'\n",
      " '1700' '300' '400' '3.84' '600' '109.99' '379.99' '999.99' '600.0' nan\n",
      " '700.0' '150.0' '300.0' '1700.0' '400.0']\n",
      "Order_Date : ['01/22/19 21:25' '01/28/19 14:15' '01/17/19 13:33' ... '12/01/19 12:01'\n",
      " '12/09/19 06:43' '12/03/19 10:39']\n",
      "Purchase_Address : ['944 Walnut St, Boston, MA 02215' '185 Maple St, Portland, OR 97035'\n",
      " '538 Adams St, San Francisco, CA 94016' ...\n",
      " '273 Wilson St, Seattle, WA 98101' '778 River St, Dallas, TX 75001'\n",
      " '747 Chestnut St, Los Angeles, CA 90001']\n"
     ]
    }
   ],
   "source": [
    "#Checking for wrong entries like symbols -,?,#,*,etc.\n",
    "for col in df.columns:\n",
    "    print('{} : {}'.format(col,df[col].unique()))"
   ]
  },
  {
   "cell_type": "markdown",
   "id": "5eb1e479",
   "metadata": {},
   "source": [
    "Data Wrangling\n",
    "==="
   ]
  },
  {
   "cell_type": "markdown",
   "id": "16c2962a",
   "metadata": {},
   "source": [
    "Check Nulls\n",
    "===="
   ]
  },
  {
   "cell_type": "code",
   "execution_count": 15,
   "id": "416c7297",
   "metadata": {},
   "outputs": [
    {
     "data": {
      "text/plain": [
       "Order_ID            545\n",
       "Product             545\n",
       "Quantity_Ordered    545\n",
       "Price_Each          545\n",
       "Order_Date          545\n",
       "Purchase_Address    545\n",
       "dtype: int64"
      ]
     },
     "execution_count": 15,
     "metadata": {},
     "output_type": "execute_result"
    }
   ],
   "source": [
    "#check for null\n",
    "df.isnull().sum()"
   ]
  },
  {
   "cell_type": "code",
   "execution_count": 16,
   "id": "1e281c6f",
   "metadata": {},
   "outputs": [],
   "source": [
    "#replacing null values with panda null values\n",
    "df = df.replace('$nan$', np.NaN)"
   ]
  },
  {
   "cell_type": "code",
   "execution_count": 17,
   "id": "ea619532",
   "metadata": {},
   "outputs": [
    {
     "data": {
      "text/plain": [
       "Order_ID            545\n",
       "Product             545\n",
       "Quantity_Ordered    545\n",
       "Price_Each          545\n",
       "Order_Date          545\n",
       "Purchase_Address    545\n",
       "dtype: int64"
      ]
     },
     "execution_count": 17,
     "metadata": {},
     "output_type": "execute_result"
    }
   ],
   "source": [
    "#check for null after\n",
    "df.isnull().sum()"
   ]
  },
  {
   "cell_type": "markdown",
   "id": "e2cb4f62",
   "metadata": {},
   "source": [
    "Replace/Drop Nulls\n",
    "===="
   ]
  },
  {
   "cell_type": "code",
   "execution_count": 18,
   "id": "75908a04",
   "metadata": {},
   "outputs": [],
   "source": [
    "#drop all rows with nulls\n",
    "df = df.dropna()"
   ]
  },
  {
   "cell_type": "code",
   "execution_count": 19,
   "id": "37469715",
   "metadata": {},
   "outputs": [],
   "source": [
    "#reset index\n",
    "df = df.reset_index()\n",
    "df.drop(['index'], axis=1, inplace=True)"
   ]
  },
  {
   "cell_type": "code",
   "execution_count": 20,
   "id": "055088e3",
   "metadata": {},
   "outputs": [
    {
     "data": {
      "text/plain": [
       "Order_ID            0\n",
       "Product             0\n",
       "Quantity_Ordered    0\n",
       "Price_Each          0\n",
       "Order_Date          0\n",
       "Purchase_Address    0\n",
       "dtype: int64"
      ]
     },
     "execution_count": 20,
     "metadata": {},
     "output_type": "execute_result"
    }
   ],
   "source": [
    "#check for null after\n",
    "df.isnull().sum()"
   ]
  },
  {
   "cell_type": "markdown",
   "id": "730ac36a",
   "metadata": {},
   "source": [
    "Look for Duplicates\n",
    "===="
   ]
  },
  {
   "cell_type": "code",
   "execution_count": 21,
   "id": "716bafd0",
   "metadata": {},
   "outputs": [
    {
     "data": {
      "text/plain": [
       "264"
      ]
     },
     "execution_count": 21,
     "metadata": {},
     "output_type": "execute_result"
    }
   ],
   "source": [
    "#look for duplicates\n",
    "df.duplicated().sum()"
   ]
  },
  {
   "cell_type": "code",
   "execution_count": 22,
   "id": "b3504330",
   "metadata": {},
   "outputs": [],
   "source": [
    "#drop duplicates\n",
    "df = df.drop_duplicates()"
   ]
  },
  {
   "cell_type": "code",
   "execution_count": 23,
   "id": "e15ac864",
   "metadata": {},
   "outputs": [
    {
     "data": {
      "text/plain": [
       "0"
      ]
     },
     "execution_count": 23,
     "metadata": {},
     "output_type": "execute_result"
    }
   ],
   "source": [
    "#look for duplicates\n",
    "df.duplicated().sum()"
   ]
  },
  {
   "cell_type": "markdown",
   "id": "230d4c09",
   "metadata": {},
   "source": [
    "Look for Outliers\n",
    "===="
   ]
  },
  {
   "cell_type": "code",
   "execution_count": 24,
   "id": "8c9cfb9b",
   "metadata": {},
   "outputs": [
    {
     "data": {
      "text/html": [
       "<div>\n",
       "<style scoped>\n",
       "    .dataframe tbody tr th:only-of-type {\n",
       "        vertical-align: middle;\n",
       "    }\n",
       "\n",
       "    .dataframe tbody tr th {\n",
       "        vertical-align: top;\n",
       "    }\n",
       "\n",
       "    .dataframe thead th {\n",
       "        text-align: right;\n",
       "    }\n",
       "</style>\n",
       "<table border=\"1\" class=\"dataframe\">\n",
       "  <thead>\n",
       "    <tr style=\"text-align: right;\">\n",
       "      <th></th>\n",
       "      <th>count</th>\n",
       "      <th>unique</th>\n",
       "      <th>top</th>\n",
       "      <th>freq</th>\n",
       "    </tr>\n",
       "  </thead>\n",
       "  <tbody>\n",
       "    <tr>\n",
       "      <th>Order_ID</th>\n",
       "      <td>185686</td>\n",
       "      <td>178437</td>\n",
       "      <td>160873</td>\n",
       "      <td>5</td>\n",
       "    </tr>\n",
       "    <tr>\n",
       "      <th>Product</th>\n",
       "      <td>185686</td>\n",
       "      <td>19</td>\n",
       "      <td>USB-C Charging Cable</td>\n",
       "      <td>21859</td>\n",
       "    </tr>\n",
       "    <tr>\n",
       "      <th>Quantity_Ordered</th>\n",
       "      <td>185686</td>\n",
       "      <td>9</td>\n",
       "      <td>1</td>\n",
       "      <td>168291</td>\n",
       "    </tr>\n",
       "    <tr>\n",
       "      <th>Price_Each</th>\n",
       "      <td>185686</td>\n",
       "      <td>23</td>\n",
       "      <td>11.95</td>\n",
       "      <td>21859</td>\n",
       "    </tr>\n",
       "    <tr>\n",
       "      <th>Order_Date</th>\n",
       "      <td>185686</td>\n",
       "      <td>142395</td>\n",
       "      <td>12/15/19 20:16</td>\n",
       "      <td>8</td>\n",
       "    </tr>\n",
       "    <tr>\n",
       "      <th>Purchase_Address</th>\n",
       "      <td>185686</td>\n",
       "      <td>140787</td>\n",
       "      <td>193 Forest St, San Francisco, CA 94016</td>\n",
       "      <td>9</td>\n",
       "    </tr>\n",
       "  </tbody>\n",
       "</table>\n",
       "</div>"
      ],
      "text/plain": [
       "                   count  unique                                     top  \\\n",
       "Order_ID          185686  178437                                  160873   \n",
       "Product           185686      19                    USB-C Charging Cable   \n",
       "Quantity_Ordered  185686       9                                       1   \n",
       "Price_Each        185686      23                                   11.95   \n",
       "Order_Date        185686  142395                          12/15/19 20:16   \n",
       "Purchase_Address  185686  140787  193 Forest St, San Francisco, CA 94016   \n",
       "\n",
       "                    freq  \n",
       "Order_ID               5  \n",
       "Product            21859  \n",
       "Quantity_Ordered  168291  \n",
       "Price_Each         21859  \n",
       "Order_Date             8  \n",
       "Purchase_Address       9  "
      ]
     },
     "execution_count": 24,
     "metadata": {},
     "output_type": "execute_result"
    }
   ],
   "source": [
    "#summary stats\n",
    "df.describe().T"
   ]
  },
  {
   "cell_type": "code",
   "execution_count": 25,
   "id": "ac29fa1f",
   "metadata": {},
   "outputs": [
    {
     "data": {
      "text/html": [
       "<div>\n",
       "<style scoped>\n",
       "    .dataframe tbody tr th:only-of-type {\n",
       "        vertical-align: middle;\n",
       "    }\n",
       "\n",
       "    .dataframe tbody tr th {\n",
       "        vertical-align: top;\n",
       "    }\n",
       "\n",
       "    .dataframe thead th {\n",
       "        text-align: right;\n",
       "    }\n",
       "</style>\n",
       "<table border=\"1\" class=\"dataframe\">\n",
       "  <thead>\n",
       "    <tr style=\"text-align: right;\">\n",
       "      <th></th>\n",
       "      <th>Order_ID</th>\n",
       "      <th>Product</th>\n",
       "      <th>Quantity_Ordered</th>\n",
       "      <th>Price_Each</th>\n",
       "      <th>Order_Date</th>\n",
       "      <th>Purchase_Address</th>\n",
       "    </tr>\n",
       "  </thead>\n",
       "  <tbody>\n",
       "    <tr>\n",
       "      <th>count</th>\n",
       "      <td>185686</td>\n",
       "      <td>185686</td>\n",
       "      <td>185686</td>\n",
       "      <td>185686</td>\n",
       "      <td>185686</td>\n",
       "      <td>185686</td>\n",
       "    </tr>\n",
       "    <tr>\n",
       "      <th>unique</th>\n",
       "      <td>178437</td>\n",
       "      <td>19</td>\n",
       "      <td>9</td>\n",
       "      <td>23</td>\n",
       "      <td>142395</td>\n",
       "      <td>140787</td>\n",
       "    </tr>\n",
       "    <tr>\n",
       "      <th>top</th>\n",
       "      <td>160873</td>\n",
       "      <td>USB-C Charging Cable</td>\n",
       "      <td>1</td>\n",
       "      <td>11.95</td>\n",
       "      <td>12/15/19 20:16</td>\n",
       "      <td>193 Forest St, San Francisco, CA 94016</td>\n",
       "    </tr>\n",
       "    <tr>\n",
       "      <th>freq</th>\n",
       "      <td>5</td>\n",
       "      <td>21859</td>\n",
       "      <td>168291</td>\n",
       "      <td>21859</td>\n",
       "      <td>8</td>\n",
       "      <td>9</td>\n",
       "    </tr>\n",
       "  </tbody>\n",
       "</table>\n",
       "</div>"
      ],
      "text/plain": [
       "       Order_ID               Product Quantity_Ordered Price_Each  \\\n",
       "count    185686                185686           185686     185686   \n",
       "unique   178437                    19                9         23   \n",
       "top      160873  USB-C Charging Cable                1      11.95   \n",
       "freq          5                 21859           168291      21859   \n",
       "\n",
       "            Order_Date                        Purchase_Address  \n",
       "count           185686                                  185686  \n",
       "unique          142395                                  140787  \n",
       "top     12/15/19 20:16  193 Forest St, San Francisco, CA 94016  \n",
       "freq                 8                                       9  "
      ]
     },
     "execution_count": 25,
     "metadata": {},
     "output_type": "execute_result"
    }
   ],
   "source": [
    "#quick summary stats:categorical\n",
    "df.describe(include='object')"
   ]
  },
  {
   "cell_type": "code",
   "execution_count": 26,
   "id": "d35f51b5",
   "metadata": {},
   "outputs": [
    {
     "data": {
      "text/plain": [
       "Index(['Order_ID', 'Product', 'Quantity_Ordered', 'Price_Each', 'Order_Date',\n",
       "       'Purchase_Address'],\n",
       "      dtype='object')"
      ]
     },
     "execution_count": 26,
     "metadata": {},
     "output_type": "execute_result"
    }
   ],
   "source": [
    "df.columns"
   ]
  },
  {
   "cell_type": "code",
   "execution_count": 27,
   "id": "7055375b",
   "metadata": {},
   "outputs": [],
   "source": [
    "#Object > Float\n",
    "df['Quantity_Ordered'] = df['Quantity_Ordered'].astype(float)\n",
    "df['Price_Each'] = df['Price_Each'].astype(float)"
   ]
  },
  {
   "cell_type": "code",
   "execution_count": 28,
   "id": "ca8351f9",
   "metadata": {},
   "outputs": [
    {
     "name": "stdout",
     "output_type": "stream",
     "text": [
      "        Quantity_Ordered  Price_Each\n",
      "0               0.281094    1.548721\n",
      "1               0.281094    0.509457\n",
      "2               1.975898    0.518350\n",
      "3               0.281094    0.103740\n",
      "4               0.281094    0.518350\n",
      "...                  ...         ...\n",
      "185945          0.281094    0.509457\n",
      "185946          1.975898    0.542836\n",
      "185947          0.281094    0.647395\n",
      "185948          0.281094    0.518350\n",
      "185949          0.281094    0.253961\n",
      "\n",
      "[185686 rows x 2 columns]\n",
      "(array([    11,     12,     52, ..., 185636, 185654, 185656], dtype=int64), array([1, 0, 0, ..., 1, 1, 1], dtype=int64))\n"
     ]
    }
   ],
   "source": [
    "out = df.loc[:,['Quantity_Ordered', 'Price_Each']]\n",
    "z = np.abs(stats.zscore(out))\n",
    "print(z)\n",
    "threshold = 3\n",
    "print(np.where(z > 3))"
   ]
  },
  {
   "cell_type": "code",
   "execution_count": 33,
   "id": "320930d5",
   "metadata": {},
   "outputs": [
    {
     "name": "stdout",
     "output_type": "stream",
     "text": [
      "        Quantity_Ordered  Price_Each\n",
      "11                   1.0     1700.00\n",
      "12                   3.0        2.99\n",
      "52                   3.0        2.99\n",
      "185636               1.0       11.95\n",
      "185654               1.0       14.95\n",
      "185656               1.0      149.99\n"
     ]
    }
   ],
   "source": [
    "#look at outliers\n",
    "print(out.loc[[ 11, 12, 52, 185636, 185654, 185656]])"
   ]
  },
  {
   "cell_type": "code",
   "execution_count": 34,
   "id": "8b37aa73",
   "metadata": {},
   "outputs": [
    {
     "data": {
      "text/html": [
       "<div>\n",
       "<style scoped>\n",
       "    .dataframe tbody tr th:only-of-type {\n",
       "        vertical-align: middle;\n",
       "    }\n",
       "\n",
       "    .dataframe tbody tr th {\n",
       "        vertical-align: top;\n",
       "    }\n",
       "\n",
       "    .dataframe thead th {\n",
       "        text-align: right;\n",
       "    }\n",
       "</style>\n",
       "<table border=\"1\" class=\"dataframe\">\n",
       "  <thead>\n",
       "    <tr style=\"text-align: right;\">\n",
       "      <th></th>\n",
       "      <th>Order_ID</th>\n",
       "      <th>Product</th>\n",
       "      <th>Quantity_Ordered</th>\n",
       "      <th>Price_Each</th>\n",
       "      <th>Order_Date</th>\n",
       "      <th>Purchase_Address</th>\n",
       "    </tr>\n",
       "  </thead>\n",
       "  <tbody>\n",
       "    <tr>\n",
       "      <th>0</th>\n",
       "      <td>141234</td>\n",
       "      <td>iPhone</td>\n",
       "      <td>1.0</td>\n",
       "      <td>700.00</td>\n",
       "      <td>2019-01-22 21:25:00</td>\n",
       "      <td>944 Walnut St, Boston, MA 02215</td>\n",
       "    </tr>\n",
       "    <tr>\n",
       "      <th>6</th>\n",
       "      <td>141240</td>\n",
       "      <td>27in 4K Gaming Monitor</td>\n",
       "      <td>1.0</td>\n",
       "      <td>389.99</td>\n",
       "      <td>2019-01-26 12:16:00</td>\n",
       "      <td>979 Park St, Los Angeles, CA 90001</td>\n",
       "    </tr>\n",
       "    <tr>\n",
       "      <th>11</th>\n",
       "      <td>141245</td>\n",
       "      <td>Macbook Pro Laptop</td>\n",
       "      <td>1.0</td>\n",
       "      <td>1700.00</td>\n",
       "      <td>2019-01-31 10:12:00</td>\n",
       "      <td>322 6th St, San Francisco, CA 94016</td>\n",
       "    </tr>\n",
       "    <tr>\n",
       "      <th>14</th>\n",
       "      <td>141248</td>\n",
       "      <td>Flatscreen TV</td>\n",
       "      <td>1.0</td>\n",
       "      <td>300.00</td>\n",
       "      <td>2019-01-03 21:54:00</td>\n",
       "      <td>363 Spruce St, Austin, TX 73301</td>\n",
       "    </tr>\n",
       "    <tr>\n",
       "      <th>16</th>\n",
       "      <td>141250</td>\n",
       "      <td>Vareebadd Phone</td>\n",
       "      <td>1.0</td>\n",
       "      <td>400.00</td>\n",
       "      <td>2019-01-10 11:20:00</td>\n",
       "      <td>471 Center St, Los Angeles, CA 90001</td>\n",
       "    </tr>\n",
       "    <tr>\n",
       "      <th>...</th>\n",
       "      <td>...</td>\n",
       "      <td>...</td>\n",
       "      <td>...</td>\n",
       "      <td>...</td>\n",
       "      <td>...</td>\n",
       "      <td>...</td>\n",
       "    </tr>\n",
       "    <tr>\n",
       "      <th>185936</th>\n",
       "      <td>319657</td>\n",
       "      <td>LG Dryer</td>\n",
       "      <td>1.0</td>\n",
       "      <td>600.00</td>\n",
       "      <td>2019-12-05 13:22:00</td>\n",
       "      <td>159 Lake St, Portland, OR 97035</td>\n",
       "    </tr>\n",
       "    <tr>\n",
       "      <th>185942</th>\n",
       "      <td>319663</td>\n",
       "      <td>Flatscreen TV</td>\n",
       "      <td>1.0</td>\n",
       "      <td>300.00</td>\n",
       "      <td>2019-12-07 08:25:00</td>\n",
       "      <td>334 12th St, Atlanta, GA 30301</td>\n",
       "    </tr>\n",
       "    <tr>\n",
       "      <th>185943</th>\n",
       "      <td>319664</td>\n",
       "      <td>ThinkPad Laptop</td>\n",
       "      <td>1.0</td>\n",
       "      <td>999.99</td>\n",
       "      <td>2019-12-30 01:06:00</td>\n",
       "      <td>767 2nd St, San Francisco, CA 94016</td>\n",
       "    </tr>\n",
       "    <tr>\n",
       "      <th>185944</th>\n",
       "      <td>319665</td>\n",
       "      <td>iPhone</td>\n",
       "      <td>1.0</td>\n",
       "      <td>700.00</td>\n",
       "      <td>2019-12-15 11:13:00</td>\n",
       "      <td>377 1st St, Atlanta, GA 30301</td>\n",
       "    </tr>\n",
       "    <tr>\n",
       "      <th>185947</th>\n",
       "      <td>319668</td>\n",
       "      <td>Vareebadd Phone</td>\n",
       "      <td>1.0</td>\n",
       "      <td>400.00</td>\n",
       "      <td>2019-12-09 06:43:00</td>\n",
       "      <td>273 Wilson St, Seattle, WA 98101</td>\n",
       "    </tr>\n",
       "  </tbody>\n",
       "</table>\n",
       "<p>41779 rows × 6 columns</p>\n",
       "</div>"
      ],
      "text/plain": [
       "       Order_ID                 Product  Quantity_Ordered  Price_Each  \\\n",
       "0        141234                  iPhone               1.0      700.00   \n",
       "6        141240  27in 4K Gaming Monitor               1.0      389.99   \n",
       "11       141245      Macbook Pro Laptop               1.0     1700.00   \n",
       "14       141248           Flatscreen TV               1.0      300.00   \n",
       "16       141250         Vareebadd Phone               1.0      400.00   \n",
       "...         ...                     ...               ...         ...   \n",
       "185936   319657                LG Dryer               1.0      600.00   \n",
       "185942   319663           Flatscreen TV               1.0      300.00   \n",
       "185943   319664         ThinkPad Laptop               1.0      999.99   \n",
       "185944   319665                  iPhone               1.0      700.00   \n",
       "185947   319668         Vareebadd Phone               1.0      400.00   \n",
       "\n",
       "                Order_Date                      Purchase_Address  \n",
       "0      2019-01-22 21:25:00       944 Walnut St, Boston, MA 02215  \n",
       "6      2019-01-26 12:16:00    979 Park St, Los Angeles, CA 90001  \n",
       "11     2019-01-31 10:12:00   322 6th St, San Francisco, CA 94016  \n",
       "14     2019-01-03 21:54:00       363 Spruce St, Austin, TX 73301  \n",
       "16     2019-01-10 11:20:00  471 Center St, Los Angeles, CA 90001  \n",
       "...                    ...                                   ...  \n",
       "185936 2019-12-05 13:22:00       159 Lake St, Portland, OR 97035  \n",
       "185942 2019-12-07 08:25:00        334 12th St, Atlanta, GA 30301  \n",
       "185943 2019-12-30 01:06:00   767 2nd St, San Francisco, CA 94016  \n",
       "185944 2019-12-15 11:13:00         377 1st St, Atlanta, GA 30301  \n",
       "185947 2019-12-09 06:43:00      273 Wilson St, Seattle, WA 98101  \n",
       "\n",
       "[41779 rows x 6 columns]"
      ]
     },
     "execution_count": 34,
     "metadata": {},
     "output_type": "execute_result"
    }
   ],
   "source": [
    "df.loc[df['Price_Each'] > 150]"
   ]
  },
  {
   "cell_type": "markdown",
   "id": "31d3ce69",
   "metadata": {},
   "source": [
    "Outlier Decision\n",
    "==="
   ]
  },
  {
   "cell_type": "code",
   "execution_count": 35,
   "id": "fc76c951",
   "metadata": {},
   "outputs": [],
   "source": [
    "#Not Deleting Any Outlier"
   ]
  },
  {
   "cell_type": "markdown",
   "id": "a910c81f",
   "metadata": {},
   "source": [
    "Change Data Type\n",
    "==="
   ]
  },
  {
   "cell_type": "code",
   "execution_count": 36,
   "id": "64f3dfdc",
   "metadata": {},
   "outputs": [],
   "source": [
    "#Date\n",
    "df['Order_Date'] = pd.to_datetime(df['Order_Date'])"
   ]
  },
  {
   "cell_type": "code",
   "execution_count": 37,
   "id": "a3bc08c3",
   "metadata": {},
   "outputs": [],
   "source": [
    "#Adding Quarter and Month Columns for Groupby\n",
    "df['Order_Day'] = df['Order_Date'].dt.to_period('D')\n",
    "df['Order_Quarter'] = df['Order_Date'].dt.to_period('Q')\n",
    "df['Order_Month'] = df['Order_Date'].dt.to_period('M')\n",
    "df['Quarter'] = df['Order_Date'].dt.quarter\n",
    "df['Month'] = pd.DatetimeIndex(df['Order_Date']).month"
   ]
  },
  {
   "cell_type": "code",
   "execution_count": 38,
   "id": "d8d5a3fb",
   "metadata": {},
   "outputs": [],
   "source": [
    "#Getting States / Zip Codes\n",
    "df[\"City\"] = df[\"Purchase_Address\"].str.split(\",\", expand=True)[1]\n",
    "df[\"Dummy\"] = df[\"Purchase_Address\"].str.split(\",\", expand=True)[2]\n",
    "df[\"State\"] = df[\"Dummy\"].str.split(\" \", expand=True)[1]\n",
    "df[\"Zip\"] = df[\"Dummy\"].str.split(\" \", expand=True)[2]\n",
    "df.drop(['Dummy'], axis=1, inplace=True)"
   ]
  },
  {
   "cell_type": "code",
   "execution_count": 39,
   "id": "ace257cd",
   "metadata": {},
   "outputs": [],
   "source": [
    "#Region List\n",
    "west = ['WA','OR','CA','ID','NV','MT','WY','UT','AZ','CO','NM']\n",
    "midwest = ['ND','MN','WI','MI','SD','NE','KS','IA','MO','IL','IN','OH']\n",
    "south = ['TX','OK','AR','LA','MS','TN','KY','AL','GA','FL','SC','NC','VA','WV','MD','DE']\n",
    "northeast = ['PA','NJ','NY','CT','MA','RI','VT','NH','ME']"
   ]
  },
  {
   "cell_type": "code",
   "execution_count": 40,
   "id": "5b2cd556",
   "metadata": {},
   "outputs": [],
   "source": [
    "#Getting Regions\n",
    "s=pd.DataFrame([west,midwest,south,northeast],index=['West','Midwest','South','Northeast'])\n",
    "s=s.reset_index().melt('index')\n",
    "df['Region'] = df['State'].map(dict(zip(s['value'],s['index'])))"
   ]
  },
  {
   "cell_type": "code",
   "execution_count": 41,
   "id": "765e1108",
   "metadata": {},
   "outputs": [
    {
     "data": {
      "text/html": [
       "<div>\n",
       "<style scoped>\n",
       "    .dataframe tbody tr th:only-of-type {\n",
       "        vertical-align: middle;\n",
       "    }\n",
       "\n",
       "    .dataframe tbody tr th {\n",
       "        vertical-align: top;\n",
       "    }\n",
       "\n",
       "    .dataframe thead th {\n",
       "        text-align: right;\n",
       "    }\n",
       "</style>\n",
       "<table border=\"1\" class=\"dataframe\">\n",
       "  <thead>\n",
       "    <tr style=\"text-align: right;\">\n",
       "      <th></th>\n",
       "      <th>Order_ID</th>\n",
       "      <th>Product</th>\n",
       "      <th>Quantity_Ordered</th>\n",
       "      <th>Price_Each</th>\n",
       "      <th>Order_Date</th>\n",
       "      <th>Purchase_Address</th>\n",
       "      <th>Order_Day</th>\n",
       "      <th>Order_Quarter</th>\n",
       "      <th>Order_Month</th>\n",
       "      <th>Quarter</th>\n",
       "      <th>Month</th>\n",
       "      <th>City</th>\n",
       "      <th>State</th>\n",
       "      <th>Zip</th>\n",
       "      <th>Region</th>\n",
       "    </tr>\n",
       "  </thead>\n",
       "  <tbody>\n",
       "    <tr>\n",
       "      <th>0</th>\n",
       "      <td>141234</td>\n",
       "      <td>iPhone</td>\n",
       "      <td>1.0</td>\n",
       "      <td>700.00</td>\n",
       "      <td>2019-01-22 21:25:00</td>\n",
       "      <td>944 Walnut St, Boston, MA 02215</td>\n",
       "      <td>2019-01-22</td>\n",
       "      <td>2019Q1</td>\n",
       "      <td>2019-01</td>\n",
       "      <td>1</td>\n",
       "      <td>1</td>\n",
       "      <td>Boston</td>\n",
       "      <td>MA</td>\n",
       "      <td>02215</td>\n",
       "      <td>Northeast</td>\n",
       "    </tr>\n",
       "    <tr>\n",
       "      <th>1</th>\n",
       "      <td>141235</td>\n",
       "      <td>Lightning Charging Cable</td>\n",
       "      <td>1.0</td>\n",
       "      <td>14.95</td>\n",
       "      <td>2019-01-28 14:15:00</td>\n",
       "      <td>185 Maple St, Portland, OR 97035</td>\n",
       "      <td>2019-01-28</td>\n",
       "      <td>2019Q1</td>\n",
       "      <td>2019-01</td>\n",
       "      <td>1</td>\n",
       "      <td>1</td>\n",
       "      <td>Portland</td>\n",
       "      <td>OR</td>\n",
       "      <td>97035</td>\n",
       "      <td>West</td>\n",
       "    </tr>\n",
       "    <tr>\n",
       "      <th>2</th>\n",
       "      <td>141236</td>\n",
       "      <td>Wired Headphones</td>\n",
       "      <td>2.0</td>\n",
       "      <td>11.99</td>\n",
       "      <td>2019-01-17 13:33:00</td>\n",
       "      <td>538 Adams St, San Francisco, CA 94016</td>\n",
       "      <td>2019-01-17</td>\n",
       "      <td>2019Q1</td>\n",
       "      <td>2019-01</td>\n",
       "      <td>1</td>\n",
       "      <td>1</td>\n",
       "      <td>San Francisco</td>\n",
       "      <td>CA</td>\n",
       "      <td>94016</td>\n",
       "      <td>West</td>\n",
       "    </tr>\n",
       "    <tr>\n",
       "      <th>3</th>\n",
       "      <td>141237</td>\n",
       "      <td>27in FHD Monitor</td>\n",
       "      <td>1.0</td>\n",
       "      <td>149.99</td>\n",
       "      <td>2019-01-05 20:33:00</td>\n",
       "      <td>738 10th St, Los Angeles, CA 90001</td>\n",
       "      <td>2019-01-05</td>\n",
       "      <td>2019Q1</td>\n",
       "      <td>2019-01</td>\n",
       "      <td>1</td>\n",
       "      <td>1</td>\n",
       "      <td>Los Angeles</td>\n",
       "      <td>CA</td>\n",
       "      <td>90001</td>\n",
       "      <td>West</td>\n",
       "    </tr>\n",
       "    <tr>\n",
       "      <th>4</th>\n",
       "      <td>141238</td>\n",
       "      <td>Wired Headphones</td>\n",
       "      <td>1.0</td>\n",
       "      <td>11.99</td>\n",
       "      <td>2019-01-25 11:59:00</td>\n",
       "      <td>387 10th St, Austin, TX 73301</td>\n",
       "      <td>2019-01-25</td>\n",
       "      <td>2019Q1</td>\n",
       "      <td>2019-01</td>\n",
       "      <td>1</td>\n",
       "      <td>1</td>\n",
       "      <td>Austin</td>\n",
       "      <td>TX</td>\n",
       "      <td>73301</td>\n",
       "      <td>South</td>\n",
       "    </tr>\n",
       "  </tbody>\n",
       "</table>\n",
       "</div>"
      ],
      "text/plain": [
       "  Order_ID                   Product  Quantity_Ordered  Price_Each  \\\n",
       "0   141234                    iPhone               1.0      700.00   \n",
       "1   141235  Lightning Charging Cable               1.0       14.95   \n",
       "2   141236          Wired Headphones               2.0       11.99   \n",
       "3   141237          27in FHD Monitor               1.0      149.99   \n",
       "4   141238          Wired Headphones               1.0       11.99   \n",
       "\n",
       "           Order_Date                       Purchase_Address   Order_Day  \\\n",
       "0 2019-01-22 21:25:00        944 Walnut St, Boston, MA 02215  2019-01-22   \n",
       "1 2019-01-28 14:15:00       185 Maple St, Portland, OR 97035  2019-01-28   \n",
       "2 2019-01-17 13:33:00  538 Adams St, San Francisco, CA 94016  2019-01-17   \n",
       "3 2019-01-05 20:33:00     738 10th St, Los Angeles, CA 90001  2019-01-05   \n",
       "4 2019-01-25 11:59:00          387 10th St, Austin, TX 73301  2019-01-25   \n",
       "\n",
       "  Order_Quarter Order_Month  Quarter  Month            City State    Zip  \\\n",
       "0        2019Q1     2019-01        1      1          Boston    MA  02215   \n",
       "1        2019Q1     2019-01        1      1        Portland    OR  97035   \n",
       "2        2019Q1     2019-01        1      1   San Francisco    CA  94016   \n",
       "3        2019Q1     2019-01        1      1     Los Angeles    CA  90001   \n",
       "4        2019Q1     2019-01        1      1          Austin    TX  73301   \n",
       "\n",
       "      Region  \n",
       "0  Northeast  \n",
       "1       West  \n",
       "2       West  \n",
       "3       West  \n",
       "4      South  "
      ]
     },
     "execution_count": 41,
     "metadata": {},
     "output_type": "execute_result"
    }
   ],
   "source": [
    "df.head()"
   ]
  },
  {
   "cell_type": "markdown",
   "id": "ac74a03c",
   "metadata": {},
   "source": [
    "Transforming\n",
    "==="
   ]
  },
  {
   "cell_type": "code",
   "execution_count": 42,
   "id": "6c8415c2",
   "metadata": {},
   "outputs": [],
   "source": [
    "#Calculated/Derived Field\n",
    "df[\"Total\"] = df[\"Quantity_Ordered\"]  * df[\"Price_Each\"] "
   ]
  },
  {
   "cell_type": "code",
   "execution_count": 43,
   "id": "02a6ee3b",
   "metadata": {},
   "outputs": [
    {
     "data": {
      "text/html": [
       "<div>\n",
       "<style scoped>\n",
       "    .dataframe tbody tr th:only-of-type {\n",
       "        vertical-align: middle;\n",
       "    }\n",
       "\n",
       "    .dataframe tbody tr th {\n",
       "        vertical-align: top;\n",
       "    }\n",
       "\n",
       "    .dataframe thead th {\n",
       "        text-align: right;\n",
       "    }\n",
       "</style>\n",
       "<table border=\"1\" class=\"dataframe\">\n",
       "  <thead>\n",
       "    <tr style=\"text-align: right;\">\n",
       "      <th></th>\n",
       "      <th>Order_ID</th>\n",
       "      <th>Product</th>\n",
       "      <th>Quantity_Ordered</th>\n",
       "      <th>Price_Each</th>\n",
       "      <th>Order_Date</th>\n",
       "      <th>Purchase_Address</th>\n",
       "      <th>Order_Day</th>\n",
       "      <th>Order_Quarter</th>\n",
       "      <th>Order_Month</th>\n",
       "      <th>Quarter</th>\n",
       "      <th>Month</th>\n",
       "      <th>City</th>\n",
       "      <th>State</th>\n",
       "      <th>Zip</th>\n",
       "      <th>Region</th>\n",
       "      <th>Total</th>\n",
       "    </tr>\n",
       "  </thead>\n",
       "  <tbody>\n",
       "    <tr>\n",
       "      <th>0</th>\n",
       "      <td>141234</td>\n",
       "      <td>iPhone</td>\n",
       "      <td>1.0</td>\n",
       "      <td>700.00</td>\n",
       "      <td>2019-01-22 21:25:00</td>\n",
       "      <td>944 Walnut St, Boston, MA 02215</td>\n",
       "      <td>2019-01-22</td>\n",
       "      <td>2019Q1</td>\n",
       "      <td>2019-01</td>\n",
       "      <td>1</td>\n",
       "      <td>1</td>\n",
       "      <td>Boston</td>\n",
       "      <td>MA</td>\n",
       "      <td>02215</td>\n",
       "      <td>Northeast</td>\n",
       "      <td>700.00</td>\n",
       "    </tr>\n",
       "    <tr>\n",
       "      <th>1</th>\n",
       "      <td>141235</td>\n",
       "      <td>Lightning Charging Cable</td>\n",
       "      <td>1.0</td>\n",
       "      <td>14.95</td>\n",
       "      <td>2019-01-28 14:15:00</td>\n",
       "      <td>185 Maple St, Portland, OR 97035</td>\n",
       "      <td>2019-01-28</td>\n",
       "      <td>2019Q1</td>\n",
       "      <td>2019-01</td>\n",
       "      <td>1</td>\n",
       "      <td>1</td>\n",
       "      <td>Portland</td>\n",
       "      <td>OR</td>\n",
       "      <td>97035</td>\n",
       "      <td>West</td>\n",
       "      <td>14.95</td>\n",
       "    </tr>\n",
       "    <tr>\n",
       "      <th>2</th>\n",
       "      <td>141236</td>\n",
       "      <td>Wired Headphones</td>\n",
       "      <td>2.0</td>\n",
       "      <td>11.99</td>\n",
       "      <td>2019-01-17 13:33:00</td>\n",
       "      <td>538 Adams St, San Francisco, CA 94016</td>\n",
       "      <td>2019-01-17</td>\n",
       "      <td>2019Q1</td>\n",
       "      <td>2019-01</td>\n",
       "      <td>1</td>\n",
       "      <td>1</td>\n",
       "      <td>San Francisco</td>\n",
       "      <td>CA</td>\n",
       "      <td>94016</td>\n",
       "      <td>West</td>\n",
       "      <td>23.98</td>\n",
       "    </tr>\n",
       "    <tr>\n",
       "      <th>3</th>\n",
       "      <td>141237</td>\n",
       "      <td>27in FHD Monitor</td>\n",
       "      <td>1.0</td>\n",
       "      <td>149.99</td>\n",
       "      <td>2019-01-05 20:33:00</td>\n",
       "      <td>738 10th St, Los Angeles, CA 90001</td>\n",
       "      <td>2019-01-05</td>\n",
       "      <td>2019Q1</td>\n",
       "      <td>2019-01</td>\n",
       "      <td>1</td>\n",
       "      <td>1</td>\n",
       "      <td>Los Angeles</td>\n",
       "      <td>CA</td>\n",
       "      <td>90001</td>\n",
       "      <td>West</td>\n",
       "      <td>149.99</td>\n",
       "    </tr>\n",
       "    <tr>\n",
       "      <th>4</th>\n",
       "      <td>141238</td>\n",
       "      <td>Wired Headphones</td>\n",
       "      <td>1.0</td>\n",
       "      <td>11.99</td>\n",
       "      <td>2019-01-25 11:59:00</td>\n",
       "      <td>387 10th St, Austin, TX 73301</td>\n",
       "      <td>2019-01-25</td>\n",
       "      <td>2019Q1</td>\n",
       "      <td>2019-01</td>\n",
       "      <td>1</td>\n",
       "      <td>1</td>\n",
       "      <td>Austin</td>\n",
       "      <td>TX</td>\n",
       "      <td>73301</td>\n",
       "      <td>South</td>\n",
       "      <td>11.99</td>\n",
       "    </tr>\n",
       "  </tbody>\n",
       "</table>\n",
       "</div>"
      ],
      "text/plain": [
       "  Order_ID                   Product  Quantity_Ordered  Price_Each  \\\n",
       "0   141234                    iPhone               1.0      700.00   \n",
       "1   141235  Lightning Charging Cable               1.0       14.95   \n",
       "2   141236          Wired Headphones               2.0       11.99   \n",
       "3   141237          27in FHD Monitor               1.0      149.99   \n",
       "4   141238          Wired Headphones               1.0       11.99   \n",
       "\n",
       "           Order_Date                       Purchase_Address   Order_Day  \\\n",
       "0 2019-01-22 21:25:00        944 Walnut St, Boston, MA 02215  2019-01-22   \n",
       "1 2019-01-28 14:15:00       185 Maple St, Portland, OR 97035  2019-01-28   \n",
       "2 2019-01-17 13:33:00  538 Adams St, San Francisco, CA 94016  2019-01-17   \n",
       "3 2019-01-05 20:33:00     738 10th St, Los Angeles, CA 90001  2019-01-05   \n",
       "4 2019-01-25 11:59:00          387 10th St, Austin, TX 73301  2019-01-25   \n",
       "\n",
       "  Order_Quarter Order_Month  Quarter  Month            City State    Zip  \\\n",
       "0        2019Q1     2019-01        1      1          Boston    MA  02215   \n",
       "1        2019Q1     2019-01        1      1        Portland    OR  97035   \n",
       "2        2019Q1     2019-01        1      1   San Francisco    CA  94016   \n",
       "3        2019Q1     2019-01        1      1     Los Angeles    CA  90001   \n",
       "4        2019Q1     2019-01        1      1          Austin    TX  73301   \n",
       "\n",
       "      Region   Total  \n",
       "0  Northeast  700.00  \n",
       "1       West   14.95  \n",
       "2       West   23.98  \n",
       "3       West  149.99  \n",
       "4      South   11.99  "
      ]
     },
     "execution_count": 43,
     "metadata": {},
     "output_type": "execute_result"
    }
   ],
   "source": [
    "df.head()"
   ]
  },
  {
   "cell_type": "code",
   "execution_count": 44,
   "id": "0888e7a9",
   "metadata": {},
   "outputs": [
    {
     "data": {
      "text/html": [
       "<div>\n",
       "<style scoped>\n",
       "    .dataframe tbody tr th:only-of-type {\n",
       "        vertical-align: middle;\n",
       "    }\n",
       "\n",
       "    .dataframe tbody tr th {\n",
       "        vertical-align: top;\n",
       "    }\n",
       "\n",
       "    .dataframe thead th {\n",
       "        text-align: right;\n",
       "    }\n",
       "</style>\n",
       "<table border=\"1\" class=\"dataframe\">\n",
       "  <thead>\n",
       "    <tr style=\"text-align: right;\">\n",
       "      <th></th>\n",
       "      <th>Order_ID</th>\n",
       "      <th>Product</th>\n",
       "      <th>Quantity_Ordered</th>\n",
       "      <th>Price_Each</th>\n",
       "      <th>Order_Date</th>\n",
       "      <th>Purchase_Address</th>\n",
       "      <th>Order_Day</th>\n",
       "      <th>Order_Quarter</th>\n",
       "      <th>Order_Month</th>\n",
       "      <th>Quarter</th>\n",
       "      <th>Month</th>\n",
       "      <th>City</th>\n",
       "      <th>State</th>\n",
       "      <th>Zip</th>\n",
       "      <th>Region</th>\n",
       "      <th>Total</th>\n",
       "    </tr>\n",
       "  </thead>\n",
       "  <tbody>\n",
       "    <tr>\n",
       "      <th>185945</th>\n",
       "      <td>319666</td>\n",
       "      <td>Lightning Charging Cable</td>\n",
       "      <td>1.0</td>\n",
       "      <td>14.95</td>\n",
       "      <td>2019-12-11 20:58:00</td>\n",
       "      <td>14 Madison St, San Francisco, CA 94016</td>\n",
       "      <td>2019-12-11</td>\n",
       "      <td>2019Q4</td>\n",
       "      <td>2019-12</td>\n",
       "      <td>4</td>\n",
       "      <td>12</td>\n",
       "      <td>San Francisco</td>\n",
       "      <td>CA</td>\n",
       "      <td>94016</td>\n",
       "      <td>West</td>\n",
       "      <td>14.95</td>\n",
       "    </tr>\n",
       "    <tr>\n",
       "      <th>185946</th>\n",
       "      <td>319667</td>\n",
       "      <td>AA Batteries (4-pack)</td>\n",
       "      <td>2.0</td>\n",
       "      <td>3.84</td>\n",
       "      <td>2019-12-01 12:01:00</td>\n",
       "      <td>549 Willow St, Los Angeles, CA 90001</td>\n",
       "      <td>2019-12-01</td>\n",
       "      <td>2019Q4</td>\n",
       "      <td>2019-12</td>\n",
       "      <td>4</td>\n",
       "      <td>12</td>\n",
       "      <td>Los Angeles</td>\n",
       "      <td>CA</td>\n",
       "      <td>90001</td>\n",
       "      <td>West</td>\n",
       "      <td>7.68</td>\n",
       "    </tr>\n",
       "    <tr>\n",
       "      <th>185947</th>\n",
       "      <td>319668</td>\n",
       "      <td>Vareebadd Phone</td>\n",
       "      <td>1.0</td>\n",
       "      <td>400.00</td>\n",
       "      <td>2019-12-09 06:43:00</td>\n",
       "      <td>273 Wilson St, Seattle, WA 98101</td>\n",
       "      <td>2019-12-09</td>\n",
       "      <td>2019Q4</td>\n",
       "      <td>2019-12</td>\n",
       "      <td>4</td>\n",
       "      <td>12</td>\n",
       "      <td>Seattle</td>\n",
       "      <td>WA</td>\n",
       "      <td>98101</td>\n",
       "      <td>West</td>\n",
       "      <td>400.00</td>\n",
       "    </tr>\n",
       "    <tr>\n",
       "      <th>185948</th>\n",
       "      <td>319669</td>\n",
       "      <td>Wired Headphones</td>\n",
       "      <td>1.0</td>\n",
       "      <td>11.99</td>\n",
       "      <td>2019-12-03 10:39:00</td>\n",
       "      <td>778 River St, Dallas, TX 75001</td>\n",
       "      <td>2019-12-03</td>\n",
       "      <td>2019Q4</td>\n",
       "      <td>2019-12</td>\n",
       "      <td>4</td>\n",
       "      <td>12</td>\n",
       "      <td>Dallas</td>\n",
       "      <td>TX</td>\n",
       "      <td>75001</td>\n",
       "      <td>South</td>\n",
       "      <td>11.99</td>\n",
       "    </tr>\n",
       "    <tr>\n",
       "      <th>185949</th>\n",
       "      <td>319670</td>\n",
       "      <td>Bose SoundSport Headphones</td>\n",
       "      <td>1.0</td>\n",
       "      <td>99.99</td>\n",
       "      <td>2019-12-21 21:45:00</td>\n",
       "      <td>747 Chestnut St, Los Angeles, CA 90001</td>\n",
       "      <td>2019-12-21</td>\n",
       "      <td>2019Q4</td>\n",
       "      <td>2019-12</td>\n",
       "      <td>4</td>\n",
       "      <td>12</td>\n",
       "      <td>Los Angeles</td>\n",
       "      <td>CA</td>\n",
       "      <td>90001</td>\n",
       "      <td>West</td>\n",
       "      <td>99.99</td>\n",
       "    </tr>\n",
       "  </tbody>\n",
       "</table>\n",
       "</div>"
      ],
      "text/plain": [
       "       Order_ID                     Product  Quantity_Ordered  Price_Each  \\\n",
       "185945   319666    Lightning Charging Cable               1.0       14.95   \n",
       "185946   319667       AA Batteries (4-pack)               2.0        3.84   \n",
       "185947   319668             Vareebadd Phone               1.0      400.00   \n",
       "185948   319669            Wired Headphones               1.0       11.99   \n",
       "185949   319670  Bose SoundSport Headphones               1.0       99.99   \n",
       "\n",
       "                Order_Date                        Purchase_Address  \\\n",
       "185945 2019-12-11 20:58:00  14 Madison St, San Francisco, CA 94016   \n",
       "185946 2019-12-01 12:01:00    549 Willow St, Los Angeles, CA 90001   \n",
       "185947 2019-12-09 06:43:00        273 Wilson St, Seattle, WA 98101   \n",
       "185948 2019-12-03 10:39:00          778 River St, Dallas, TX 75001   \n",
       "185949 2019-12-21 21:45:00  747 Chestnut St, Los Angeles, CA 90001   \n",
       "\n",
       "         Order_Day Order_Quarter Order_Month  Quarter  Month            City  \\\n",
       "185945  2019-12-11        2019Q4     2019-12        4     12   San Francisco   \n",
       "185946  2019-12-01        2019Q4     2019-12        4     12     Los Angeles   \n",
       "185947  2019-12-09        2019Q4     2019-12        4     12         Seattle   \n",
       "185948  2019-12-03        2019Q4     2019-12        4     12          Dallas   \n",
       "185949  2019-12-21        2019Q4     2019-12        4     12     Los Angeles   \n",
       "\n",
       "       State    Zip Region   Total  \n",
       "185945    CA  94016   West   14.95  \n",
       "185946    CA  90001   West    7.68  \n",
       "185947    WA  98101   West  400.00  \n",
       "185948    TX  75001  South   11.99  \n",
       "185949    CA  90001   West   99.99  "
      ]
     },
     "execution_count": 44,
     "metadata": {},
     "output_type": "execute_result"
    }
   ],
   "source": [
    "df.tail()"
   ]
  },
  {
   "cell_type": "code",
   "execution_count": 45,
   "id": "5178c412",
   "metadata": {},
   "outputs": [],
   "source": [
    "#Creating Category\n",
    "df['Category'] = 0\n",
    "#Add to column\n",
    "df.loc[df['Product'] == 'iPhone', 'Category'] = 'Phone'\n",
    "df.loc[df['Product'] == 'Vareebadd Phone', 'Category'] = 'Phone'\n",
    "df.loc[df['Product'] == 'Google Phone', 'Category'] = 'Phone'\n",
    "df.loc[df['Product'] == '20in Monitor', 'Category'] = 'Monitor'\n",
    "df.loc[df['Product'] == '27in 4K Gaming Monitor', 'Category'] = 'Monitor'\n",
    "df.loc[df['Product'] == '27in FHD Monitor', 'Category'] = 'Monitor'\n",
    "df.loc[df['Product'] == '34in Ultrawide Monitor', 'Category'] = 'Monitor'\n",
    "df.loc[df['Product'] == 'AA Batteries (4-pack)', 'Category'] = 'Batteries'\n",
    "df.loc[df['Product'] == 'AAA Batteries (4-pack)', 'Category'] = 'Batteries'\n",
    "df.loc[df['Product'] == 'Flatscreen TV', 'Category'] = 'TV'\n",
    "df.loc[df['Product'] == 'LG Washing Machine', 'Category'] = 'Appliance'\n",
    "df.loc[df['Product'] == 'LG Dryer', 'Category'] = 'Appliance'\n",
    "df.loc[df['Product'] == 'Lightning Charging Cable', 'Category'] = 'Accessories'\n",
    "df.loc[df['Product'] == 'Apple Airpods Headphones', 'Category'] = 'Accessories'\n",
    "df.loc[df['Product'] == 'Wired Headphones', 'Category'] = 'Accessories'\n",
    "df.loc[df['Product'] == 'Bose SoundSport Headphones', 'Category'] = 'Accessories'\n",
    "df.loc[df['Product'] == 'USB-C Charging Cable', 'Category'] = 'Accessories'\n",
    "df.loc[df['Product'] == 'Macbook Pro Laptop', 'Category'] = 'Laptop'\n",
    "df.loc[df['Product'] == 'ThinkPad Laptop', 'Category'] = 'Laptop'"
   ]
  },
  {
   "cell_type": "code",
   "execution_count": 46,
   "id": "cca5b3f0",
   "metadata": {},
   "outputs": [
    {
     "data": {
      "text/plain": [
       "Accessories    0.490834\n",
       "Batteries      0.221718\n",
       "Monitor        0.129224\n",
       "Phone          0.077696\n",
       "Laptop         0.047645\n",
       "TV             0.025818\n",
       "Appliance      0.007066\n",
       "Name: Category, dtype: float64"
      ]
     },
     "execution_count": 46,
     "metadata": {},
     "output_type": "execute_result"
    }
   ],
   "source": [
    "#look at target variable spread\n",
    "df['Category'].value_counts(normalize=True)"
   ]
  },
  {
   "cell_type": "markdown",
   "id": "f09d00e2",
   "metadata": {},
   "source": [
    "Descriptive Analysis\n",
    "==="
   ]
  },
  {
   "cell_type": "code",
   "execution_count": 43,
   "id": "aa0419a2",
   "metadata": {},
   "outputs": [
    {
     "data": {
      "text/html": [
       "<div>\n",
       "<style scoped>\n",
       "    .dataframe tbody tr th:only-of-type {\n",
       "        vertical-align: middle;\n",
       "    }\n",
       "\n",
       "    .dataframe tbody tr th {\n",
       "        vertical-align: top;\n",
       "    }\n",
       "\n",
       "    .dataframe thead th {\n",
       "        text-align: right;\n",
       "    }\n",
       "</style>\n",
       "<table border=\"1\" class=\"dataframe\">\n",
       "  <thead>\n",
       "    <tr style=\"text-align: right;\">\n",
       "      <th>Product</th>\n",
       "      <th>20in Monitor</th>\n",
       "      <th>27in 4K Gaming Monitor</th>\n",
       "      <th>27in FHD Monitor</th>\n",
       "      <th>34in Ultrawide Monitor</th>\n",
       "      <th>AA Batteries (4-pack)</th>\n",
       "      <th>AAA Batteries (4-pack)</th>\n",
       "      <th>Apple Airpods Headphones</th>\n",
       "      <th>Bose SoundSport Headphones</th>\n",
       "      <th>Flatscreen TV</th>\n",
       "      <th>Google Phone</th>\n",
       "      <th>LG Dryer</th>\n",
       "      <th>LG Washing Machine</th>\n",
       "      <th>Lightning Charging Cable</th>\n",
       "      <th>Macbook Pro Laptop</th>\n",
       "      <th>ThinkPad Laptop</th>\n",
       "      <th>USB-C Charging Cable</th>\n",
       "      <th>Vareebadd Phone</th>\n",
       "      <th>Wired Headphones</th>\n",
       "      <th>iPhone</th>\n",
       "      <th>All</th>\n",
       "    </tr>\n",
       "    <tr>\n",
       "      <th>Price_Each</th>\n",
       "      <th></th>\n",
       "      <th></th>\n",
       "      <th></th>\n",
       "      <th></th>\n",
       "      <th></th>\n",
       "      <th></th>\n",
       "      <th></th>\n",
       "      <th></th>\n",
       "      <th></th>\n",
       "      <th></th>\n",
       "      <th></th>\n",
       "      <th></th>\n",
       "      <th></th>\n",
       "      <th></th>\n",
       "      <th></th>\n",
       "      <th></th>\n",
       "      <th></th>\n",
       "      <th></th>\n",
       "      <th></th>\n",
       "      <th></th>\n",
       "    </tr>\n",
       "  </thead>\n",
       "  <tbody>\n",
       "    <tr>\n",
       "      <th>2.99</th>\n",
       "      <td>0</td>\n",
       "      <td>0</td>\n",
       "      <td>0</td>\n",
       "      <td>0</td>\n",
       "      <td>0</td>\n",
       "      <td>20612</td>\n",
       "      <td>0</td>\n",
       "      <td>0</td>\n",
       "      <td>0</td>\n",
       "      <td>0</td>\n",
       "      <td>0</td>\n",
       "      <td>0</td>\n",
       "      <td>0</td>\n",
       "      <td>0</td>\n",
       "      <td>0</td>\n",
       "      <td>0</td>\n",
       "      <td>0</td>\n",
       "      <td>0</td>\n",
       "      <td>0</td>\n",
       "      <td>20612</td>\n",
       "    </tr>\n",
       "    <tr>\n",
       "      <th>3.84</th>\n",
       "      <td>0</td>\n",
       "      <td>0</td>\n",
       "      <td>0</td>\n",
       "      <td>0</td>\n",
       "      <td>20558</td>\n",
       "      <td>0</td>\n",
       "      <td>0</td>\n",
       "      <td>0</td>\n",
       "      <td>0</td>\n",
       "      <td>0</td>\n",
       "      <td>0</td>\n",
       "      <td>0</td>\n",
       "      <td>0</td>\n",
       "      <td>0</td>\n",
       "      <td>0</td>\n",
       "      <td>0</td>\n",
       "      <td>0</td>\n",
       "      <td>0</td>\n",
       "      <td>0</td>\n",
       "      <td>20558</td>\n",
       "    </tr>\n",
       "    <tr>\n",
       "      <th>11.95</th>\n",
       "      <td>0</td>\n",
       "      <td>0</td>\n",
       "      <td>0</td>\n",
       "      <td>0</td>\n",
       "      <td>0</td>\n",
       "      <td>0</td>\n",
       "      <td>0</td>\n",
       "      <td>0</td>\n",
       "      <td>0</td>\n",
       "      <td>0</td>\n",
       "      <td>0</td>\n",
       "      <td>0</td>\n",
       "      <td>0</td>\n",
       "      <td>0</td>\n",
       "      <td>0</td>\n",
       "      <td>21859</td>\n",
       "      <td>0</td>\n",
       "      <td>0</td>\n",
       "      <td>0</td>\n",
       "      <td>21859</td>\n",
       "    </tr>\n",
       "    <tr>\n",
       "      <th>11.99</th>\n",
       "      <td>0</td>\n",
       "      <td>0</td>\n",
       "      <td>0</td>\n",
       "      <td>0</td>\n",
       "      <td>0</td>\n",
       "      <td>0</td>\n",
       "      <td>0</td>\n",
       "      <td>0</td>\n",
       "      <td>0</td>\n",
       "      <td>0</td>\n",
       "      <td>0</td>\n",
       "      <td>0</td>\n",
       "      <td>0</td>\n",
       "      <td>0</td>\n",
       "      <td>0</td>\n",
       "      <td>0</td>\n",
       "      <td>0</td>\n",
       "      <td>18849</td>\n",
       "      <td>0</td>\n",
       "      <td>18849</td>\n",
       "    </tr>\n",
       "    <tr>\n",
       "      <th>14.95</th>\n",
       "      <td>0</td>\n",
       "      <td>0</td>\n",
       "      <td>0</td>\n",
       "      <td>0</td>\n",
       "      <td>0</td>\n",
       "      <td>0</td>\n",
       "      <td>0</td>\n",
       "      <td>0</td>\n",
       "      <td>0</td>\n",
       "      <td>0</td>\n",
       "      <td>0</td>\n",
       "      <td>0</td>\n",
       "      <td>21610</td>\n",
       "      <td>0</td>\n",
       "      <td>0</td>\n",
       "      <td>0</td>\n",
       "      <td>0</td>\n",
       "      <td>0</td>\n",
       "      <td>0</td>\n",
       "      <td>21610</td>\n",
       "    </tr>\n",
       "    <tr>\n",
       "      <th>99.99</th>\n",
       "      <td>0</td>\n",
       "      <td>0</td>\n",
       "      <td>0</td>\n",
       "      <td>0</td>\n",
       "      <td>0</td>\n",
       "      <td>0</td>\n",
       "      <td>0</td>\n",
       "      <td>13298</td>\n",
       "      <td>0</td>\n",
       "      <td>0</td>\n",
       "      <td>0</td>\n",
       "      <td>0</td>\n",
       "      <td>0</td>\n",
       "      <td>0</td>\n",
       "      <td>0</td>\n",
       "      <td>0</td>\n",
       "      <td>0</td>\n",
       "      <td>0</td>\n",
       "      <td>0</td>\n",
       "      <td>13298</td>\n",
       "    </tr>\n",
       "    <tr>\n",
       "      <th>109.99</th>\n",
       "      <td>4098</td>\n",
       "      <td>0</td>\n",
       "      <td>0</td>\n",
       "      <td>0</td>\n",
       "      <td>0</td>\n",
       "      <td>0</td>\n",
       "      <td>0</td>\n",
       "      <td>0</td>\n",
       "      <td>0</td>\n",
       "      <td>0</td>\n",
       "      <td>0</td>\n",
       "      <td>0</td>\n",
       "      <td>0</td>\n",
       "      <td>0</td>\n",
       "      <td>0</td>\n",
       "      <td>0</td>\n",
       "      <td>0</td>\n",
       "      <td>0</td>\n",
       "      <td>0</td>\n",
       "      <td>4098</td>\n",
       "    </tr>\n",
       "    <tr>\n",
       "      <th>149.99</th>\n",
       "      <td>0</td>\n",
       "      <td>0</td>\n",
       "      <td>7498</td>\n",
       "      <td>0</td>\n",
       "      <td>0</td>\n",
       "      <td>0</td>\n",
       "      <td>0</td>\n",
       "      <td>0</td>\n",
       "      <td>0</td>\n",
       "      <td>0</td>\n",
       "      <td>0</td>\n",
       "      <td>0</td>\n",
       "      <td>0</td>\n",
       "      <td>0</td>\n",
       "      <td>0</td>\n",
       "      <td>0</td>\n",
       "      <td>0</td>\n",
       "      <td>0</td>\n",
       "      <td>0</td>\n",
       "      <td>7498</td>\n",
       "    </tr>\n",
       "    <tr>\n",
       "      <th>150.0</th>\n",
       "      <td>0</td>\n",
       "      <td>0</td>\n",
       "      <td>0</td>\n",
       "      <td>0</td>\n",
       "      <td>0</td>\n",
       "      <td>0</td>\n",
       "      <td>15525</td>\n",
       "      <td>0</td>\n",
       "      <td>0</td>\n",
       "      <td>0</td>\n",
       "      <td>0</td>\n",
       "      <td>0</td>\n",
       "      <td>0</td>\n",
       "      <td>0</td>\n",
       "      <td>0</td>\n",
       "      <td>0</td>\n",
       "      <td>0</td>\n",
       "      <td>0</td>\n",
       "      <td>0</td>\n",
       "      <td>15525</td>\n",
       "    </tr>\n",
       "    <tr>\n",
       "      <th>300.0</th>\n",
       "      <td>0</td>\n",
       "      <td>0</td>\n",
       "      <td>0</td>\n",
       "      <td>0</td>\n",
       "      <td>0</td>\n",
       "      <td>0</td>\n",
       "      <td>0</td>\n",
       "      <td>0</td>\n",
       "      <td>4794</td>\n",
       "      <td>0</td>\n",
       "      <td>0</td>\n",
       "      <td>0</td>\n",
       "      <td>0</td>\n",
       "      <td>0</td>\n",
       "      <td>0</td>\n",
       "      <td>0</td>\n",
       "      <td>0</td>\n",
       "      <td>0</td>\n",
       "      <td>0</td>\n",
       "      <td>4794</td>\n",
       "    </tr>\n",
       "    <tr>\n",
       "      <th>379.99</th>\n",
       "      <td>0</td>\n",
       "      <td>0</td>\n",
       "      <td>0</td>\n",
       "      <td>6174</td>\n",
       "      <td>0</td>\n",
       "      <td>0</td>\n",
       "      <td>0</td>\n",
       "      <td>0</td>\n",
       "      <td>0</td>\n",
       "      <td>0</td>\n",
       "      <td>0</td>\n",
       "      <td>0</td>\n",
       "      <td>0</td>\n",
       "      <td>0</td>\n",
       "      <td>0</td>\n",
       "      <td>0</td>\n",
       "      <td>0</td>\n",
       "      <td>0</td>\n",
       "      <td>0</td>\n",
       "      <td>6174</td>\n",
       "    </tr>\n",
       "    <tr>\n",
       "      <th>389.99</th>\n",
       "      <td>0</td>\n",
       "      <td>6225</td>\n",
       "      <td>0</td>\n",
       "      <td>0</td>\n",
       "      <td>0</td>\n",
       "      <td>0</td>\n",
       "      <td>0</td>\n",
       "      <td>0</td>\n",
       "      <td>0</td>\n",
       "      <td>0</td>\n",
       "      <td>0</td>\n",
       "      <td>0</td>\n",
       "      <td>0</td>\n",
       "      <td>0</td>\n",
       "      <td>0</td>\n",
       "      <td>0</td>\n",
       "      <td>0</td>\n",
       "      <td>0</td>\n",
       "      <td>0</td>\n",
       "      <td>6225</td>\n",
       "    </tr>\n",
       "    <tr>\n",
       "      <th>400.0</th>\n",
       "      <td>0</td>\n",
       "      <td>0</td>\n",
       "      <td>0</td>\n",
       "      <td>0</td>\n",
       "      <td>0</td>\n",
       "      <td>0</td>\n",
       "      <td>0</td>\n",
       "      <td>0</td>\n",
       "      <td>0</td>\n",
       "      <td>0</td>\n",
       "      <td>0</td>\n",
       "      <td>0</td>\n",
       "      <td>0</td>\n",
       "      <td>0</td>\n",
       "      <td>0</td>\n",
       "      <td>0</td>\n",
       "      <td>2065</td>\n",
       "      <td>0</td>\n",
       "      <td>0</td>\n",
       "      <td>2065</td>\n",
       "    </tr>\n",
       "    <tr>\n",
       "      <th>600.0</th>\n",
       "      <td>0</td>\n",
       "      <td>0</td>\n",
       "      <td>0</td>\n",
       "      <td>0</td>\n",
       "      <td>0</td>\n",
       "      <td>0</td>\n",
       "      <td>0</td>\n",
       "      <td>0</td>\n",
       "      <td>0</td>\n",
       "      <td>5522</td>\n",
       "      <td>646</td>\n",
       "      <td>666</td>\n",
       "      <td>0</td>\n",
       "      <td>0</td>\n",
       "      <td>0</td>\n",
       "      <td>0</td>\n",
       "      <td>0</td>\n",
       "      <td>0</td>\n",
       "      <td>0</td>\n",
       "      <td>6834</td>\n",
       "    </tr>\n",
       "    <tr>\n",
       "      <th>700.0</th>\n",
       "      <td>0</td>\n",
       "      <td>0</td>\n",
       "      <td>0</td>\n",
       "      <td>0</td>\n",
       "      <td>0</td>\n",
       "      <td>0</td>\n",
       "      <td>0</td>\n",
       "      <td>0</td>\n",
       "      <td>0</td>\n",
       "      <td>0</td>\n",
       "      <td>0</td>\n",
       "      <td>0</td>\n",
       "      <td>0</td>\n",
       "      <td>0</td>\n",
       "      <td>0</td>\n",
       "      <td>0</td>\n",
       "      <td>0</td>\n",
       "      <td>0</td>\n",
       "      <td>6840</td>\n",
       "      <td>6840</td>\n",
       "    </tr>\n",
       "    <tr>\n",
       "      <th>999.99</th>\n",
       "      <td>0</td>\n",
       "      <td>0</td>\n",
       "      <td>0</td>\n",
       "      <td>0</td>\n",
       "      <td>0</td>\n",
       "      <td>0</td>\n",
       "      <td>0</td>\n",
       "      <td>0</td>\n",
       "      <td>0</td>\n",
       "      <td>0</td>\n",
       "      <td>0</td>\n",
       "      <td>0</td>\n",
       "      <td>0</td>\n",
       "      <td>0</td>\n",
       "      <td>4126</td>\n",
       "      <td>0</td>\n",
       "      <td>0</td>\n",
       "      <td>0</td>\n",
       "      <td>0</td>\n",
       "      <td>4126</td>\n",
       "    </tr>\n",
       "    <tr>\n",
       "      <th>1700.0</th>\n",
       "      <td>0</td>\n",
       "      <td>0</td>\n",
       "      <td>0</td>\n",
       "      <td>0</td>\n",
       "      <td>0</td>\n",
       "      <td>0</td>\n",
       "      <td>0</td>\n",
       "      <td>0</td>\n",
       "      <td>0</td>\n",
       "      <td>0</td>\n",
       "      <td>0</td>\n",
       "      <td>0</td>\n",
       "      <td>0</td>\n",
       "      <td>4721</td>\n",
       "      <td>0</td>\n",
       "      <td>0</td>\n",
       "      <td>0</td>\n",
       "      <td>0</td>\n",
       "      <td>0</td>\n",
       "      <td>4721</td>\n",
       "    </tr>\n",
       "    <tr>\n",
       "      <th>All</th>\n",
       "      <td>4098</td>\n",
       "      <td>6225</td>\n",
       "      <td>7498</td>\n",
       "      <td>6174</td>\n",
       "      <td>20558</td>\n",
       "      <td>20612</td>\n",
       "      <td>15525</td>\n",
       "      <td>13298</td>\n",
       "      <td>4794</td>\n",
       "      <td>5522</td>\n",
       "      <td>646</td>\n",
       "      <td>666</td>\n",
       "      <td>21610</td>\n",
       "      <td>4721</td>\n",
       "      <td>4126</td>\n",
       "      <td>21859</td>\n",
       "      <td>2065</td>\n",
       "      <td>18849</td>\n",
       "      <td>6840</td>\n",
       "      <td>185686</td>\n",
       "    </tr>\n",
       "  </tbody>\n",
       "</table>\n",
       "</div>"
      ],
      "text/plain": [
       "Product     20in Monitor  27in 4K Gaming Monitor  27in FHD Monitor  \\\n",
       "Price_Each                                                           \n",
       "2.99                   0                       0                 0   \n",
       "3.84                   0                       0                 0   \n",
       "11.95                  0                       0                 0   \n",
       "11.99                  0                       0                 0   \n",
       "14.95                  0                       0                 0   \n",
       "99.99                  0                       0                 0   \n",
       "109.99              4098                       0                 0   \n",
       "149.99                 0                       0              7498   \n",
       "150.0                  0                       0                 0   \n",
       "300.0                  0                       0                 0   \n",
       "379.99                 0                       0                 0   \n",
       "389.99                 0                    6225                 0   \n",
       "400.0                  0                       0                 0   \n",
       "600.0                  0                       0                 0   \n",
       "700.0                  0                       0                 0   \n",
       "999.99                 0                       0                 0   \n",
       "1700.0                 0                       0                 0   \n",
       "All                 4098                    6225              7498   \n",
       "\n",
       "Product     34in Ultrawide Monitor  AA Batteries (4-pack)  \\\n",
       "Price_Each                                                  \n",
       "2.99                             0                      0   \n",
       "3.84                             0                  20558   \n",
       "11.95                            0                      0   \n",
       "11.99                            0                      0   \n",
       "14.95                            0                      0   \n",
       "99.99                            0                      0   \n",
       "109.99                           0                      0   \n",
       "149.99                           0                      0   \n",
       "150.0                            0                      0   \n",
       "300.0                            0                      0   \n",
       "379.99                        6174                      0   \n",
       "389.99                           0                      0   \n",
       "400.0                            0                      0   \n",
       "600.0                            0                      0   \n",
       "700.0                            0                      0   \n",
       "999.99                           0                      0   \n",
       "1700.0                           0                      0   \n",
       "All                           6174                  20558   \n",
       "\n",
       "Product     AAA Batteries (4-pack)  Apple Airpods Headphones  \\\n",
       "Price_Each                                                     \n",
       "2.99                         20612                         0   \n",
       "3.84                             0                         0   \n",
       "11.95                            0                         0   \n",
       "11.99                            0                         0   \n",
       "14.95                            0                         0   \n",
       "99.99                            0                         0   \n",
       "109.99                           0                         0   \n",
       "149.99                           0                         0   \n",
       "150.0                            0                     15525   \n",
       "300.0                            0                         0   \n",
       "379.99                           0                         0   \n",
       "389.99                           0                         0   \n",
       "400.0                            0                         0   \n",
       "600.0                            0                         0   \n",
       "700.0                            0                         0   \n",
       "999.99                           0                         0   \n",
       "1700.0                           0                         0   \n",
       "All                          20612                     15525   \n",
       "\n",
       "Product     Bose SoundSport Headphones  Flatscreen TV  Google Phone  LG Dryer  \\\n",
       "Price_Each                                                                      \n",
       "2.99                                 0              0             0         0   \n",
       "3.84                                 0              0             0         0   \n",
       "11.95                                0              0             0         0   \n",
       "11.99                                0              0             0         0   \n",
       "14.95                                0              0             0         0   \n",
       "99.99                            13298              0             0         0   \n",
       "109.99                               0              0             0         0   \n",
       "149.99                               0              0             0         0   \n",
       "150.0                                0              0             0         0   \n",
       "300.0                                0           4794             0         0   \n",
       "379.99                               0              0             0         0   \n",
       "389.99                               0              0             0         0   \n",
       "400.0                                0              0             0         0   \n",
       "600.0                                0              0          5522       646   \n",
       "700.0                                0              0             0         0   \n",
       "999.99                               0              0             0         0   \n",
       "1700.0                               0              0             0         0   \n",
       "All                              13298           4794          5522       646   \n",
       "\n",
       "Product     LG Washing Machine  Lightning Charging Cable  Macbook Pro Laptop  \\\n",
       "Price_Each                                                                     \n",
       "2.99                         0                         0                   0   \n",
       "3.84                         0                         0                   0   \n",
       "11.95                        0                         0                   0   \n",
       "11.99                        0                         0                   0   \n",
       "14.95                        0                     21610                   0   \n",
       "99.99                        0                         0                   0   \n",
       "109.99                       0                         0                   0   \n",
       "149.99                       0                         0                   0   \n",
       "150.0                        0                         0                   0   \n",
       "300.0                        0                         0                   0   \n",
       "379.99                       0                         0                   0   \n",
       "389.99                       0                         0                   0   \n",
       "400.0                        0                         0                   0   \n",
       "600.0                      666                         0                   0   \n",
       "700.0                        0                         0                   0   \n",
       "999.99                       0                         0                   0   \n",
       "1700.0                       0                         0                4721   \n",
       "All                        666                     21610                4721   \n",
       "\n",
       "Product     ThinkPad Laptop  USB-C Charging Cable  Vareebadd Phone  \\\n",
       "Price_Each                                                           \n",
       "2.99                      0                     0                0   \n",
       "3.84                      0                     0                0   \n",
       "11.95                     0                 21859                0   \n",
       "11.99                     0                     0                0   \n",
       "14.95                     0                     0                0   \n",
       "99.99                     0                     0                0   \n",
       "109.99                    0                     0                0   \n",
       "149.99                    0                     0                0   \n",
       "150.0                     0                     0                0   \n",
       "300.0                     0                     0                0   \n",
       "379.99                    0                     0                0   \n",
       "389.99                    0                     0                0   \n",
       "400.0                     0                     0             2065   \n",
       "600.0                     0                     0                0   \n",
       "700.0                     0                     0                0   \n",
       "999.99                 4126                     0                0   \n",
       "1700.0                    0                     0                0   \n",
       "All                    4126                 21859             2065   \n",
       "\n",
       "Product     Wired Headphones  iPhone     All  \n",
       "Price_Each                                    \n",
       "2.99                       0       0   20612  \n",
       "3.84                       0       0   20558  \n",
       "11.95                      0       0   21859  \n",
       "11.99                  18849       0   18849  \n",
       "14.95                      0       0   21610  \n",
       "99.99                      0       0   13298  \n",
       "109.99                     0       0    4098  \n",
       "149.99                     0       0    7498  \n",
       "150.0                      0       0   15525  \n",
       "300.0                      0       0    4794  \n",
       "379.99                     0       0    6174  \n",
       "389.99                     0       0    6225  \n",
       "400.0                      0       0    2065  \n",
       "600.0                      0       0    6834  \n",
       "700.0                      0    6840    6840  \n",
       "999.99                     0       0    4126  \n",
       "1700.0                     0       0    4721  \n",
       "All                    18849    6840  185686  "
      ]
     },
     "execution_count": 43,
     "metadata": {},
     "output_type": "execute_result"
    }
   ],
   "source": [
    "#Simple\n",
    "pd.crosstab(index=df['Price_Each'], columns=df['Product'], margins = True)"
   ]
  },
  {
   "cell_type": "code",
   "execution_count": 53,
   "id": "633675d3",
   "metadata": {},
   "outputs": [
    {
     "data": {
      "text/plain": [
       "<AxesSubplot:xlabel='Region', ylabel='Total'>"
      ]
     },
     "execution_count": 53,
     "metadata": {},
     "output_type": "execute_result"
    },
    {
     "data": {
      "image/png": "[encoded data removed]",
      "text/plain": [
       "<Figure size 1080x720 with 1 Axes>"
      ]
     },
     "metadata": {},
     "output_type": "display_data"
    }
   ],
   "source": [
    "#Overall BoxWhisker\n",
    "sns.set(rc = {'figure.figsize':(15,10)})\n",
    "sns.boxplot(x=\"Region\", y=\"Total\", hue=\"Category\", data=df, )"
   ]
  },
  {
   "cell_type": "markdown",
   "id": "7b76455a",
   "metadata": {},
   "source": [
    "Region\n",
    "===="
   ]
  },
  {
   "cell_type": "code",
   "execution_count": 47,
   "id": "efff6a93",
   "metadata": {},
   "outputs": [
    {
     "data": {
      "text/plain": [
       "(126.4841605877296, 0.08528658564277473, 106)"
      ]
     },
     "execution_count": 47,
     "metadata": {},
     "output_type": "execute_result"
    }
   ],
   "source": [
    "#Check Chi-Square (Should be dropped from Model)\n",
    "from scipy.stats import chi2_contingency\n",
    "#Single\n",
    "ft = pd.crosstab(index=df['Region'], columns=df['Total'])\n",
    "c, p, dof, expected = chi2_contingency(ft)\n",
    "c, p, dof"
   ]
  },
  {
   "cell_type": "code",
   "execution_count": 55,
   "id": "9395545c",
   "metadata": {},
   "outputs": [
    {
     "data": {
      "text/plain": [
       "<AxesSubplot:xlabel='Total', ylabel='Region'>"
      ]
     },
     "execution_count": 55,
     "metadata": {},
     "output_type": "execute_result"
    },
    {
     "data": {
      "image/png": "[encoded data removed]",
      "text/plain": [
       "<Figure size 1080x720 with 1 Axes>"
      ]
     },
     "metadata": {},
     "output_type": "display_data"
    }
   ],
   "source": [
    "#BoxPlot\n",
    "sns.set(rc = {'figure.figsize':(15,10)})\n",
    "sns.boxplot(x=\"Total\", y=\"Region\", data=df)"
   ]
  },
  {
   "cell_type": "markdown",
   "id": "bc5d2d32",
   "metadata": {},
   "source": [
    "Category\n",
    "===="
   ]
  },
  {
   "cell_type": "code",
   "execution_count": 56,
   "id": "8b2f0332",
   "metadata": {},
   "outputs": [
    {
     "data": {
      "text/plain": [
       "(945097.7716177546, 0.0, 318)"
      ]
     },
     "execution_count": 56,
     "metadata": {},
     "output_type": "execute_result"
    }
   ],
   "source": [
    "#Check Chi-Square (Used in Model)\n",
    "from scipy.stats import chi2_contingency\n",
    "#Single\n",
    "ft = pd.crosstab(index=df['Category'], columns=df['Total'])\n",
    "c, p, dof, expected = chi2_contingency(ft)\n",
    "c, p, dof"
   ]
  },
  {
   "cell_type": "code",
   "execution_count": 57,
   "id": "d2ca6410",
   "metadata": {},
   "outputs": [
    {
     "data": {
      "text/plain": [
       "<AxesSubplot:xlabel='Total', ylabel='Category'>"
      ]
     },
     "execution_count": 57,
     "metadata": {},
     "output_type": "execute_result"
    },
    {
     "data": {
      "image/png": "[encoded data removed]",
      "text/plain": [
       "<Figure size 1080x720 with 1 Axes>"
      ]
     },
     "metadata": {},
     "output_type": "display_data"
    }
   ],
   "source": [
    "#BoxPlot\n",
    "sns.set(rc = {'figure.figsize':(15,10)})\n",
    "sns.boxplot(x=\"Total\", y=\"Category\", data=df)"
   ]
  },
  {
   "cell_type": "code",
   "execution_count": 59,
   "id": "c2ae48da",
   "metadata": {},
   "outputs": [],
   "source": [
    "totalorderday = df.groupby(['Order_Day','Region','Category'])['Total'].sum().T\n",
    "totalordermonth = df.groupby(['Order_Month'])['Total'].sum().T\n",
    "totalmonth = df.groupby(['Month'])['Total'].sum().T\n",
    "totalquarter = df.groupby(['Quarter'])['Total'].sum().T"
   ]
  },
  {
   "cell_type": "code",
   "execution_count": 60,
   "id": "859b49f8",
   "metadata": {},
   "outputs": [],
   "source": [
    "totalordermonth = pd.DataFrame(totalordermonth)\n",
    "#Finished Dataset for Use CSV by Month\n",
    "totalordermonth.to_csv('C:\\\\Users\\\\2-1\\\\Downloads\\\\Sales_Month_Processed.csv')"
   ]
  },
  {
   "cell_type": "code",
   "execution_count": 61,
   "id": "c77e36a1",
   "metadata": {},
   "outputs": [],
   "source": [
    "totalorderday = pd.DataFrame(totalorderday)\n",
    "#Finished Dataset for Use CSV by Day\n",
    "totalorderday.to_csv('C:\\\\Users\\\\2-1\\\\Downloads\\\\Sales_Day_Processed.csv')"
   ]
  },
  {
   "cell_type": "code",
   "execution_count": 62,
   "id": "040aec5a",
   "metadata": {},
   "outputs": [
    {
     "data": {
      "text/html": [
       "<div>\n",
       "<style scoped>\n",
       "    .dataframe tbody tr th:only-of-type {\n",
       "        vertical-align: middle;\n",
       "    }\n",
       "\n",
       "    .dataframe tbody tr th {\n",
       "        vertical-align: top;\n",
       "    }\n",
       "\n",
       "    .dataframe thead th {\n",
       "        text-align: right;\n",
       "    }\n",
       "</style>\n",
       "<table border=\"1\" class=\"dataframe\">\n",
       "  <thead>\n",
       "    <tr style=\"text-align: right;\">\n",
       "      <th></th>\n",
       "      <th>Total</th>\n",
       "    </tr>\n",
       "    <tr>\n",
       "      <th>Month</th>\n",
       "      <th></th>\n",
       "    </tr>\n",
       "  </thead>\n",
       "  <tbody>\n",
       "    <tr>\n",
       "      <th>1</th>\n",
       "      <td>1821413.16</td>\n",
       "    </tr>\n",
       "    <tr>\n",
       "      <th>2</th>\n",
       "      <td>2200078.08</td>\n",
       "    </tr>\n",
       "    <tr>\n",
       "      <th>3</th>\n",
       "      <td>2804973.35</td>\n",
       "    </tr>\n",
       "    <tr>\n",
       "      <th>4</th>\n",
       "      <td>3389217.98</td>\n",
       "    </tr>\n",
       "    <tr>\n",
       "      <th>5</th>\n",
       "      <td>3150616.23</td>\n",
       "    </tr>\n",
       "    <tr>\n",
       "      <th>6</th>\n",
       "      <td>2576280.15</td>\n",
       "    </tr>\n",
       "    <tr>\n",
       "      <th>7</th>\n",
       "      <td>2646461.32</td>\n",
       "    </tr>\n",
       "    <tr>\n",
       "      <th>8</th>\n",
       "      <td>2241083.37</td>\n",
       "    </tr>\n",
       "    <tr>\n",
       "      <th>9</th>\n",
       "      <td>2094465.69</td>\n",
       "    </tr>\n",
       "    <tr>\n",
       "      <th>10</th>\n",
       "      <td>3734777.86</td>\n",
       "    </tr>\n",
       "    <tr>\n",
       "      <th>11</th>\n",
       "      <td>3197875.05</td>\n",
       "    </tr>\n",
       "    <tr>\n",
       "      <th>12</th>\n",
       "      <td>4608295.70</td>\n",
       "    </tr>\n",
       "  </tbody>\n",
       "</table>\n",
       "</div>"
      ],
      "text/plain": [
       "            Total\n",
       "Month            \n",
       "1      1821413.16\n",
       "2      2200078.08\n",
       "3      2804973.35\n",
       "4      3389217.98\n",
       "5      3150616.23\n",
       "6      2576280.15\n",
       "7      2646461.32\n",
       "8      2241083.37\n",
       "9      2094465.69\n",
       "10     3734777.86\n",
       "11     3197875.05\n",
       "12     4608295.70"
      ]
     },
     "execution_count": 62,
     "metadata": {},
     "output_type": "execute_result"
    }
   ],
   "source": [
    "totalmonth = pd.DataFrame(totalmonth)\n",
    "totalmonth"
   ]
  },
  {
   "cell_type": "code",
   "execution_count": 64,
   "id": "45714d4a",
   "metadata": {},
   "outputs": [
    {
     "data": {
      "text/plain": [
       "<AxesSubplot:xlabel='Month', ylabel='Total'>"
      ]
     },
     "execution_count": 64,
     "metadata": {},
     "output_type": "execute_result"
    },
    {
     "data": {
      "image/png": "[encoded data removed]",
      "text/plain": [
       "<Figure size 1080x720 with 1 Axes>"
      ]
     },
     "metadata": {},
     "output_type": "display_data"
    }
   ],
   "source": [
    "#Show Total Sales by Month\n",
    "sns.set(rc = {'figure.figsize':(15,10)})\n",
    "sns.lineplot(data=totalmonth, x=\"Month\", y=\"Total\")"
   ]
  },
  {
   "cell_type": "code",
   "execution_count": 65,
   "id": "47176c8b",
   "metadata": {},
   "outputs": [
    {
     "data": {
      "text/html": [
       "<div>\n",
       "<style scoped>\n",
       "    .dataframe tbody tr th:only-of-type {\n",
       "        vertical-align: middle;\n",
       "    }\n",
       "\n",
       "    .dataframe tbody tr th {\n",
       "        vertical-align: top;\n",
       "    }\n",
       "\n",
       "    .dataframe thead th {\n",
       "        text-align: right;\n",
       "    }\n",
       "</style>\n",
       "<table border=\"1\" class=\"dataframe\">\n",
       "  <thead>\n",
       "    <tr style=\"text-align: right;\">\n",
       "      <th></th>\n",
       "      <th>Total</th>\n",
       "    </tr>\n",
       "    <tr>\n",
       "      <th>Quarter</th>\n",
       "      <th></th>\n",
       "    </tr>\n",
       "  </thead>\n",
       "  <tbody>\n",
       "    <tr>\n",
       "      <th>1</th>\n",
       "      <td>6826464.59</td>\n",
       "    </tr>\n",
       "    <tr>\n",
       "      <th>2</th>\n",
       "      <td>9116114.36</td>\n",
       "    </tr>\n",
       "    <tr>\n",
       "      <th>3</th>\n",
       "      <td>6982010.38</td>\n",
       "    </tr>\n",
       "    <tr>\n",
       "      <th>4</th>\n",
       "      <td>11540948.61</td>\n",
       "    </tr>\n",
       "  </tbody>\n",
       "</table>\n",
       "</div>"
      ],
      "text/plain": [
       "               Total\n",
       "Quarter             \n",
       "1         6826464.59\n",
       "2         9116114.36\n",
       "3         6982010.38\n",
       "4        11540948.61"
      ]
     },
     "execution_count": 65,
     "metadata": {},
     "output_type": "execute_result"
    }
   ],
   "source": [
    "totalquarter = pd.DataFrame(totalquarter)  \n",
    "totalquarter"
   ]
  },
  {
   "cell_type": "code",
   "execution_count": 66,
   "id": "2ee0ba99",
   "metadata": {},
   "outputs": [
    {
     "data": {
      "text/plain": [
       "<AxesSubplot:xlabel='Quarter', ylabel='Total'>"
      ]
     },
     "execution_count": 66,
     "metadata": {},
     "output_type": "execute_result"
    },
    {
     "data": {
      "image/png": "[encoded data removed]",
      "text/plain": [
       "<Figure size 1080x720 with 1 Axes>"
      ]
     },
     "metadata": {},
     "output_type": "display_data"
    }
   ],
   "source": [
    "#Show Total Sales by Quarter\n",
    "sns.set(rc = {'figure.figsize':(15,10)})\n",
    "sns.lineplot(data=totalquarter, x=\"Quarter\", y=\"Total\")"
   ]
  },
  {
   "cell_type": "markdown",
   "id": "f547f884",
   "metadata": {},
   "source": [
    "Looking at Data Types\n",
    "===="
   ]
  },
  {
   "cell_type": "code",
   "execution_count": 67,
   "id": "8b64329c",
   "metadata": {},
   "outputs": [
    {
     "data": {
      "text/html": [
       "<div>\n",
       "<style scoped>\n",
       "    .dataframe tbody tr th:only-of-type {\n",
       "        vertical-align: middle;\n",
       "    }\n",
       "\n",
       "    .dataframe tbody tr th {\n",
       "        vertical-align: top;\n",
       "    }\n",
       "\n",
       "    .dataframe thead th {\n",
       "        text-align: right;\n",
       "    }\n",
       "</style>\n",
       "<table border=\"1\" class=\"dataframe\">\n",
       "  <thead>\n",
       "    <tr style=\"text-align: right;\">\n",
       "      <th></th>\n",
       "      <th>Quantity_Ordered</th>\n",
       "      <th>Price_Each</th>\n",
       "      <th>Quarter</th>\n",
       "      <th>Month</th>\n",
       "      <th>Total</th>\n",
       "    </tr>\n",
       "  </thead>\n",
       "  <tbody>\n",
       "    <tr>\n",
       "      <th>count</th>\n",
       "      <td>185686.000000</td>\n",
       "      <td>185686.000000</td>\n",
       "      <td>185686.000000</td>\n",
       "      <td>185686.000000</td>\n",
       "      <td>185686.000000</td>\n",
       "    </tr>\n",
       "    <tr>\n",
       "      <th>mean</th>\n",
       "      <td>1.124544</td>\n",
       "      <td>184.519255</td>\n",
       "      <td>2.681317</td>\n",
       "      <td>7.058653</td>\n",
       "      <td>185.611936</td>\n",
       "    </tr>\n",
       "    <tr>\n",
       "      <th>std</th>\n",
       "      <td>0.443069</td>\n",
       "      <td>332.843838</td>\n",
       "      <td>1.135367</td>\n",
       "      <td>3.502932</td>\n",
       "      <td>333.032118</td>\n",
       "    </tr>\n",
       "    <tr>\n",
       "      <th>min</th>\n",
       "      <td>1.000000</td>\n",
       "      <td>2.990000</td>\n",
       "      <td>1.000000</td>\n",
       "      <td>1.000000</td>\n",
       "      <td>2.990000</td>\n",
       "    </tr>\n",
       "    <tr>\n",
       "      <th>25%</th>\n",
       "      <td>1.000000</td>\n",
       "      <td>11.950000</td>\n",
       "      <td>2.000000</td>\n",
       "      <td>4.000000</td>\n",
       "      <td>11.950000</td>\n",
       "    </tr>\n",
       "    <tr>\n",
       "      <th>50%</th>\n",
       "      <td>1.000000</td>\n",
       "      <td>14.950000</td>\n",
       "      <td>3.000000</td>\n",
       "      <td>7.000000</td>\n",
       "      <td>14.950000</td>\n",
       "    </tr>\n",
       "    <tr>\n",
       "      <th>75%</th>\n",
       "      <td>1.000000</td>\n",
       "      <td>150.000000</td>\n",
       "      <td>4.000000</td>\n",
       "      <td>10.000000</td>\n",
       "      <td>150.000000</td>\n",
       "    </tr>\n",
       "    <tr>\n",
       "      <th>max</th>\n",
       "      <td>9.000000</td>\n",
       "      <td>1700.000000</td>\n",
       "      <td>4.000000</td>\n",
       "      <td>12.000000</td>\n",
       "      <td>3400.000000</td>\n",
       "    </tr>\n",
       "  </tbody>\n",
       "</table>\n",
       "</div>"
      ],
      "text/plain": [
       "       Quantity_Ordered     Price_Each        Quarter          Month  \\\n",
       "count     185686.000000  185686.000000  185686.000000  185686.000000   \n",
       "mean           1.124544     184.519255       2.681317       7.058653   \n",
       "std            0.443069     332.843838       1.135367       3.502932   \n",
       "min            1.000000       2.990000       1.000000       1.000000   \n",
       "25%            1.000000      11.950000       2.000000       4.000000   \n",
       "50%            1.000000      14.950000       3.000000       7.000000   \n",
       "75%            1.000000     150.000000       4.000000      10.000000   \n",
       "max            9.000000    1700.000000       4.000000      12.000000   \n",
       "\n",
       "               Total  \n",
       "count  185686.000000  \n",
       "mean      185.611936  \n",
       "std       333.032118  \n",
       "min         2.990000  \n",
       "25%        11.950000  \n",
       "50%        14.950000  \n",
       "75%       150.000000  \n",
       "max      3400.000000  "
      ]
     },
     "execution_count": 67,
     "metadata": {},
     "output_type": "execute_result"
    }
   ],
   "source": [
    "#quick summary stats:numeric\n",
    "df.describe()"
   ]
  },
  {
   "cell_type": "code",
   "execution_count": 68,
   "id": "0fcd5c62",
   "metadata": {},
   "outputs": [
    {
     "data": {
      "text/html": [
       "<div>\n",
       "<style scoped>\n",
       "    .dataframe tbody tr th:only-of-type {\n",
       "        vertical-align: middle;\n",
       "    }\n",
       "\n",
       "    .dataframe tbody tr th {\n",
       "        vertical-align: top;\n",
       "    }\n",
       "\n",
       "    .dataframe thead th {\n",
       "        text-align: right;\n",
       "    }\n",
       "</style>\n",
       "<table border=\"1\" class=\"dataframe\">\n",
       "  <thead>\n",
       "    <tr style=\"text-align: right;\">\n",
       "      <th></th>\n",
       "      <th>Order_ID</th>\n",
       "      <th>Product</th>\n",
       "      <th>Purchase_Address</th>\n",
       "      <th>City</th>\n",
       "      <th>State</th>\n",
       "      <th>Zip</th>\n",
       "      <th>Region</th>\n",
       "      <th>Category</th>\n",
       "    </tr>\n",
       "  </thead>\n",
       "  <tbody>\n",
       "    <tr>\n",
       "      <th>count</th>\n",
       "      <td>185686</td>\n",
       "      <td>185686</td>\n",
       "      <td>185686</td>\n",
       "      <td>185686</td>\n",
       "      <td>185686</td>\n",
       "      <td>185686</td>\n",
       "      <td>185686</td>\n",
       "      <td>185686</td>\n",
       "    </tr>\n",
       "    <tr>\n",
       "      <th>unique</th>\n",
       "      <td>178437</td>\n",
       "      <td>19</td>\n",
       "      <td>140787</td>\n",
       "      <td>9</td>\n",
       "      <td>8</td>\n",
       "      <td>10</td>\n",
       "      <td>3</td>\n",
       "      <td>7</td>\n",
       "    </tr>\n",
       "    <tr>\n",
       "      <th>top</th>\n",
       "      <td>160873</td>\n",
       "      <td>USB-C Charging Cable</td>\n",
       "      <td>193 Forest St, San Francisco, CA 94016</td>\n",
       "      <td>San Francisco</td>\n",
       "      <td>CA</td>\n",
       "      <td>94016</td>\n",
       "      <td>West</td>\n",
       "      <td>Accessories</td>\n",
       "    </tr>\n",
       "    <tr>\n",
       "      <th>freq</th>\n",
       "      <td>5</td>\n",
       "      <td>21859</td>\n",
       "      <td>9</td>\n",
       "      <td>44662</td>\n",
       "      <td>74226</td>\n",
       "      <td>44662</td>\n",
       "      <td>98937</td>\n",
       "      <td>91141</td>\n",
       "    </tr>\n",
       "  </tbody>\n",
       "</table>\n",
       "</div>"
      ],
      "text/plain": [
       "       Order_ID               Product                        Purchase_Address  \\\n",
       "count    185686                185686                                  185686   \n",
       "unique   178437                    19                                  140787   \n",
       "top      160873  USB-C Charging Cable  193 Forest St, San Francisco, CA 94016   \n",
       "freq          5                 21859                                       9   \n",
       "\n",
       "                  City   State     Zip  Region     Category  \n",
       "count           185686  185686  185686  185686       185686  \n",
       "unique               9       8      10       3            7  \n",
       "top      San Francisco      CA   94016    West  Accessories  \n",
       "freq             44662   74226   44662   98937        91141  "
      ]
     },
     "execution_count": 68,
     "metadata": {},
     "output_type": "execute_result"
    }
   ],
   "source": [
    "#quick summary stats:categorical\n",
    "df.describe(include='object')"
   ]
  },
  {
   "cell_type": "code",
   "execution_count": 69,
   "id": "fb618604",
   "metadata": {},
   "outputs": [],
   "source": [
    "#drop Column\n",
    "df.drop(['Month', 'Quarter'], axis=1, inplace=True)"
   ]
  },
  {
   "cell_type": "code",
   "execution_count": 70,
   "id": "7d4adc52",
   "metadata": {},
   "outputs": [],
   "source": [
    "#Finished Full Dataset for Use CSV\n",
    "df.to_csv('C:\\\\Users\\\\2-1\\\\Downloads\\\\Sales_Processed.csv')"
   ]
  },
  {
   "cell_type": "markdown",
   "id": "631c760c",
   "metadata": {},
   "source": [
    "Final Process Finish\n",
    "===="
   ]
  },
  {
   "cell_type": "code",
   "execution_count": 71,
   "id": "7a60c905",
   "metadata": {},
   "outputs": [],
   "source": [
    "df = pd.read_csv(r\"C:\\Users\\2-1\\Downloads\\Sales_Day_Processed.csv\")"
   ]
  },
  {
   "cell_type": "code",
   "execution_count": 72,
   "id": "efe8d30c",
   "metadata": {},
   "outputs": [
    {
     "data": {
      "text/html": [
       "<div>\n",
       "<style scoped>\n",
       "    .dataframe tbody tr th:only-of-type {\n",
       "        vertical-align: middle;\n",
       "    }\n",
       "\n",
       "    .dataframe tbody tr th {\n",
       "        vertical-align: top;\n",
       "    }\n",
       "\n",
       "    .dataframe thead th {\n",
       "        text-align: right;\n",
       "    }\n",
       "</style>\n",
       "<table border=\"1\" class=\"dataframe\">\n",
       "  <thead>\n",
       "    <tr style=\"text-align: right;\">\n",
       "      <th></th>\n",
       "      <th>Order_Day</th>\n",
       "      <th>Region</th>\n",
       "      <th>Category</th>\n",
       "      <th>Total</th>\n",
       "    </tr>\n",
       "  </thead>\n",
       "  <tbody>\n",
       "    <tr>\n",
       "      <th>0</th>\n",
       "      <td>2019-01-01</td>\n",
       "      <td>Northeast</td>\n",
       "      <td>Accessories</td>\n",
       "      <td>1829.92</td>\n",
       "    </tr>\n",
       "    <tr>\n",
       "      <th>1</th>\n",
       "      <td>2019-01-01</td>\n",
       "      <td>Northeast</td>\n",
       "      <td>Appliance</td>\n",
       "      <td>600.00</td>\n",
       "    </tr>\n",
       "    <tr>\n",
       "      <th>2</th>\n",
       "      <td>2019-01-01</td>\n",
       "      <td>Northeast</td>\n",
       "      <td>Batteries</td>\n",
       "      <td>80.67</td>\n",
       "    </tr>\n",
       "    <tr>\n",
       "      <th>3</th>\n",
       "      <td>2019-01-01</td>\n",
       "      <td>Northeast</td>\n",
       "      <td>Laptop</td>\n",
       "      <td>5100.00</td>\n",
       "    </tr>\n",
       "    <tr>\n",
       "      <th>4</th>\n",
       "      <td>2019-01-01</td>\n",
       "      <td>Northeast</td>\n",
       "      <td>Monitor</td>\n",
       "      <td>2699.91</td>\n",
       "    </tr>\n",
       "  </tbody>\n",
       "</table>\n",
       "</div>"
      ],
      "text/plain": [
       "    Order_Day     Region     Category    Total\n",
       "0  2019-01-01  Northeast  Accessories  1829.92\n",
       "1  2019-01-01  Northeast    Appliance   600.00\n",
       "2  2019-01-01  Northeast    Batteries    80.67\n",
       "3  2019-01-01  Northeast       Laptop  5100.00\n",
       "4  2019-01-01  Northeast      Monitor  2699.91"
      ]
     },
     "execution_count": 72,
     "metadata": {},
     "output_type": "execute_result"
    }
   ],
   "source": [
    "df.head()"
   ]
  },
  {
   "cell_type": "code",
   "execution_count": 73,
   "id": "aa0616cb",
   "metadata": {},
   "outputs": [
    {
     "data": {
      "text/html": [
       "<div>\n",
       "<style scoped>\n",
       "    .dataframe tbody tr th:only-of-type {\n",
       "        vertical-align: middle;\n",
       "    }\n",
       "\n",
       "    .dataframe tbody tr th {\n",
       "        vertical-align: top;\n",
       "    }\n",
       "\n",
       "    .dataframe thead th {\n",
       "        text-align: right;\n",
       "    }\n",
       "</style>\n",
       "<table border=\"1\" class=\"dataframe\">\n",
       "  <thead>\n",
       "    <tr style=\"text-align: right;\">\n",
       "      <th></th>\n",
       "      <th>count</th>\n",
       "      <th>mean</th>\n",
       "      <th>std</th>\n",
       "      <th>min</th>\n",
       "      <th>25%</th>\n",
       "      <th>50%</th>\n",
       "      <th>75%</th>\n",
       "      <th>max</th>\n",
       "    </tr>\n",
       "  </thead>\n",
       "  <tbody>\n",
       "    <tr>\n",
       "      <th>Total</th>\n",
       "      <td>7261.0</td>\n",
       "      <td>4746.665465</td>\n",
       "      <td>5225.553913</td>\n",
       "      <td>5.98</td>\n",
       "      <td>900.0</td>\n",
       "      <td>3019.88</td>\n",
       "      <td>6850.41</td>\n",
       "      <td>38599.92</td>\n",
       "    </tr>\n",
       "  </tbody>\n",
       "</table>\n",
       "</div>"
      ],
      "text/plain": [
       "        count         mean          std   min    25%      50%      75%  \\\n",
       "Total  7261.0  4746.665465  5225.553913  5.98  900.0  3019.88  6850.41   \n",
       "\n",
       "            max  \n",
       "Total  38599.92  "
      ]
     },
     "execution_count": 73,
     "metadata": {},
     "output_type": "execute_result"
    }
   ],
   "source": [
    "#quick summary stats:numeric\n",
    "df.describe().T"
   ]
  },
  {
   "cell_type": "code",
   "execution_count": 74,
   "id": "2226dc08",
   "metadata": {},
   "outputs": [
    {
     "data": {
      "text/html": [
       "<div>\n",
       "<style scoped>\n",
       "    .dataframe tbody tr th:only-of-type {\n",
       "        vertical-align: middle;\n",
       "    }\n",
       "\n",
       "    .dataframe tbody tr th {\n",
       "        vertical-align: top;\n",
       "    }\n",
       "\n",
       "    .dataframe thead th {\n",
       "        text-align: right;\n",
       "    }\n",
       "</style>\n",
       "<table border=\"1\" class=\"dataframe\">\n",
       "  <thead>\n",
       "    <tr style=\"text-align: right;\">\n",
       "      <th></th>\n",
       "      <th>Order_Day</th>\n",
       "      <th>Region</th>\n",
       "      <th>Category</th>\n",
       "    </tr>\n",
       "  </thead>\n",
       "  <tbody>\n",
       "    <tr>\n",
       "      <th>count</th>\n",
       "      <td>7261</td>\n",
       "      <td>7261</td>\n",
       "      <td>7261</td>\n",
       "    </tr>\n",
       "    <tr>\n",
       "      <th>unique</th>\n",
       "      <td>366</td>\n",
       "      <td>3</td>\n",
       "      <td>7</td>\n",
       "    </tr>\n",
       "    <tr>\n",
       "      <th>top</th>\n",
       "      <td>2019-06-17</td>\n",
       "      <td>West</td>\n",
       "      <td>Accessories</td>\n",
       "    </tr>\n",
       "    <tr>\n",
       "      <th>freq</th>\n",
       "      <td>21</td>\n",
       "      <td>2502</td>\n",
       "      <td>1098</td>\n",
       "    </tr>\n",
       "  </tbody>\n",
       "</table>\n",
       "</div>"
      ],
      "text/plain": [
       "         Order_Day Region     Category\n",
       "count         7261   7261         7261\n",
       "unique         366      3            7\n",
       "top     2019-06-17   West  Accessories\n",
       "freq            21   2502         1098"
      ]
     },
     "execution_count": 74,
     "metadata": {},
     "output_type": "execute_result"
    }
   ],
   "source": [
    "#quick summary stats:categorical\n",
    "df.describe(include='object')"
   ]
  },
  {
   "cell_type": "code",
   "execution_count": 75,
   "id": "091c2930",
   "metadata": {},
   "outputs": [],
   "source": [
    "#Drop Day\n",
    "df.drop(['Order_Day'], axis=1, inplace=True)"
   ]
  },
  {
   "cell_type": "code",
   "execution_count": 76,
   "id": "b9534636",
   "metadata": {},
   "outputs": [],
   "source": [
    "#reset index\n",
    "df = df.reset_index()\n",
    "df.drop(['index'], axis=1, inplace=True)"
   ]
  },
  {
   "cell_type": "code",
   "execution_count": 77,
   "id": "84561ac7",
   "metadata": {},
   "outputs": [
    {
     "data": {
      "text/html": [
       "<div>\n",
       "<style scoped>\n",
       "    .dataframe tbody tr th:only-of-type {\n",
       "        vertical-align: middle;\n",
       "    }\n",
       "\n",
       "    .dataframe tbody tr th {\n",
       "        vertical-align: top;\n",
       "    }\n",
       "\n",
       "    .dataframe thead th {\n",
       "        text-align: right;\n",
       "    }\n",
       "</style>\n",
       "<table border=\"1\" class=\"dataframe\">\n",
       "  <thead>\n",
       "    <tr style=\"text-align: right;\">\n",
       "      <th></th>\n",
       "      <th>Unique Values</th>\n",
       "    </tr>\n",
       "    <tr>\n",
       "      <th>Variable</th>\n",
       "      <th></th>\n",
       "    </tr>\n",
       "  </thead>\n",
       "  <tbody>\n",
       "    <tr>\n",
       "      <th>Region</th>\n",
       "      <td>3</td>\n",
       "    </tr>\n",
       "    <tr>\n",
       "      <th>Category</th>\n",
       "      <td>7</td>\n",
       "    </tr>\n",
       "    <tr>\n",
       "      <th>Total</th>\n",
       "      <td>3183</td>\n",
       "    </tr>\n",
       "  </tbody>\n",
       "</table>\n",
       "</div>"
      ],
      "text/plain": [
       "          Unique Values\n",
       "Variable               \n",
       "Region                3\n",
       "Category              7\n",
       "Total              3183"
      ]
     },
     "execution_count": 77,
     "metadata": {},
     "output_type": "execute_result"
    }
   ],
   "source": [
    "### Look at Unique Variables\n",
    "df_uniques = pd.DataFrame([[i, len(df[i].unique())] for i in df.columns], columns=['Variable', 'Unique Values']).set_index('Variable')\n",
    "df_uniques"
   ]
  },
  {
   "cell_type": "code",
   "execution_count": 78,
   "id": "161b9bd0",
   "metadata": {},
   "outputs": [
    {
     "data": {
      "text/plain": [
       "[]"
      ]
     },
     "execution_count": 78,
     "metadata": {},
     "output_type": "execute_result"
    }
   ],
   "source": [
    "#look at binary variables\n",
    "binary_variables = list(df_uniques[df_uniques['Unique Values'].between(1, 2, inclusive = 'both')].index)\n",
    "binary_variables"
   ]
  },
  {
   "cell_type": "code",
   "execution_count": 79,
   "id": "e9ceeb60",
   "metadata": {},
   "outputs": [
    {
     "data": {
      "text/plain": [
       "['Region', 'Category']"
      ]
     },
     "execution_count": 79,
     "metadata": {},
     "output_type": "execute_result"
    }
   ],
   "source": [
    "#look at multi-nominal\n",
    "categorical_variables = list(df_uniques[(10 >= df_uniques['Unique Values']) & (df_uniques['Unique Values'] > 2)].index)\n",
    "categorical_variables"
   ]
  },
  {
   "cell_type": "code",
   "execution_count": 80,
   "id": "68ac08c6",
   "metadata": {},
   "outputs": [
    {
     "data": {
      "text/plain": [
       "[['Region', ['Northeast', 'South', 'West']],\n",
       " ['Category',\n",
       "  ['Accessories',\n",
       "   'Appliance',\n",
       "   'Batteries',\n",
       "   'Laptop',\n",
       "   'Monitor',\n",
       "   'Phone',\n",
       "   'TV']]]"
      ]
     },
     "execution_count": 80,
     "metadata": {},
     "output_type": "execute_result"
    }
   ],
   "source": [
    "#look for ordinal/nominal in each categorical\n",
    "[[i, list(df[i].unique())] for i in categorical_variables]"
   ]
  },
  {
   "cell_type": "code",
   "execution_count": 81,
   "id": "1ea6b00f",
   "metadata": {},
   "outputs": [],
   "source": [
    "#specify ordinal\n",
    "ordinal_variables = []"
   ]
  },
  {
   "cell_type": "code",
   "execution_count": 82,
   "id": "9acff8ba",
   "metadata": {},
   "outputs": [],
   "source": [
    "#specify numeric\n",
    "numeric_variables = list(set(df.columns) - set(ordinal_variables) - set(categorical_variables) - set(binary_variables))"
   ]
  },
  {
   "cell_type": "markdown",
   "id": "976cc06e",
   "metadata": {},
   "source": [
    "Data Visualization\n",
    "==="
   ]
  },
  {
   "cell_type": "code",
   "execution_count": 83,
   "id": "85d7dd76",
   "metadata": {},
   "outputs": [
    {
     "data": {
      "text/plain": [
       "array([[<AxesSubplot:title={'center':'Total'}>]], dtype=object)"
      ]
     },
     "execution_count": 83,
     "metadata": {},
     "output_type": "execute_result"
    },
    {
     "data": {
      "image/png": "[encoded data removed]",
      "text/plain": [
       "<Figure size 864x432 with 1 Axes>"
      ]
     },
     "metadata": {},
     "output_type": "display_data"
    }
   ],
   "source": [
    "#histogram of numeric values\n",
    "df[numeric_variables].hist(figsize=(12, 6))"
   ]
  },
  {
   "cell_type": "markdown",
   "id": "86d0a297",
   "metadata": {},
   "source": [
    "Check Normal Distribution on Features/Target (Skew)\n",
    "===="
   ]
  },
  {
   "cell_type": "code",
   "execution_count": 84,
   "id": "65bf363d",
   "metadata": {},
   "outputs": [
    {
     "data": {
      "text/plain": [
       "Index(['Total'], dtype='object')"
      ]
     },
     "execution_count": 84,
     "metadata": {},
     "output_type": "execute_result"
    }
   ],
   "source": [
    "#looking at which columns are numbers\n",
    "df.select_dtypes('number').columns"
   ]
  },
  {
   "cell_type": "code",
   "execution_count": 85,
   "id": "d9617a7f",
   "metadata": {},
   "outputs": [],
   "source": [
    "# Create a list of float colums to check for skewing\n",
    "mask = df.dtypes == float\n",
    "float_cols = df.columns[mask]\n",
    "\n",
    "skew_limit = 0.75 # define a limit above which we will log transform\n",
    "skew_vals = df[float_cols].skew()"
   ]
  },
  {
   "cell_type": "code",
   "execution_count": 86,
   "id": "e6858fb7",
   "metadata": {},
   "outputs": [
    {
     "data": {
      "text/html": [
       "<div>\n",
       "<style scoped>\n",
       "    .dataframe tbody tr th:only-of-type {\n",
       "        vertical-align: middle;\n",
       "    }\n",
       "\n",
       "    .dataframe tbody tr th {\n",
       "        vertical-align: top;\n",
       "    }\n",
       "\n",
       "    .dataframe thead th {\n",
       "        text-align: right;\n",
       "    }\n",
       "</style>\n",
       "<table border=\"1\" class=\"dataframe\">\n",
       "  <thead>\n",
       "    <tr style=\"text-align: right;\">\n",
       "      <th></th>\n",
       "      <th>Skew</th>\n",
       "    </tr>\n",
       "  </thead>\n",
       "  <tbody>\n",
       "    <tr>\n",
       "      <th>Total</th>\n",
       "      <td>1.903055</td>\n",
       "    </tr>\n",
       "  </tbody>\n",
       "</table>\n",
       "</div>"
      ],
      "text/plain": [
       "           Skew\n",
       "Total  1.903055"
      ]
     },
     "execution_count": 86,
     "metadata": {},
     "output_type": "execute_result"
    }
   ],
   "source": [
    "# Showing the skewed columns\n",
    "skew_cols = (skew_vals\n",
    "             .sort_values(ascending=False)\n",
    "             .to_frame()\n",
    "             .rename(columns={0:'Skew'})\n",
    "             .query('abs(Skew) > {}'.format(skew_limit)))\n",
    "\n",
    "skew_cols"
   ]
  },
  {
   "cell_type": "code",
   "execution_count": 87,
   "id": "66a32d25",
   "metadata": {},
   "outputs": [],
   "source": [
    "# Create a list of int colums to check for skewing\n",
    "mask2 = df.dtypes == int\n",
    "int_cols = df.columns[mask2]\n",
    "\n",
    "skew_limit = 0.75 # define a limit above which we will skew transform\n",
    "skew_vals2 = df[int_cols].skew()"
   ]
  },
  {
   "cell_type": "code",
   "execution_count": 88,
   "id": "506fb931",
   "metadata": {},
   "outputs": [
    {
     "data": {
      "text/html": [
       "<div>\n",
       "<style scoped>\n",
       "    .dataframe tbody tr th:only-of-type {\n",
       "        vertical-align: middle;\n",
       "    }\n",
       "\n",
       "    .dataframe tbody tr th {\n",
       "        vertical-align: top;\n",
       "    }\n",
       "\n",
       "    .dataframe thead th {\n",
       "        text-align: right;\n",
       "    }\n",
       "</style>\n",
       "<table border=\"1\" class=\"dataframe\">\n",
       "  <thead>\n",
       "    <tr style=\"text-align: right;\">\n",
       "      <th></th>\n",
       "      <th>Skew</th>\n",
       "    </tr>\n",
       "  </thead>\n",
       "  <tbody>\n",
       "  </tbody>\n",
       "</table>\n",
       "</div>"
      ],
      "text/plain": [
       "Empty DataFrame\n",
       "Columns: [Skew]\n",
       "Index: []"
      ]
     },
     "execution_count": 88,
     "metadata": {},
     "output_type": "execute_result"
    }
   ],
   "source": [
    "# Showing the skewed columns\n",
    "skew_cols = (skew_vals2\n",
    "             .sort_values(ascending=False)\n",
    "             .to_frame()\n",
    "             .rename(columns={0:'Skew'})\n",
    "             .query('abs(Skew) > {}'.format(skew_limit)))\n",
    "\n",
    "skew_cols"
   ]
  },
  {
   "cell_type": "markdown",
   "id": "3534663d",
   "metadata": {},
   "source": [
    "Check Normal Distribution After Transformation\n",
    "===="
   ]
  },
  {
   "cell_type": "code",
   "execution_count": 223,
   "id": "f3d3aa1c",
   "metadata": {},
   "outputs": [
    {
     "data": {
      "text/plain": [
       "NormaltestResult(statistic=2781.888655322279, pvalue=0.0)"
      ]
     },
     "execution_count": 223,
     "metadata": {},
     "output_type": "execute_result"
    }
   ],
   "source": [
    "normaltest(df.Total)"
   ]
  },
  {
   "cell_type": "code",
   "execution_count": 89,
   "id": "e00eca02",
   "metadata": {},
   "outputs": [],
   "source": [
    "#Transformed data with transformation for SAS use to double check work.\n",
    "df.to_csv('C:\\\\Users\\\\2-1\\\\Downloads\\\\Sales_Day_Log_Processed.csv')"
   ]
  },
  {
   "cell_type": "markdown",
   "id": "cd7254b4",
   "metadata": {},
   "source": [
    "Statistics ANOVA\n",
    "===="
   ]
  },
  {
   "cell_type": "code",
   "execution_count": 90,
   "id": "f53990ab",
   "metadata": {},
   "outputs": [
    {
     "data": {
      "text/html": [
       "<div>\n",
       "<style scoped>\n",
       "    .dataframe tbody tr th:only-of-type {\n",
       "        vertical-align: middle;\n",
       "    }\n",
       "\n",
       "    .dataframe tbody tr th {\n",
       "        vertical-align: top;\n",
       "    }\n",
       "\n",
       "    .dataframe thead th {\n",
       "        text-align: right;\n",
       "    }\n",
       "</style>\n",
       "<table border=\"1\" class=\"dataframe\">\n",
       "  <thead>\n",
       "    <tr style=\"text-align: right;\">\n",
       "      <th></th>\n",
       "      <th>sum_sq</th>\n",
       "      <th>df</th>\n",
       "      <th>F</th>\n",
       "      <th>PR(&gt;F)</th>\n",
       "    </tr>\n",
       "  </thead>\n",
       "  <tbody>\n",
       "    <tr>\n",
       "      <th>C(Category)</th>\n",
       "      <td>1.057854e+11</td>\n",
       "      <td>6.0</td>\n",
       "      <td>2679.434861</td>\n",
       "      <td>0.0</td>\n",
       "    </tr>\n",
       "    <tr>\n",
       "      <th>C(Region)</th>\n",
       "      <td>2.808636e+10</td>\n",
       "      <td>2.0</td>\n",
       "      <td>2134.196549</td>\n",
       "      <td>0.0</td>\n",
       "    </tr>\n",
       "    <tr>\n",
       "      <th>C(Category):C(Region)</th>\n",
       "      <td>1.914276e+10</td>\n",
       "      <td>12.0</td>\n",
       "      <td>242.433223</td>\n",
       "      <td>0.0</td>\n",
       "    </tr>\n",
       "    <tr>\n",
       "      <th>Residual</th>\n",
       "      <td>4.763977e+10</td>\n",
       "      <td>7240.0</td>\n",
       "      <td>NaN</td>\n",
       "      <td>NaN</td>\n",
       "    </tr>\n",
       "  </tbody>\n",
       "</table>\n",
       "</div>"
      ],
      "text/plain": [
       "                             sum_sq      df            F  PR(>F)\n",
       "C(Category)            1.057854e+11     6.0  2679.434861     0.0\n",
       "C(Region)              2.808636e+10     2.0  2134.196549     0.0\n",
       "C(Category):C(Region)  1.914276e+10    12.0   242.433223     0.0\n",
       "Residual               4.763977e+10  7240.0          NaN     NaN"
      ]
     },
     "execution_count": 90,
     "metadata": {},
     "output_type": "execute_result"
    }
   ],
   "source": [
    "#Statistics ANOVA\n",
    "import statsmodels.api as sm\n",
    "from statsmodels.formula.api import ols\n",
    "\n",
    "product_lm = ols('Total ~ C(Category) + C(Region) + C(Category)*C(Region)', data=df).fit()\n",
    "\n",
    "table = sm.stats.anova_lm(product_lm, typ=2) # Type 2 ANOVA DataFrame\n",
    "summary1 = product_lm.summary()\n",
    "summary2 = product_lm.summary2()\n",
    "table"
   ]
  },
  {
   "cell_type": "code",
   "execution_count": 91,
   "id": "38ba7fd8",
   "metadata": {},
   "outputs": [
    {
     "data": {
      "text/html": [
       "<table class=\"simpletable\">\n",
       "<caption>OLS Regression Results</caption>\n",
       "<tr>\n",
       "  <th>Dep. Variable:</th>          <td>Total</td>      <th>  R-squared:         </th> <td>   0.760</td> \n",
       "</tr>\n",
       "<tr>\n",
       "  <th>Model:</th>                   <td>OLS</td>       <th>  Adj. R-squared:    </th> <td>   0.759</td> \n",
       "</tr>\n",
       "<tr>\n",
       "  <th>Method:</th>             <td>Least Squares</td>  <th>  F-statistic:       </th> <td>   1144.</td> \n",
       "</tr>\n",
       "<tr>\n",
       "  <th>Date:</th>             <td>Tue, 19 Apr 2022</td> <th>  Prob (F-statistic):</th>  <td>  0.00</td>  \n",
       "</tr>\n",
       "<tr>\n",
       "  <th>Time:</th>                 <td>08:38:13</td>     <th>  Log-Likelihood:    </th> <td> -67290.</td> \n",
       "</tr>\n",
       "<tr>\n",
       "  <th>No. Observations:</th>      <td>  7261</td>      <th>  AIC:               </th> <td>1.346e+05</td>\n",
       "</tr>\n",
       "<tr>\n",
       "  <th>Df Residuals:</th>          <td>  7240</td>      <th>  BIC:               </th> <td>1.348e+05</td>\n",
       "</tr>\n",
       "<tr>\n",
       "  <th>Df Model:</th>              <td>    20</td>      <th>                     </th>     <td> </td>    \n",
       "</tr>\n",
       "<tr>\n",
       "  <th>Covariance Type:</th>      <td>nonrobust</td>    <th>                     </th>     <td> </td>    \n",
       "</tr>\n",
       "</table>\n",
       "<table class=\"simpletable\">\n",
       "<tr>\n",
       "                       <td></td>                          <th>coef</th>     <th>std err</th>      <th>t</th>      <th>P>|t|</th>  <th>[0.025</th>    <th>0.975]</th>  \n",
       "</tr>\n",
       "<tr>\n",
       "  <th>Intercept</th>                                   <td> 3162.2182</td> <td>  134.083</td> <td>   23.584</td> <td> 0.000</td> <td> 2899.376</td> <td> 3425.061</td>\n",
       "</tr>\n",
       "<tr>\n",
       "  <th>C(Category)[T.Appliance]</th>                    <td>-2297.1019</td> <td>  220.416</td> <td>  -10.422</td> <td> 0.000</td> <td>-2729.182</td> <td>-1865.022</td>\n",
       "</tr>\n",
       "<tr>\n",
       "  <th>C(Category)[T.Batteries]</th>                    <td>-3023.6471</td> <td>  189.623</td> <td>  -15.946</td> <td> 0.000</td> <td>-3395.363</td> <td>-2651.932</td>\n",
       "</tr>\n",
       "<tr>\n",
       "  <th>C(Category)[T.Laptop]</th>                       <td> 5326.2459</td> <td>  189.752</td> <td>   28.069</td> <td> 0.000</td> <td> 4954.276</td> <td> 5698.216</td>\n",
       "</tr>\n",
       "<tr>\n",
       "  <th>C(Category)[T.Monitor]</th>                      <td> 1347.4747</td> <td>  189.752</td> <td>    7.101</td> <td> 0.000</td> <td>  975.505</td> <td> 1719.445</td>\n",
       "</tr>\n",
       "<tr>\n",
       "  <th>C(Category)[T.Phone]</th>                        <td> 3009.3665</td> <td>  189.623</td> <td>   15.870</td> <td> 0.000</td> <td> 2637.651</td> <td> 3381.082</td>\n",
       "</tr>\n",
       "<tr>\n",
       "  <th>C(Category)[T.TV]</th>                           <td>-2085.3396</td> <td>  192.343</td> <td>  -10.842</td> <td> 0.000</td> <td>-2462.388</td> <td>-1708.291</td>\n",
       "</tr>\n",
       "<tr>\n",
       "  <th>C(Region)[T.South]</th>                          <td> -501.7966</td> <td>  189.623</td> <td>   -2.646</td> <td> 0.008</td> <td> -873.512</td> <td> -130.081</td>\n",
       "</tr>\n",
       "<tr>\n",
       "  <th>C(Region)[T.West]</th>                           <td> 3492.8755</td> <td>  189.623</td> <td>   18.420</td> <td> 0.000</td> <td> 3121.160</td> <td> 3864.591</td>\n",
       "</tr>\n",
       "<tr>\n",
       "  <th>C(Category)[T.Appliance]:C(Region)[T.South]</th> <td>  497.6803</td> <td>  315.376</td> <td>    1.578</td> <td> 0.115</td> <td> -120.549</td> <td> 1115.910</td>\n",
       "</tr>\n",
       "<tr>\n",
       "  <th>C(Category)[T.Batteries]:C(Region)[T.South]</th> <td>  478.4933</td> <td>  268.259</td> <td>    1.784</td> <td> 0.075</td> <td>  -47.372</td> <td> 1004.358</td>\n",
       "</tr>\n",
       "<tr>\n",
       "  <th>C(Category)[T.Laptop]:C(Region)[T.South]</th>    <td> -739.5852</td> <td>  268.535</td> <td>   -2.754</td> <td> 0.006</td> <td>-1265.993</td> <td> -213.178</td>\n",
       "</tr>\n",
       "<tr>\n",
       "  <th>C(Category)[T.Monitor]:C(Region)[T.South]</th>   <td> -358.6083</td> <td>  268.259</td> <td>   -1.337</td> <td> 0.181</td> <td> -884.473</td> <td>  167.257</td>\n",
       "</tr>\n",
       "<tr>\n",
       "  <th>C(Category)[T.Phone]:C(Region)[T.South]</th>     <td> -455.5416</td> <td>  268.259</td> <td>   -1.698</td> <td> 0.090</td> <td> -981.407</td> <td>   70.324</td>\n",
       "</tr>\n",
       "<tr>\n",
       "  <th>C(Category)[T.TV]:C(Region)[T.South]</th>        <td>  352.7440</td> <td>  272.116</td> <td>    1.296</td> <td> 0.195</td> <td> -180.682</td> <td>  886.170</td>\n",
       "</tr>\n",
       "<tr>\n",
       "  <th>C(Category)[T.Appliance]:C(Region)[T.West]</th>  <td>-2965.1347</td> <td>  296.523</td> <td>  -10.000</td> <td> 0.000</td> <td>-3546.405</td> <td>-2383.864</td>\n",
       "</tr>\n",
       "<tr>\n",
       "  <th>C(Category)[T.Batteries]:C(Region)[T.West]</th>  <td>-3342.1024</td> <td>  268.167</td> <td>  -12.463</td> <td> 0.000</td> <td>-3867.788</td> <td>-2816.417</td>\n",
       "</tr>\n",
       "<tr>\n",
       "  <th>C(Category)[T.Laptop]:C(Region)[T.West]</th>     <td> 5639.1492</td> <td>  268.350</td> <td>   21.014</td> <td> 0.000</td> <td> 5113.104</td> <td> 6165.194</td>\n",
       "</tr>\n",
       "<tr>\n",
       "  <th>C(Category)[T.Monitor]:C(Region)[T.West]</th>    <td> 1257.7094</td> <td>  268.259</td> <td>    4.688</td> <td> 0.000</td> <td>  731.844</td> <td> 1783.574</td>\n",
       "</tr>\n",
       "<tr>\n",
       "  <th>C(Category)[T.Phone]:C(Region)[T.West]</th>      <td> 3383.3540</td> <td>  268.167</td> <td>   12.617</td> <td> 0.000</td> <td> 2857.669</td> <td> 3909.039</td>\n",
       "</tr>\n",
       "<tr>\n",
       "  <th>C(Category)[T.TV]:C(Region)[T.West]</th>         <td>-2511.6720</td> <td>  270.189</td> <td>   -9.296</td> <td> 0.000</td> <td>-3041.320</td> <td>-1982.023</td>\n",
       "</tr>\n",
       "</table>\n",
       "<table class=\"simpletable\">\n",
       "<tr>\n",
       "  <th>Omnibus:</th>       <td>2062.105</td> <th>  Durbin-Watson:     </th> <td>   1.524</td> \n",
       "</tr>\n",
       "<tr>\n",
       "  <th>Prob(Omnibus):</th>  <td> 0.000</td>  <th>  Jarque-Bera (JB):  </th> <td>23935.124</td>\n",
       "</tr>\n",
       "<tr>\n",
       "  <th>Skew:</th>           <td> 1.025</td>  <th>  Prob(JB):          </th> <td>    0.00</td> \n",
       "</tr>\n",
       "<tr>\n",
       "  <th>Kurtosis:</th>       <td>11.655</td>  <th>  Cond. No.          </th> <td>    28.8</td> \n",
       "</tr>\n",
       "</table><br/><br/>Notes:<br/>[1] Standard Errors assume that the covariance matrix of the errors is correctly specified."
      ],
      "text/plain": [
       "<class 'statsmodels.iolib.summary.Summary'>\n",
       "\"\"\"\n",
       "                            OLS Regression Results                            \n",
       "==============================================================================\n",
       "Dep. Variable:                  Total   R-squared:                       0.760\n",
       "Model:                            OLS   Adj. R-squared:                  0.759\n",
       "Method:                 Least Squares   F-statistic:                     1144.\n",
       "Date:                Tue, 19 Apr 2022   Prob (F-statistic):               0.00\n",
       "Time:                        08:38:13   Log-Likelihood:                -67290.\n",
       "No. Observations:                7261   AIC:                         1.346e+05\n",
       "Df Residuals:                    7240   BIC:                         1.348e+05\n",
       "Df Model:                          20                                         \n",
       "Covariance Type:            nonrobust                                         \n",
       "===============================================================================================================\n",
       "                                                  coef    std err          t      P>|t|      [0.025      0.975]\n",
       "---------------------------------------------------------------------------------------------------------------\n",
       "Intercept                                    3162.2182    134.083     23.584      0.000    2899.376    3425.061\n",
       "C(Category)[T.Appliance]                    -2297.1019    220.416    -10.422      0.000   -2729.182   -1865.022\n",
       "C(Category)[T.Batteries]                    -3023.6471    189.623    -15.946      0.000   -3395.363   -2651.932\n",
       "C(Category)[T.Laptop]                        5326.2459    189.752     28.069      0.000    4954.276    5698.216\n",
       "C(Category)[T.Monitor]                       1347.4747    189.752      7.101      0.000     975.505    1719.445\n",
       "C(Category)[T.Phone]                         3009.3665    189.623     15.870      0.000    2637.651    3381.082\n",
       "C(Category)[T.TV]                           -2085.3396    192.343    -10.842      0.000   -2462.388   -1708.291\n",
       "C(Region)[T.South]                           -501.7966    189.623     -2.646      0.008    -873.512    -130.081\n",
       "C(Region)[T.West]                            3492.8755    189.623     18.420      0.000    3121.160    3864.591\n",
       "C(Category)[T.Appliance]:C(Region)[T.South]   497.6803    315.376      1.578      0.115    -120.549    1115.910\n",
       "C(Category)[T.Batteries]:C(Region)[T.South]   478.4933    268.259      1.784      0.075     -47.372    1004.358\n",
       "C(Category)[T.Laptop]:C(Region)[T.South]     -739.5852    268.535     -2.754      0.006   -1265.993    -213.178\n",
       "C(Category)[T.Monitor]:C(Region)[T.South]    -358.6083    268.259     -1.337      0.181    -884.473     167.257\n",
       "C(Category)[T.Phone]:C(Region)[T.South]      -455.5416    268.259     -1.698      0.090    -981.407      70.324\n",
       "C(Category)[T.TV]:C(Region)[T.South]          352.7440    272.116      1.296      0.195    -180.682     886.170\n",
       "C(Category)[T.Appliance]:C(Region)[T.West]  -2965.1347    296.523    -10.000      0.000   -3546.405   -2383.864\n",
       "C(Category)[T.Batteries]:C(Region)[T.West]  -3342.1024    268.167    -12.463      0.000   -3867.788   -2816.417\n",
       "C(Category)[T.Laptop]:C(Region)[T.West]      5639.1492    268.350     21.014      0.000    5113.104    6165.194\n",
       "C(Category)[T.Monitor]:C(Region)[T.West]     1257.7094    268.259      4.688      0.000     731.844    1783.574\n",
       "C(Category)[T.Phone]:C(Region)[T.West]       3383.3540    268.167     12.617      0.000    2857.669    3909.039\n",
       "C(Category)[T.TV]:C(Region)[T.West]         -2511.6720    270.189     -9.296      0.000   -3041.320   -1982.023\n",
       "==============================================================================\n",
       "Omnibus:                     2062.105   Durbin-Watson:                   1.524\n",
       "Prob(Omnibus):                  0.000   Jarque-Bera (JB):            23935.124\n",
       "Skew:                           1.025   Prob(JB):                         0.00\n",
       "Kurtosis:                      11.655   Cond. No.                         28.8\n",
       "==============================================================================\n",
       "\n",
       "Notes:\n",
       "[1] Standard Errors assume that the covariance matrix of the errors is correctly specified.\n",
       "\"\"\""
      ]
     },
     "execution_count": 91,
     "metadata": {},
     "output_type": "execute_result"
    }
   ],
   "source": [
    "summary1"
   ]
  },
  {
   "cell_type": "code",
   "execution_count": 92,
   "id": "3b5ad408",
   "metadata": {},
   "outputs": [
    {
     "data": {
      "text/html": [
       "<table class=\"simpletable\">\n",
       "<tr>\n",
       "        <td>Model:</td>               <td>OLS</td>         <td>Adj. R-squared:</td>      <td>0.759</td>   \n",
       "</tr>\n",
       "<tr>\n",
       "  <td>Dependent Variable:</td>       <td>Total</td>             <td>AIC:</td>         <td>134621.2803</td>\n",
       "</tr>\n",
       "<tr>\n",
       "         <td>Date:</td>        <td>2022-04-19 08:38</td>        <td>BIC:</td>         <td>134765.9760</td>\n",
       "</tr>\n",
       "<tr>\n",
       "   <td>No. Observations:</td>        <td>7261</td>         <td>Log-Likelihood:</td>     <td>-67290.</td>  \n",
       "</tr>\n",
       "<tr>\n",
       "       <td>Df Model:</td>             <td>20</td>           <td>F-statistic:</td>        <td>1144.</td>   \n",
       "</tr>\n",
       "<tr>\n",
       "     <td>Df Residuals:</td>          <td>7240</td>       <td>Prob (F-statistic):</td>    <td>0.00</td>    \n",
       "</tr>\n",
       "<tr>\n",
       "      <td>R-squared:</td>            <td>0.760</td>            <td>Scale:</td>        <td>6.5801e+06</td> \n",
       "</tr>\n",
       "</table>\n",
       "<table class=\"simpletable\">\n",
       "<tr>\n",
       "                       <td></td>                          <th>Coef.</th>   <th>Std.Err.</th>     <th>t</th>     <th>P>|t|</th>   <th>[0.025</th>     <th>0.975]</th>  \n",
       "</tr>\n",
       "<tr>\n",
       "  <th>Intercept</th>                                    <td>3162.2182</td> <td>134.0834</td>  <td>23.5840</td> <td>0.0000</td>  <td>2899.3756</td>  <td>3425.0607</td>\n",
       "</tr>\n",
       "<tr>\n",
       "  <th>C(Category)[T.Appliance]</th>                    <td>-2297.1019</td> <td>220.4164</td> <td>-10.4216</td> <td>0.0000</td> <td>-2729.1823</td> <td>-1865.0215</td>\n",
       "</tr>\n",
       "<tr>\n",
       "  <th>C(Category)[T.Batteries]</th>                    <td>-3023.6471</td> <td>189.6226</td> <td>-15.9456</td> <td>0.0000</td> <td>-3395.3626</td> <td>-2651.9316</td>\n",
       "</tr>\n",
       "<tr>\n",
       "  <th>C(Category)[T.Laptop]</th>                        <td>5326.2459</td> <td>189.7524</td>  <td>28.0695</td> <td>0.0000</td>  <td>4954.2759</td>  <td>5698.2160</td>\n",
       "</tr>\n",
       "<tr>\n",
       "  <th>C(Category)[T.Monitor]</th>                       <td>1347.4747</td> <td>189.7524</td>  <td>7.1012</td>  <td>0.0000</td>  <td>975.5047</td>   <td>1719.4448</td>\n",
       "</tr>\n",
       "<tr>\n",
       "  <th>C(Category)[T.Phone]</th>                         <td>3009.3665</td> <td>189.6226</td>  <td>15.8703</td> <td>0.0000</td>  <td>2637.6510</td>  <td>3381.0821</td>\n",
       "</tr>\n",
       "<tr>\n",
       "  <th>C(Category)[T.TV]</th>                           <td>-2085.3396</td> <td>192.3432</td> <td>-10.8418</td> <td>0.0000</td> <td>-2462.3884</td> <td>-1708.2907</td>\n",
       "</tr>\n",
       "<tr>\n",
       "  <th>C(Region)[T.South]</th>                           <td>-501.7966</td> <td>189.6226</td>  <td>-2.6463</td> <td>0.0082</td>  <td>-873.5121</td>  <td>-130.0810</td>\n",
       "</tr>\n",
       "<tr>\n",
       "  <th>C(Region)[T.West]</th>                            <td>3492.8755</td> <td>189.6226</td>  <td>18.4201</td> <td>0.0000</td>  <td>3121.1600</td>  <td>3864.5911</td>\n",
       "</tr>\n",
       "<tr>\n",
       "  <th>C(Category)[T.Appliance]:C(Region)[T.South]</th>  <td>497.6803</td>  <td>315.3762</td>  <td>1.5781</td>  <td>0.1146</td>  <td>-120.5490</td>  <td>1115.9096</td>\n",
       "</tr>\n",
       "<tr>\n",
       "  <th>C(Category)[T.Batteries]:C(Region)[T.South]</th>  <td>478.4933</td>  <td>268.2586</td>  <td>1.7837</td>  <td>0.0745</td>  <td>-47.3719</td>   <td>1004.3584</td>\n",
       "</tr>\n",
       "<tr>\n",
       "  <th>C(Category)[T.Laptop]:C(Region)[T.South]</th>     <td>-739.5852</td> <td>268.5354</td>  <td>-2.7541</td> <td>0.0059</td> <td>-1265.9930</td>  <td>-213.1775</td>\n",
       "</tr>\n",
       "<tr>\n",
       "  <th>C(Category)[T.Monitor]:C(Region)[T.South]</th>    <td>-358.6083</td> <td>268.2586</td>  <td>-1.3368</td> <td>0.1813</td>  <td>-884.4734</td>  <td>167.2568</td> \n",
       "</tr>\n",
       "<tr>\n",
       "  <th>C(Category)[T.Phone]:C(Region)[T.South]</th>      <td>-455.5416</td> <td>268.2586</td>  <td>-1.6981</td> <td>0.0895</td>  <td>-981.4067</td>   <td>70.3236</td> \n",
       "</tr>\n",
       "<tr>\n",
       "  <th>C(Category)[T.TV]:C(Region)[T.South]</th>         <td>352.7440</td>  <td>272.1157</td>  <td>1.2963</td>  <td>0.1949</td>  <td>-180.6822</td>  <td>886.1703</td> \n",
       "</tr>\n",
       "<tr>\n",
       "  <th>C(Category)[T.Appliance]:C(Region)[T.West]</th>  <td>-2965.1347</td> <td>296.5226</td>  <td>-9.9997</td> <td>0.0000</td> <td>-3546.4054</td> <td>-2383.8640</td>\n",
       "</tr>\n",
       "<tr>\n",
       "  <th>C(Category)[T.Batteries]:C(Region)[T.West]</th>  <td>-3342.1024</td> <td>268.1668</td> <td>-12.4628</td> <td>0.0000</td> <td>-3867.7875</td> <td>-2816.4172</td>\n",
       "</tr>\n",
       "<tr>\n",
       "  <th>C(Category)[T.Laptop]:C(Region)[T.West]</th>      <td>5639.1492</td> <td>268.3504</td>  <td>21.0141</td> <td>0.0000</td>  <td>5113.1041</td>  <td>6165.1943</td>\n",
       "</tr>\n",
       "<tr>\n",
       "  <th>C(Category)[T.Monitor]:C(Region)[T.West]</th>     <td>1257.7094</td> <td>268.2586</td>  <td>4.6884</td>  <td>0.0000</td>  <td>731.8442</td>   <td>1783.5745</td>\n",
       "</tr>\n",
       "<tr>\n",
       "  <th>C(Category)[T.Phone]:C(Region)[T.West]</th>       <td>3383.3540</td> <td>268.1668</td>  <td>12.6166</td> <td>0.0000</td>  <td>2857.6688</td>  <td>3909.0391</td>\n",
       "</tr>\n",
       "<tr>\n",
       "  <th>C(Category)[T.TV]:C(Region)[T.West]</th>         <td>-2511.6720</td> <td>270.1886</td>  <td>-9.2960</td> <td>0.0000</td> <td>-3041.3205</td> <td>-1982.0234</td>\n",
       "</tr>\n",
       "</table>\n",
       "<table class=\"simpletable\">\n",
       "<tr>\n",
       "     <td>Omnibus:</td>    <td>2062.105</td>  <td>Durbin-Watson:</td>     <td>1.524</td>  \n",
       "</tr>\n",
       "<tr>\n",
       "  <td>Prob(Omnibus):</td>   <td>0.000</td>  <td>Jarque-Bera (JB):</td> <td>23935.124</td>\n",
       "</tr>\n",
       "<tr>\n",
       "       <td>Skew:</td>       <td>1.025</td>      <td>Prob(JB):</td>       <td>0.000</td>  \n",
       "</tr>\n",
       "<tr>\n",
       "     <td>Kurtosis:</td>    <td>11.655</td>   <td>Condition No.:</td>      <td>29</td>    \n",
       "</tr>\n",
       "</table>"
      ],
      "text/plain": [
       "<class 'statsmodels.iolib.summary2.Summary'>\n",
       "\"\"\"\n",
       "                                   Results: Ordinary least squares\n",
       "=====================================================================================================\n",
       "Model:                         OLS                         Adj. R-squared:                0.759      \n",
       "Dependent Variable:            Total                       AIC:                           134621.2803\n",
       "Date:                          2022-04-19 08:38            BIC:                           134765.9760\n",
       "No. Observations:              7261                        Log-Likelihood:                -67290.    \n",
       "Df Model:                      20                          F-statistic:                   1144.      \n",
       "Df Residuals:                  7240                        Prob (F-statistic):            0.00       \n",
       "R-squared:                     0.760                       Scale:                         6.5801e+06 \n",
       "-----------------------------------------------------------------------------------------------------\n",
       "                                              Coef.    Std.Err.    t     P>|t|    [0.025     0.975]  \n",
       "-----------------------------------------------------------------------------------------------------\n",
       "Intercept                                    3162.2182 134.0834  23.5840 0.0000  2899.3756  3425.0607\n",
       "C(Category)[T.Appliance]                    -2297.1019 220.4164 -10.4216 0.0000 -2729.1823 -1865.0215\n",
       "C(Category)[T.Batteries]                    -3023.6471 189.6226 -15.9456 0.0000 -3395.3626 -2651.9316\n",
       "C(Category)[T.Laptop]                        5326.2459 189.7524  28.0695 0.0000  4954.2759  5698.2160\n",
       "C(Category)[T.Monitor]                       1347.4747 189.7524   7.1012 0.0000   975.5047  1719.4448\n",
       "C(Category)[T.Phone]                         3009.3665 189.6226  15.8703 0.0000  2637.6510  3381.0821\n",
       "C(Category)[T.TV]                           -2085.3396 192.3432 -10.8418 0.0000 -2462.3884 -1708.2907\n",
       "C(Region)[T.South]                           -501.7966 189.6226  -2.6463 0.0082  -873.5121  -130.0810\n",
       "C(Region)[T.West]                            3492.8755 189.6226  18.4201 0.0000  3121.1600  3864.5911\n",
       "C(Category)[T.Appliance]:C(Region)[T.South]   497.6803 315.3762   1.5781 0.1146  -120.5490  1115.9096\n",
       "C(Category)[T.Batteries]:C(Region)[T.South]   478.4933 268.2586   1.7837 0.0745   -47.3719  1004.3584\n",
       "C(Category)[T.Laptop]:C(Region)[T.South]     -739.5852 268.5354  -2.7541 0.0059 -1265.9930  -213.1775\n",
       "C(Category)[T.Monitor]:C(Region)[T.South]    -358.6083 268.2586  -1.3368 0.1813  -884.4734   167.2568\n",
       "C(Category)[T.Phone]:C(Region)[T.South]      -455.5416 268.2586  -1.6981 0.0895  -981.4067    70.3236\n",
       "C(Category)[T.TV]:C(Region)[T.South]          352.7440 272.1157   1.2963 0.1949  -180.6822   886.1703\n",
       "C(Category)[T.Appliance]:C(Region)[T.West]  -2965.1347 296.5226  -9.9997 0.0000 -3546.4054 -2383.8640\n",
       "C(Category)[T.Batteries]:C(Region)[T.West]  -3342.1024 268.1668 -12.4628 0.0000 -3867.7875 -2816.4172\n",
       "C(Category)[T.Laptop]:C(Region)[T.West]      5639.1492 268.3504  21.0141 0.0000  5113.1041  6165.1943\n",
       "C(Category)[T.Monitor]:C(Region)[T.West]     1257.7094 268.2586   4.6884 0.0000   731.8442  1783.5745\n",
       "C(Category)[T.Phone]:C(Region)[T.West]       3383.3540 268.1668  12.6166 0.0000  2857.6688  3909.0391\n",
       "C(Category)[T.TV]:C(Region)[T.West]         -2511.6720 270.1886  -9.2960 0.0000 -3041.3205 -1982.0234\n",
       "-----------------------------------------------------------------------------------------------------\n",
       "Omnibus:                         2062.105                 Durbin-Watson:                    1.524    \n",
       "Prob(Omnibus):                   0.000                    Jarque-Bera (JB):                 23935.124\n",
       "Skew:                            1.025                    Prob(JB):                         0.000    \n",
       "Kurtosis:                        11.655                   Condition No.:                    29       \n",
       "=====================================================================================================\n",
       "\n",
       "\"\"\""
      ]
     },
     "execution_count": 92,
     "metadata": {},
     "output_type": "execute_result"
    }
   ],
   "source": [
    "summary2"
   ]
  },
  {
   "cell_type": "markdown",
   "id": "ce3d6483",
   "metadata": {},
   "source": [
    "Machine Learning\n",
    "==="
   ]
  },
  {
   "cell_type": "markdown",
   "id": "7e76250b",
   "metadata": {},
   "source": [
    "Binary: Encoder\n",
    "==="
   ]
  },
  {
   "cell_type": "code",
   "execution_count": 93,
   "id": "3712b261",
   "metadata": {},
   "outputs": [],
   "source": [
    "lb, le, oe = LabelBinarizer(), LabelEncoder(), OrdinalEncoder()\n",
    "#binary\n",
    "for column in binary_variables:\n",
    "    df[column] = lb.fit_transform(df[column])"
   ]
  },
  {
   "cell_type": "markdown",
   "id": "48ee311f",
   "metadata": {},
   "source": [
    "Ordinal: Label Encoder\n",
    "===="
   ]
  },
  {
   "cell_type": "code",
   "execution_count": 94,
   "id": "4eb2b0de",
   "metadata": {},
   "outputs": [],
   "source": [
    "#Ordinal\n",
    "for column in ordinal_variables:\n",
    "    df[column] = le.fit_transform(df[column])"
   ]
  },
  {
   "cell_type": "markdown",
   "id": "ad3f5f66",
   "metadata": {},
   "source": [
    "Nominal: Encoder\n",
    "=="
   ]
  },
  {
   "cell_type": "code",
   "execution_count": 95,
   "id": "91db3efe",
   "metadata": {},
   "outputs": [],
   "source": [
    "#Nominal\n",
    "categorical_variables = list(set(categorical_variables) - set(ordinal_variables))\n",
    "df = pd.get_dummies(df, columns = categorical_variables, drop_first=False)"
   ]
  },
  {
   "cell_type": "markdown",
   "id": "9c96940d",
   "metadata": {},
   "source": [
    "Extract X/Y (Target / Features)\n",
    "===="
   ]
  },
  {
   "cell_type": "code",
   "execution_count": 96,
   "id": "aa01cd3e",
   "metadata": {},
   "outputs": [],
   "source": [
    "#Normal\n",
    "y, X = df['Total'], df.drop(columns='Total')"
   ]
  },
  {
   "cell_type": "code",
   "execution_count": 97,
   "id": "7b99db22",
   "metadata": {},
   "outputs": [],
   "source": [
    "#create Train/Test for Feature Selection\n",
    "X_train, X_test, y_train, y_test = train_test_split(X, y,test_size=0.2)"
   ]
  },
  {
   "cell_type": "code",
   "execution_count": 98,
   "id": "5bafe88f",
   "metadata": {},
   "outputs": [
    {
     "data": {
      "text/plain": [
       "LinearRegression()"
      ]
     },
     "execution_count": 98,
     "metadata": {},
     "output_type": "execute_result"
    }
   ],
   "source": [
    "# importing module\n",
    "from sklearn.linear_model import LinearRegression\n",
    "# creating an object of LinearRegression class\n",
    "LR = LinearRegression()\n",
    "# fitting the training data\n",
    "LR.fit(X_train,y_train)"
   ]
  },
  {
   "cell_type": "code",
   "execution_count": 99,
   "id": "40c9c400",
   "metadata": {},
   "outputs": [
    {
     "data": {
      "text/plain": [
       "array([ 7060., 10908.,  4656., ...,  6940.,  7060., 10908.])"
      ]
     },
     "execution_count": 99,
     "metadata": {},
     "output_type": "execute_result"
    }
   ],
   "source": [
    "y_prediction =  LR.predict(X_test)\n",
    "y_prediction"
   ]
  },
  {
   "cell_type": "code",
   "execution_count": 100,
   "id": "afae92ea",
   "metadata": {},
   "outputs": [
    {
     "name": "stdout",
     "output_type": "stream",
     "text": [
      "0.655648271153106\n"
     ]
    }
   ],
   "source": [
    "# importing r2_score module\n",
    "from sklearn.metrics import r2_score\n",
    "from sklearn.metrics import mean_squared_error\n",
    "# predicting the accuracy score\n",
    "score=r2_score(y_test,y_prediction)\n",
    "print(score)"
   ]
  },
  {
   "cell_type": "code",
   "execution_count": 101,
   "id": "45e8ba5b",
   "metadata": {},
   "outputs": [
    {
     "data": {
      "text/plain": [
       "Index(['Category_Accessories', 'Category_Appliance', 'Category_Batteries',\n",
       "       'Category_Laptop', 'Category_Monitor', 'Category_Phone', 'Category_TV',\n",
       "       'Region_Northeast', 'Region_South', 'Region_West'],\n",
       "      dtype='object')"
      ]
     },
     "execution_count": 101,
     "metadata": {},
     "output_type": "execute_result"
    }
   ],
   "source": [
    "X.columns"
   ]
  },
  {
   "cell_type": "code",
   "execution_count": 102,
   "id": "2426c611",
   "metadata": {},
   "outputs": [
    {
     "name": "stdout",
     "output_type": "stream",
     "text": [
      "Intercept: \n",
      " 1.9160295912201772e+16\n",
      "Coefficients: \n",
      " [-3.42850834e+15 -3.42850834e+15 -3.42850834e+15 -3.42850834e+15\n",
      " -3.42850834e+15 -3.42850834e+15 -3.42850834e+15 -1.57317876e+16\n",
      " -1.57317876e+16 -1.57317876e+16]\n"
     ]
    }
   ],
   "source": [
    "print('Intercept: \\n', LR.intercept_)\n",
    "print('Coefficients: \\n', LR.coef_)"
   ]
  },
  {
   "cell_type": "code",
   "execution_count": null,
   "id": "297270d0",
   "metadata": {},
   "outputs": [],
   "source": []
  }
 ],
 "metadata": {
  "kernelspec": {
   "display_name": "Python 3 (ipykernel)",
   "language": "python",
   "name": "python3"
  },
  "language_info": {
   "codemirror_mode": {
    "name": "ipython",
    "version": 3
   },
   "file_extension": ".py",
   "mimetype": "text/x-python",
   "name": "python",
   "nbconvert_exporter": "python",
   "pygments_lexer": "ipython3",
   "version": "3.9.7"
  }
 },
 "nbformat": 4,
 "nbformat_minor": 5
}
