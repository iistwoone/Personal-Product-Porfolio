{
 "cells": [
  {
   "cell_type": "markdown",
   "id": "d4508fe4",
   "metadata": {},
   "source": [
    "Fictional Product Study\n",
    "===="
   ]
  },
  {
   "cell_type": "markdown",
   "id": "d0ec7de9",
   "metadata": {},
   "source": [
    "Introduction\n",
    "===="
   ]
  },
  {
   "cell_type": "markdown",
   "id": "d251f9ef",
   "metadata": {},
   "source": [
    "This study will show the analysis on a fake data set downloaded from kaggle."
   ]
  },
  {
   "cell_type": "markdown",
   "id": "c7488005",
   "metadata": {},
   "source": [
    "Importing Libraries\n",
    "===="
   ]
  },
  {
   "cell_type": "code",
   "execution_count": 229,
   "id": "aa985a2b",
   "metadata": {},
   "outputs": [],
   "source": [
    "#Normal Imports\n",
    "import numpy as np\n",
    "import pandas as pd\n",
    "import matplotlib.pyplot as plt\n",
    "%matplotlib inline\n",
    "import seaborn as sns\n",
    "import scipy as sc\n",
    "\n",
    "#Train/Test or CV\n",
    "from sklearn.model_selection import StratifiedShuffleSplit\n",
    "from sklearn.model_selection import train_test_split\n",
    "from sklearn.model_selection import KFold, cross_val_predict, cross_val_score\n",
    "\n",
    "#DataWrangling\n",
    "from scipy import stats\n",
    "from scipy.stats.mstats import normaltest\n",
    "from sklearn.preprocessing import PolynomialFeatures\n",
    "from sklearn.preprocessing import StandardScaler, MinMaxScaler, MaxAbsScaler\n",
    "from sklearn.preprocessing import OneHotEncoder\n",
    "from sklearn.preprocessing import LabelBinarizer, LabelEncoder, OrdinalEncoder\n",
    "import datetime"
   ]
  },
  {
   "cell_type": "markdown",
   "id": "8cdc3131",
   "metadata": {},
   "source": [
    "Importing Data\n",
    "===="
   ]
  },
  {
   "cell_type": "code",
   "execution_count": 230,
   "id": "f0f1b124",
   "metadata": {},
   "outputs": [],
   "source": [
    "#import filetype\n",
    "df1 = pd.read_csv(r\"C:\\Users\\2-1\\Downloads\\Sales\\Sales_January_2019.csv\")\n",
    "df2 = pd.read_csv(r\"C:\\Users\\2-1\\Downloads\\Sales\\Sales_February_2019.csv\")\n",
    "df3 = pd.read_csv(r\"C:\\Users\\2-1\\Downloads\\Sales\\Sales_March_2019.csv\")\n",
    "df4 = pd.read_csv(r\"C:\\Users\\2-1\\Downloads\\Sales\\Sales_April_2019.csv\")\n",
    "df5 = pd.read_csv(r\"C:\\Users\\2-1\\Downloads\\Sales\\Sales_May_2019.csv\")\n",
    "df6 = pd.read_csv(r\"C:\\Users\\2-1\\Downloads\\Sales\\Sales_June_2019.csv\")\n",
    "df7 = pd.read_csv(r\"C:\\Users\\2-1\\Downloads\\Sales\\Sales_July_2019.csv\")\n",
    "df8 = pd.read_csv(r\"C:\\Users\\2-1\\Downloads\\Sales\\Sales_August_2019.csv\")\n",
    "df9 = pd.read_csv(r\"C:\\Users\\2-1\\Downloads\\Sales\\Sales_September_2019.csv\")\n",
    "df10 = pd.read_csv(r\"C:\\Users\\2-1\\Downloads\\Sales\\Sales_October_2019.csv\")\n",
    "df11 = pd.read_csv(r\"C:\\Users\\2-1\\Downloads\\Sales\\Sales_November_2019.csv\")\n",
    "df12 = pd.read_csv(r\"C:\\Users\\2-1\\Downloads\\Sales\\Sales_December_2019.csv\")"
   ]
  },
  {
   "cell_type": "code",
   "execution_count": 231,
   "id": "08ce5875",
   "metadata": {},
   "outputs": [
    {
     "data": {
      "text/html": [
       "<div>\n",
       "<style scoped>\n",
       "    .dataframe tbody tr th:only-of-type {\n",
       "        vertical-align: middle;\n",
       "    }\n",
       "\n",
       "    .dataframe tbody tr th {\n",
       "        vertical-align: top;\n",
       "    }\n",
       "\n",
       "    .dataframe thead th {\n",
       "        text-align: right;\n",
       "    }\n",
       "</style>\n",
       "<table border=\"1\" class=\"dataframe\">\n",
       "  <thead>\n",
       "    <tr style=\"text-align: right;\">\n",
       "      <th></th>\n",
       "      <th>Order ID</th>\n",
       "      <th>Product</th>\n",
       "      <th>Quantity Ordered</th>\n",
       "      <th>Price Each</th>\n",
       "      <th>Order Date</th>\n",
       "      <th>Purchase Address</th>\n",
       "    </tr>\n",
       "  </thead>\n",
       "  <tbody>\n",
       "    <tr>\n",
       "      <th>0</th>\n",
       "      <td>141234</td>\n",
       "      <td>iPhone</td>\n",
       "      <td>1</td>\n",
       "      <td>700</td>\n",
       "      <td>01/22/19 21:25</td>\n",
       "      <td>944 Walnut St, Boston, MA 02215</td>\n",
       "    </tr>\n",
       "    <tr>\n",
       "      <th>1</th>\n",
       "      <td>141235</td>\n",
       "      <td>Lightning Charging Cable</td>\n",
       "      <td>1</td>\n",
       "      <td>14.95</td>\n",
       "      <td>01/28/19 14:15</td>\n",
       "      <td>185 Maple St, Portland, OR 97035</td>\n",
       "    </tr>\n",
       "    <tr>\n",
       "      <th>2</th>\n",
       "      <td>141236</td>\n",
       "      <td>Wired Headphones</td>\n",
       "      <td>2</td>\n",
       "      <td>11.99</td>\n",
       "      <td>01/17/19 13:33</td>\n",
       "      <td>538 Adams St, San Francisco, CA 94016</td>\n",
       "    </tr>\n",
       "    <tr>\n",
       "      <th>3</th>\n",
       "      <td>141237</td>\n",
       "      <td>27in FHD Monitor</td>\n",
       "      <td>1</td>\n",
       "      <td>149.99</td>\n",
       "      <td>01/05/19 20:33</td>\n",
       "      <td>738 10th St, Los Angeles, CA 90001</td>\n",
       "    </tr>\n",
       "    <tr>\n",
       "      <th>4</th>\n",
       "      <td>141238</td>\n",
       "      <td>Wired Headphones</td>\n",
       "      <td>1</td>\n",
       "      <td>11.99</td>\n",
       "      <td>01/25/19 11:59</td>\n",
       "      <td>387 10th St, Austin, TX 73301</td>\n",
       "    </tr>\n",
       "  </tbody>\n",
       "</table>\n",
       "</div>"
      ],
      "text/plain": [
       "  Order ID                   Product Quantity Ordered Price Each  \\\n",
       "0   141234                    iPhone                1        700   \n",
       "1   141235  Lightning Charging Cable                1      14.95   \n",
       "2   141236          Wired Headphones                2      11.99   \n",
       "3   141237          27in FHD Monitor                1     149.99   \n",
       "4   141238          Wired Headphones                1      11.99   \n",
       "\n",
       "       Order Date                       Purchase Address  \n",
       "0  01/22/19 21:25        944 Walnut St, Boston, MA 02215  \n",
       "1  01/28/19 14:15       185 Maple St, Portland, OR 97035  \n",
       "2  01/17/19 13:33  538 Adams St, San Francisco, CA 94016  \n",
       "3  01/05/19 20:33     738 10th St, Los Angeles, CA 90001  \n",
       "4  01/25/19 11:59          387 10th St, Austin, TX 73301  "
      ]
     },
     "execution_count": 231,
     "metadata": {},
     "output_type": "execute_result"
    }
   ],
   "source": [
    "df1.head()"
   ]
  },
  {
   "cell_type": "code",
   "execution_count": 232,
   "id": "ed891be7",
   "metadata": {},
   "outputs": [],
   "source": [
    "#Merge\n",
    "dfs = [df1, df2, df3, df4, df5, df6, df7, df8, df9, df10, df11, df12]\n",
    "df = pd.concat(dfs)"
   ]
  },
  {
   "cell_type": "markdown",
   "id": "21648aa0",
   "metadata": {},
   "source": [
    "FIRST EDA\n",
    "===="
   ]
  },
  {
   "cell_type": "code",
   "execution_count": 233,
   "id": "86f52f2a",
   "metadata": {},
   "outputs": [
    {
     "data": {
      "text/html": [
       "<div>\n",
       "<style scoped>\n",
       "    .dataframe tbody tr th:only-of-type {\n",
       "        vertical-align: middle;\n",
       "    }\n",
       "\n",
       "    .dataframe tbody tr th {\n",
       "        vertical-align: top;\n",
       "    }\n",
       "\n",
       "    .dataframe thead th {\n",
       "        text-align: right;\n",
       "    }\n",
       "</style>\n",
       "<table border=\"1\" class=\"dataframe\">\n",
       "  <thead>\n",
       "    <tr style=\"text-align: right;\">\n",
       "      <th></th>\n",
       "      <th>Order ID</th>\n",
       "      <th>Product</th>\n",
       "      <th>Quantity Ordered</th>\n",
       "      <th>Price Each</th>\n",
       "      <th>Order Date</th>\n",
       "      <th>Purchase Address</th>\n",
       "    </tr>\n",
       "  </thead>\n",
       "  <tbody>\n",
       "    <tr>\n",
       "      <th>0</th>\n",
       "      <td>141234</td>\n",
       "      <td>iPhone</td>\n",
       "      <td>1</td>\n",
       "      <td>700</td>\n",
       "      <td>01/22/19 21:25</td>\n",
       "      <td>944 Walnut St, Boston, MA 02215</td>\n",
       "    </tr>\n",
       "    <tr>\n",
       "      <th>1</th>\n",
       "      <td>141235</td>\n",
       "      <td>Lightning Charging Cable</td>\n",
       "      <td>1</td>\n",
       "      <td>14.95</td>\n",
       "      <td>01/28/19 14:15</td>\n",
       "      <td>185 Maple St, Portland, OR 97035</td>\n",
       "    </tr>\n",
       "    <tr>\n",
       "      <th>2</th>\n",
       "      <td>141236</td>\n",
       "      <td>Wired Headphones</td>\n",
       "      <td>2</td>\n",
       "      <td>11.99</td>\n",
       "      <td>01/17/19 13:33</td>\n",
       "      <td>538 Adams St, San Francisco, CA 94016</td>\n",
       "    </tr>\n",
       "    <tr>\n",
       "      <th>3</th>\n",
       "      <td>141237</td>\n",
       "      <td>27in FHD Monitor</td>\n",
       "      <td>1</td>\n",
       "      <td>149.99</td>\n",
       "      <td>01/05/19 20:33</td>\n",
       "      <td>738 10th St, Los Angeles, CA 90001</td>\n",
       "    </tr>\n",
       "    <tr>\n",
       "      <th>4</th>\n",
       "      <td>141238</td>\n",
       "      <td>Wired Headphones</td>\n",
       "      <td>1</td>\n",
       "      <td>11.99</td>\n",
       "      <td>01/25/19 11:59</td>\n",
       "      <td>387 10th St, Austin, TX 73301</td>\n",
       "    </tr>\n",
       "  </tbody>\n",
       "</table>\n",
       "</div>"
      ],
      "text/plain": [
       "  Order ID                   Product Quantity Ordered Price Each  \\\n",
       "0   141234                    iPhone                1        700   \n",
       "1   141235  Lightning Charging Cable                1      14.95   \n",
       "2   141236          Wired Headphones                2      11.99   \n",
       "3   141237          27in FHD Monitor                1     149.99   \n",
       "4   141238          Wired Headphones                1      11.99   \n",
       "\n",
       "       Order Date                       Purchase Address  \n",
       "0  01/22/19 21:25        944 Walnut St, Boston, MA 02215  \n",
       "1  01/28/19 14:15       185 Maple St, Portland, OR 97035  \n",
       "2  01/17/19 13:33  538 Adams St, San Francisco, CA 94016  \n",
       "3  01/05/19 20:33     738 10th St, Los Angeles, CA 90001  \n",
       "4  01/25/19 11:59          387 10th St, Austin, TX 73301  "
      ]
     },
     "execution_count": 233,
     "metadata": {},
     "output_type": "execute_result"
    }
   ],
   "source": [
    "#check top 5 rows\n",
    "df.head()"
   ]
  },
  {
   "cell_type": "code",
   "execution_count": 234,
   "id": "cdc3d6eb",
   "metadata": {},
   "outputs": [
    {
     "name": "stdout",
     "output_type": "stream",
     "text": [
      "['Order ID', 'Product', 'Quantity Ordered', 'Price Each', 'Order Date', 'Purchase Address']\n"
     ]
    }
   ],
   "source": [
    "#check column names\n",
    "print(df.columns.tolist())"
   ]
  },
  {
   "cell_type": "code",
   "execution_count": 235,
   "id": "e632be53",
   "metadata": {},
   "outputs": [],
   "source": [
    "#Change Column Name if necessary\n",
    "df.rename({'Order ID': 'Order_ID', 'Quantity Ordered': 'Quantity_Ordered','Price Each':'Price_Each','Order Date':'Order_Date','Purchase Address':'Purchase_Address'}, axis=1, inplace=True)"
   ]
  },
  {
   "cell_type": "code",
   "execution_count": 236,
   "id": "3cad94f0",
   "metadata": {},
   "outputs": [
    {
     "data": {
      "text/html": [
       "<div>\n",
       "<style scoped>\n",
       "    .dataframe tbody tr th:only-of-type {\n",
       "        vertical-align: middle;\n",
       "    }\n",
       "\n",
       "    .dataframe tbody tr th {\n",
       "        vertical-align: top;\n",
       "    }\n",
       "\n",
       "    .dataframe thead th {\n",
       "        text-align: right;\n",
       "    }\n",
       "</style>\n",
       "<table border=\"1\" class=\"dataframe\">\n",
       "  <thead>\n",
       "    <tr style=\"text-align: right;\">\n",
       "      <th></th>\n",
       "      <th>count</th>\n",
       "      <th>unique</th>\n",
       "      <th>top</th>\n",
       "      <th>freq</th>\n",
       "    </tr>\n",
       "  </thead>\n",
       "  <tbody>\n",
       "    <tr>\n",
       "      <th>Order_ID</th>\n",
       "      <td>186305</td>\n",
       "      <td>178438</td>\n",
       "      <td>Order ID</td>\n",
       "      <td>355</td>\n",
       "    </tr>\n",
       "    <tr>\n",
       "      <th>Product</th>\n",
       "      <td>186305</td>\n",
       "      <td>20</td>\n",
       "      <td>USB-C Charging Cable</td>\n",
       "      <td>21903</td>\n",
       "    </tr>\n",
       "    <tr>\n",
       "      <th>Quantity_Ordered</th>\n",
       "      <td>186305</td>\n",
       "      <td>10</td>\n",
       "      <td>1</td>\n",
       "      <td>168552</td>\n",
       "    </tr>\n",
       "    <tr>\n",
       "      <th>Price_Each</th>\n",
       "      <td>186305</td>\n",
       "      <td>24</td>\n",
       "      <td>11.95</td>\n",
       "      <td>21903</td>\n",
       "    </tr>\n",
       "    <tr>\n",
       "      <th>Order_Date</th>\n",
       "      <td>186305</td>\n",
       "      <td>142396</td>\n",
       "      <td>Order Date</td>\n",
       "      <td>355</td>\n",
       "    </tr>\n",
       "    <tr>\n",
       "      <th>Purchase_Address</th>\n",
       "      <td>186305</td>\n",
       "      <td>140788</td>\n",
       "      <td>Purchase Address</td>\n",
       "      <td>355</td>\n",
       "    </tr>\n",
       "  </tbody>\n",
       "</table>\n",
       "</div>"
      ],
      "text/plain": [
       "                   count  unique                   top    freq\n",
       "Order_ID          186305  178438              Order ID     355\n",
       "Product           186305      20  USB-C Charging Cable   21903\n",
       "Quantity_Ordered  186305      10                     1  168552\n",
       "Price_Each        186305      24                 11.95   21903\n",
       "Order_Date        186305  142396            Order Date     355\n",
       "Purchase_Address  186305  140788      Purchase Address     355"
      ]
     },
     "execution_count": 236,
     "metadata": {},
     "output_type": "execute_result"
    }
   ],
   "source": [
    "#quick summary stats:numeric\n",
    "df.describe().T"
   ]
  },
  {
   "cell_type": "code",
   "execution_count": 237,
   "id": "a8877d84",
   "metadata": {},
   "outputs": [
    {
     "data": {
      "text/html": [
       "<div>\n",
       "<style scoped>\n",
       "    .dataframe tbody tr th:only-of-type {\n",
       "        vertical-align: middle;\n",
       "    }\n",
       "\n",
       "    .dataframe tbody tr th {\n",
       "        vertical-align: top;\n",
       "    }\n",
       "\n",
       "    .dataframe thead th {\n",
       "        text-align: right;\n",
       "    }\n",
       "</style>\n",
       "<table border=\"1\" class=\"dataframe\">\n",
       "  <thead>\n",
       "    <tr style=\"text-align: right;\">\n",
       "      <th></th>\n",
       "      <th>Order_ID</th>\n",
       "      <th>Product</th>\n",
       "      <th>Quantity_Ordered</th>\n",
       "      <th>Price_Each</th>\n",
       "      <th>Order_Date</th>\n",
       "      <th>Purchase_Address</th>\n",
       "    </tr>\n",
       "  </thead>\n",
       "  <tbody>\n",
       "    <tr>\n",
       "      <th>count</th>\n",
       "      <td>186305</td>\n",
       "      <td>186305</td>\n",
       "      <td>186305</td>\n",
       "      <td>186305</td>\n",
       "      <td>186305</td>\n",
       "      <td>186305</td>\n",
       "    </tr>\n",
       "    <tr>\n",
       "      <th>unique</th>\n",
       "      <td>178438</td>\n",
       "      <td>20</td>\n",
       "      <td>10</td>\n",
       "      <td>24</td>\n",
       "      <td>142396</td>\n",
       "      <td>140788</td>\n",
       "    </tr>\n",
       "    <tr>\n",
       "      <th>top</th>\n",
       "      <td>Order ID</td>\n",
       "      <td>USB-C Charging Cable</td>\n",
       "      <td>1</td>\n",
       "      <td>11.95</td>\n",
       "      <td>Order Date</td>\n",
       "      <td>Purchase Address</td>\n",
       "    </tr>\n",
       "    <tr>\n",
       "      <th>freq</th>\n",
       "      <td>355</td>\n",
       "      <td>21903</td>\n",
       "      <td>168552</td>\n",
       "      <td>21903</td>\n",
       "      <td>355</td>\n",
       "      <td>355</td>\n",
       "    </tr>\n",
       "  </tbody>\n",
       "</table>\n",
       "</div>"
      ],
      "text/plain": [
       "        Order_ID               Product Quantity_Ordered Price_Each  \\\n",
       "count     186305                186305           186305     186305   \n",
       "unique    178438                    20               10         24   \n",
       "top     Order ID  USB-C Charging Cable                1      11.95   \n",
       "freq         355                 21903           168552      21903   \n",
       "\n",
       "        Order_Date  Purchase_Address  \n",
       "count       186305            186305  \n",
       "unique      142396            140788  \n",
       "top     Order Date  Purchase Address  \n",
       "freq           355               355  "
      ]
     },
     "execution_count": 237,
     "metadata": {},
     "output_type": "execute_result"
    }
   ],
   "source": [
    "#quick summary stats:categorical\n",
    "df.describe(include='object')"
   ]
  },
  {
   "cell_type": "code",
   "execution_count": 238,
   "id": "f2ea95a1",
   "metadata": {},
   "outputs": [
    {
     "data": {
      "text/plain": [
       "(186850, 6)"
      ]
     },
     "execution_count": 238,
     "metadata": {},
     "output_type": "execute_result"
    }
   ],
   "source": [
    "#look at rows/columns\n",
    "df.shape"
   ]
  },
  {
   "cell_type": "code",
   "execution_count": 239,
   "id": "1a2f72a2",
   "metadata": {},
   "outputs": [
    {
     "name": "stdout",
     "output_type": "stream",
     "text": [
      "object    6\n",
      "dtype: int64\n"
     ]
    }
   ],
   "source": [
    "#look at objects counts\n",
    "print(df.dtypes.value_counts())"
   ]
  },
  {
   "cell_type": "code",
   "execution_count": 240,
   "id": "8ba8b053",
   "metadata": {},
   "outputs": [
    {
     "name": "stdout",
     "output_type": "stream",
     "text": [
      "Order_ID : ['141234' '141235' '141236' ... '319668' '319669' '319670']\n",
      "Product : ['iPhone' 'Lightning Charging Cable' 'Wired Headphones' '27in FHD Monitor'\n",
      " 'AAA Batteries (4-pack)' '27in 4K Gaming Monitor' 'USB-C Charging Cable'\n",
      " 'Bose SoundSport Headphones' 'Apple Airpods Headphones'\n",
      " 'Macbook Pro Laptop' 'Flatscreen TV' 'Vareebadd Phone'\n",
      " 'AA Batteries (4-pack)' 'Google Phone' '20in Monitor'\n",
      " '34in Ultrawide Monitor' 'ThinkPad Laptop' 'LG Dryer'\n",
      " 'LG Washing Machine' nan 'Product']\n",
      "Quantity_Ordered : ['1' '2' '3' '5' '4' nan '7' 'Quantity Ordered' '6' '9' '8']\n",
      "Price_Each : ['700' '14.95' '11.99' '149.99' '2.99' '389.99' '11.95' '99.99' '150'\n",
      " '1700' '300' '400' '3.84' '600' '109.99' '379.99' '999.99' '600.0' nan\n",
      " 'Price Each' '700.0' '150.0' '300.0' '1700.0' '400.0']\n",
      "Order_Date : ['01/22/19 21:25' '01/28/19 14:15' '01/17/19 13:33' ... '12/01/19 12:01'\n",
      " '12/09/19 06:43' '12/03/19 10:39']\n",
      "Purchase_Address : ['944 Walnut St, Boston, MA 02215' '185 Maple St, Portland, OR 97035'\n",
      " '538 Adams St, San Francisco, CA 94016' ...\n",
      " '273 Wilson St, Seattle, WA 98101' '778 River St, Dallas, TX 75001'\n",
      " '747 Chestnut St, Los Angeles, CA 90001']\n"
     ]
    }
   ],
   "source": [
    "#Checking for wrong entries like symbols -,?,#,*,etc.\n",
    "for col in df.columns:\n",
    "    print('{} : {}'.format(col,df[col].unique()))"
   ]
  },
  {
   "cell_type": "code",
   "execution_count": 241,
   "id": "2038691f",
   "metadata": {},
   "outputs": [],
   "source": [
    "df = df[df.Quantity_Ordered != 'Quantity Ordered']\n",
    "df = df[df.Price_Each != 'Price Each']"
   ]
  },
  {
   "cell_type": "code",
   "execution_count": 242,
   "id": "06226cf5",
   "metadata": {},
   "outputs": [
    {
     "name": "stdout",
     "output_type": "stream",
     "text": [
      "Order_ID : ['141234' '141235' '141236' ... '319668' '319669' '319670']\n",
      "Product : ['iPhone' 'Lightning Charging Cable' 'Wired Headphones' '27in FHD Monitor'\n",
      " 'AAA Batteries (4-pack)' '27in 4K Gaming Monitor' 'USB-C Charging Cable'\n",
      " 'Bose SoundSport Headphones' 'Apple Airpods Headphones'\n",
      " 'Macbook Pro Laptop' 'Flatscreen TV' 'Vareebadd Phone'\n",
      " 'AA Batteries (4-pack)' 'Google Phone' '20in Monitor'\n",
      " '34in Ultrawide Monitor' 'ThinkPad Laptop' 'LG Dryer'\n",
      " 'LG Washing Machine' nan]\n",
      "Quantity_Ordered : ['1' '2' '3' '5' '4' nan '7' '6' '9' '8']\n",
      "Price_Each : ['700' '14.95' '11.99' '149.99' '2.99' '389.99' '11.95' '99.99' '150'\n",
      " '1700' '300' '400' '3.84' '600' '109.99' '379.99' '999.99' '600.0' nan\n",
      " '700.0' '150.0' '300.0' '1700.0' '400.0']\n",
      "Order_Date : ['01/22/19 21:25' '01/28/19 14:15' '01/17/19 13:33' ... '12/01/19 12:01'\n",
      " '12/09/19 06:43' '12/03/19 10:39']\n",
      "Purchase_Address : ['944 Walnut St, Boston, MA 02215' '185 Maple St, Portland, OR 97035'\n",
      " '538 Adams St, San Francisco, CA 94016' ...\n",
      " '273 Wilson St, Seattle, WA 98101' '778 River St, Dallas, TX 75001'\n",
      " '747 Chestnut St, Los Angeles, CA 90001']\n"
     ]
    }
   ],
   "source": [
    "#Checking for wrong entries like symbols -,?,#,*,etc.\n",
    "for col in df.columns:\n",
    "    print('{} : {}'.format(col,df[col].unique()))"
   ]
  },
  {
   "cell_type": "markdown",
   "id": "5eb1e479",
   "metadata": {},
   "source": [
    "Data Wrangling\n",
    "==="
   ]
  },
  {
   "cell_type": "markdown",
   "id": "16c2962a",
   "metadata": {},
   "source": [
    "Check Nulls\n",
    "===="
   ]
  },
  {
   "cell_type": "code",
   "execution_count": 243,
   "id": "416c7297",
   "metadata": {},
   "outputs": [
    {
     "data": {
      "text/plain": [
       "Order_ID            545\n",
       "Product             545\n",
       "Quantity_Ordered    545\n",
       "Price_Each          545\n",
       "Order_Date          545\n",
       "Purchase_Address    545\n",
       "dtype: int64"
      ]
     },
     "execution_count": 243,
     "metadata": {},
     "output_type": "execute_result"
    }
   ],
   "source": [
    "#check for null\n",
    "df.isnull().sum()"
   ]
  },
  {
   "cell_type": "code",
   "execution_count": 244,
   "id": "1e281c6f",
   "metadata": {},
   "outputs": [],
   "source": [
    "#replacing null values with panda null values\n",
    "df = df.replace('$nan$', np.NaN)"
   ]
  },
  {
   "cell_type": "code",
   "execution_count": 245,
   "id": "ea619532",
   "metadata": {},
   "outputs": [
    {
     "data": {
      "text/plain": [
       "Order_ID            545\n",
       "Product             545\n",
       "Quantity_Ordered    545\n",
       "Price_Each          545\n",
       "Order_Date          545\n",
       "Purchase_Address    545\n",
       "dtype: int64"
      ]
     },
     "execution_count": 245,
     "metadata": {},
     "output_type": "execute_result"
    }
   ],
   "source": [
    "#check for null after\n",
    "df.isnull().sum()"
   ]
  },
  {
   "cell_type": "markdown",
   "id": "e2cb4f62",
   "metadata": {},
   "source": [
    "Replace/Drop Nulls\n",
    "===="
   ]
  },
  {
   "cell_type": "code",
   "execution_count": 246,
   "id": "75908a04",
   "metadata": {},
   "outputs": [],
   "source": [
    "#drop all rows with nulls\n",
    "df = df.dropna()"
   ]
  },
  {
   "cell_type": "code",
   "execution_count": 247,
   "id": "37469715",
   "metadata": {},
   "outputs": [],
   "source": [
    "#reset index\n",
    "df = df.reset_index()\n",
    "df.drop(['index'], axis=1, inplace=True)"
   ]
  },
  {
   "cell_type": "code",
   "execution_count": 248,
   "id": "055088e3",
   "metadata": {},
   "outputs": [
    {
     "data": {
      "text/plain": [
       "Order_ID            0\n",
       "Product             0\n",
       "Quantity_Ordered    0\n",
       "Price_Each          0\n",
       "Order_Date          0\n",
       "Purchase_Address    0\n",
       "dtype: int64"
      ]
     },
     "execution_count": 248,
     "metadata": {},
     "output_type": "execute_result"
    }
   ],
   "source": [
    "#check for null after\n",
    "df.isnull().sum()"
   ]
  },
  {
   "cell_type": "markdown",
   "id": "730ac36a",
   "metadata": {},
   "source": [
    "Look for Duplicates\n",
    "===="
   ]
  },
  {
   "cell_type": "code",
   "execution_count": 249,
   "id": "716bafd0",
   "metadata": {},
   "outputs": [
    {
     "data": {
      "text/plain": [
       "264"
      ]
     },
     "execution_count": 249,
     "metadata": {},
     "output_type": "execute_result"
    }
   ],
   "source": [
    "#look for duplicates\n",
    "df.duplicated().sum()"
   ]
  },
  {
   "cell_type": "code",
   "execution_count": 250,
   "id": "b3504330",
   "metadata": {},
   "outputs": [],
   "source": [
    "#drop duplicates\n",
    "df = df.drop_duplicates()"
   ]
  },
  {
   "cell_type": "code",
   "execution_count": 251,
   "id": "e15ac864",
   "metadata": {},
   "outputs": [
    {
     "data": {
      "text/plain": [
       "0"
      ]
     },
     "execution_count": 251,
     "metadata": {},
     "output_type": "execute_result"
    }
   ],
   "source": [
    "#look for duplicates\n",
    "df.duplicated().sum()"
   ]
  },
  {
   "cell_type": "markdown",
   "id": "230d4c09",
   "metadata": {},
   "source": [
    "Look for Outliers\n",
    "===="
   ]
  },
  {
   "cell_type": "code",
   "execution_count": 252,
   "id": "8c9cfb9b",
   "metadata": {},
   "outputs": [
    {
     "data": {
      "text/html": [
       "<div>\n",
       "<style scoped>\n",
       "    .dataframe tbody tr th:only-of-type {\n",
       "        vertical-align: middle;\n",
       "    }\n",
       "\n",
       "    .dataframe tbody tr th {\n",
       "        vertical-align: top;\n",
       "    }\n",
       "\n",
       "    .dataframe thead th {\n",
       "        text-align: right;\n",
       "    }\n",
       "</style>\n",
       "<table border=\"1\" class=\"dataframe\">\n",
       "  <thead>\n",
       "    <tr style=\"text-align: right;\">\n",
       "      <th></th>\n",
       "      <th>count</th>\n",
       "      <th>unique</th>\n",
       "      <th>top</th>\n",
       "      <th>freq</th>\n",
       "    </tr>\n",
       "  </thead>\n",
       "  <tbody>\n",
       "    <tr>\n",
       "      <th>Order_ID</th>\n",
       "      <td>185686</td>\n",
       "      <td>178437</td>\n",
       "      <td>160873</td>\n",
       "      <td>5</td>\n",
       "    </tr>\n",
       "    <tr>\n",
       "      <th>Product</th>\n",
       "      <td>185686</td>\n",
       "      <td>19</td>\n",
       "      <td>USB-C Charging Cable</td>\n",
       "      <td>21859</td>\n",
       "    </tr>\n",
       "    <tr>\n",
       "      <th>Quantity_Ordered</th>\n",
       "      <td>185686</td>\n",
       "      <td>9</td>\n",
       "      <td>1</td>\n",
       "      <td>168291</td>\n",
       "    </tr>\n",
       "    <tr>\n",
       "      <th>Price_Each</th>\n",
       "      <td>185686</td>\n",
       "      <td>23</td>\n",
       "      <td>11.95</td>\n",
       "      <td>21859</td>\n",
       "    </tr>\n",
       "    <tr>\n",
       "      <th>Order_Date</th>\n",
       "      <td>185686</td>\n",
       "      <td>142395</td>\n",
       "      <td>12/15/19 20:16</td>\n",
       "      <td>8</td>\n",
       "    </tr>\n",
       "    <tr>\n",
       "      <th>Purchase_Address</th>\n",
       "      <td>185686</td>\n",
       "      <td>140787</td>\n",
       "      <td>193 Forest St, San Francisco, CA 94016</td>\n",
       "      <td>9</td>\n",
       "    </tr>\n",
       "  </tbody>\n",
       "</table>\n",
       "</div>"
      ],
      "text/plain": [
       "                   count  unique                                     top  \\\n",
       "Order_ID          185686  178437                                  160873   \n",
       "Product           185686      19                    USB-C Charging Cable   \n",
       "Quantity_Ordered  185686       9                                       1   \n",
       "Price_Each        185686      23                                   11.95   \n",
       "Order_Date        185686  142395                          12/15/19 20:16   \n",
       "Purchase_Address  185686  140787  193 Forest St, San Francisco, CA 94016   \n",
       "\n",
       "                    freq  \n",
       "Order_ID               5  \n",
       "Product            21859  \n",
       "Quantity_Ordered  168291  \n",
       "Price_Each         21859  \n",
       "Order_Date             8  \n",
       "Purchase_Address       9  "
      ]
     },
     "execution_count": 252,
     "metadata": {},
     "output_type": "execute_result"
    }
   ],
   "source": [
    "#summary stats\n",
    "df.describe().T"
   ]
  },
  {
   "cell_type": "code",
   "execution_count": 253,
   "id": "ac29fa1f",
   "metadata": {},
   "outputs": [
    {
     "data": {
      "text/html": [
       "<div>\n",
       "<style scoped>\n",
       "    .dataframe tbody tr th:only-of-type {\n",
       "        vertical-align: middle;\n",
       "    }\n",
       "\n",
       "    .dataframe tbody tr th {\n",
       "        vertical-align: top;\n",
       "    }\n",
       "\n",
       "    .dataframe thead th {\n",
       "        text-align: right;\n",
       "    }\n",
       "</style>\n",
       "<table border=\"1\" class=\"dataframe\">\n",
       "  <thead>\n",
       "    <tr style=\"text-align: right;\">\n",
       "      <th></th>\n",
       "      <th>Order_ID</th>\n",
       "      <th>Product</th>\n",
       "      <th>Quantity_Ordered</th>\n",
       "      <th>Price_Each</th>\n",
       "      <th>Order_Date</th>\n",
       "      <th>Purchase_Address</th>\n",
       "    </tr>\n",
       "  </thead>\n",
       "  <tbody>\n",
       "    <tr>\n",
       "      <th>count</th>\n",
       "      <td>185686</td>\n",
       "      <td>185686</td>\n",
       "      <td>185686</td>\n",
       "      <td>185686</td>\n",
       "      <td>185686</td>\n",
       "      <td>185686</td>\n",
       "    </tr>\n",
       "    <tr>\n",
       "      <th>unique</th>\n",
       "      <td>178437</td>\n",
       "      <td>19</td>\n",
       "      <td>9</td>\n",
       "      <td>23</td>\n",
       "      <td>142395</td>\n",
       "      <td>140787</td>\n",
       "    </tr>\n",
       "    <tr>\n",
       "      <th>top</th>\n",
       "      <td>160873</td>\n",
       "      <td>USB-C Charging Cable</td>\n",
       "      <td>1</td>\n",
       "      <td>11.95</td>\n",
       "      <td>12/15/19 20:16</td>\n",
       "      <td>193 Forest St, San Francisco, CA 94016</td>\n",
       "    </tr>\n",
       "    <tr>\n",
       "      <th>freq</th>\n",
       "      <td>5</td>\n",
       "      <td>21859</td>\n",
       "      <td>168291</td>\n",
       "      <td>21859</td>\n",
       "      <td>8</td>\n",
       "      <td>9</td>\n",
       "    </tr>\n",
       "  </tbody>\n",
       "</table>\n",
       "</div>"
      ],
      "text/plain": [
       "       Order_ID               Product Quantity_Ordered Price_Each  \\\n",
       "count    185686                185686           185686     185686   \n",
       "unique   178437                    19                9         23   \n",
       "top      160873  USB-C Charging Cable                1      11.95   \n",
       "freq          5                 21859           168291      21859   \n",
       "\n",
       "            Order_Date                        Purchase_Address  \n",
       "count           185686                                  185686  \n",
       "unique          142395                                  140787  \n",
       "top     12/15/19 20:16  193 Forest St, San Francisco, CA 94016  \n",
       "freq                 8                                       9  "
      ]
     },
     "execution_count": 253,
     "metadata": {},
     "output_type": "execute_result"
    }
   ],
   "source": [
    "#quick summary stats:categorical\n",
    "df.describe(include='object')"
   ]
  },
  {
   "cell_type": "code",
   "execution_count": 254,
   "id": "d35f51b5",
   "metadata": {},
   "outputs": [
    {
     "data": {
      "text/plain": [
       "Index(['Order_ID', 'Product', 'Quantity_Ordered', 'Price_Each', 'Order_Date',\n",
       "       'Purchase_Address'],\n",
       "      dtype='object')"
      ]
     },
     "execution_count": 254,
     "metadata": {},
     "output_type": "execute_result"
    }
   ],
   "source": [
    "df.columns"
   ]
  },
  {
   "cell_type": "code",
   "execution_count": 255,
   "id": "7055375b",
   "metadata": {},
   "outputs": [],
   "source": [
    "#Object > Float\n",
    "df['Quantity_Ordered'] = df['Quantity_Ordered'].astype(float)\n",
    "df['Price_Each'] = df['Price_Each'].astype(float)"
   ]
  },
  {
   "cell_type": "code",
   "execution_count": 256,
   "id": "ca8351f9",
   "metadata": {},
   "outputs": [
    {
     "name": "stdout",
     "output_type": "stream",
     "text": [
      "        Quantity_Ordered  Price_Each\n",
      "0               0.281094    1.548721\n",
      "1               0.281094    0.509457\n",
      "2               1.975898    0.518350\n",
      "3               0.281094    0.103740\n",
      "4               0.281094    0.518350\n",
      "...                  ...         ...\n",
      "185945          0.281094    0.509457\n",
      "185946          1.975898    0.542836\n",
      "185947          0.281094    0.647395\n",
      "185948          0.281094    0.518350\n",
      "185949          0.281094    0.253961\n",
      "\n",
      "[185686 rows x 2 columns]\n",
      "(array([    11,     12,     52, ..., 185636, 185654, 185656], dtype=int64), array([1, 0, 0, ..., 1, 1, 1], dtype=int64))\n"
     ]
    }
   ],
   "source": [
    "out = df.loc[:,['Quantity_Ordered', 'Price_Each']]\n",
    "z = np.abs(stats.zscore(out))\n",
    "print(z)\n",
    "threshold = 3\n",
    "print(np.where(z > 3))"
   ]
  },
  {
   "cell_type": "code",
   "execution_count": 257,
   "id": "320930d5",
   "metadata": {},
   "outputs": [
    {
     "name": "stdout",
     "output_type": "stream",
     "text": [
      "        Quantity_Ordered  Price_Each\n",
      "11                   1.0     1700.00\n",
      "12                   3.0        2.99\n",
      "52                   3.0        2.99\n",
      "185636               1.0       11.95\n",
      "185654               1.0       14.95\n",
      "185656               1.0      149.99\n"
     ]
    }
   ],
   "source": [
    "#look at outliers\n",
    "print(out.loc[[ 11, 12, 52, 185636, 185654, 185656]])"
   ]
  },
  {
   "cell_type": "code",
   "execution_count": 258,
   "id": "8b37aa73",
   "metadata": {},
   "outputs": [
    {
     "data": {
      "text/html": [
       "<div>\n",
       "<style scoped>\n",
       "    .dataframe tbody tr th:only-of-type {\n",
       "        vertical-align: middle;\n",
       "    }\n",
       "\n",
       "    .dataframe tbody tr th {\n",
       "        vertical-align: top;\n",
       "    }\n",
       "\n",
       "    .dataframe thead th {\n",
       "        text-align: right;\n",
       "    }\n",
       "</style>\n",
       "<table border=\"1\" class=\"dataframe\">\n",
       "  <thead>\n",
       "    <tr style=\"text-align: right;\">\n",
       "      <th></th>\n",
       "      <th>Order_ID</th>\n",
       "      <th>Product</th>\n",
       "      <th>Quantity_Ordered</th>\n",
       "      <th>Price_Each</th>\n",
       "      <th>Order_Date</th>\n",
       "      <th>Purchase_Address</th>\n",
       "    </tr>\n",
       "  </thead>\n",
       "  <tbody>\n",
       "    <tr>\n",
       "      <th>0</th>\n",
       "      <td>141234</td>\n",
       "      <td>iPhone</td>\n",
       "      <td>1.0</td>\n",
       "      <td>700.00</td>\n",
       "      <td>01/22/19 21:25</td>\n",
       "      <td>944 Walnut St, Boston, MA 02215</td>\n",
       "    </tr>\n",
       "    <tr>\n",
       "      <th>6</th>\n",
       "      <td>141240</td>\n",
       "      <td>27in 4K Gaming Monitor</td>\n",
       "      <td>1.0</td>\n",
       "      <td>389.99</td>\n",
       "      <td>01/26/19 12:16</td>\n",
       "      <td>979 Park St, Los Angeles, CA 90001</td>\n",
       "    </tr>\n",
       "    <tr>\n",
       "      <th>11</th>\n",
       "      <td>141245</td>\n",
       "      <td>Macbook Pro Laptop</td>\n",
       "      <td>1.0</td>\n",
       "      <td>1700.00</td>\n",
       "      <td>01/31/19 10:12</td>\n",
       "      <td>322 6th St, San Francisco, CA 94016</td>\n",
       "    </tr>\n",
       "    <tr>\n",
       "      <th>14</th>\n",
       "      <td>141248</td>\n",
       "      <td>Flatscreen TV</td>\n",
       "      <td>1.0</td>\n",
       "      <td>300.00</td>\n",
       "      <td>01/03/19 21:54</td>\n",
       "      <td>363 Spruce St, Austin, TX 73301</td>\n",
       "    </tr>\n",
       "    <tr>\n",
       "      <th>16</th>\n",
       "      <td>141250</td>\n",
       "      <td>Vareebadd Phone</td>\n",
       "      <td>1.0</td>\n",
       "      <td>400.00</td>\n",
       "      <td>01/10/19 11:20</td>\n",
       "      <td>471 Center St, Los Angeles, CA 90001</td>\n",
       "    </tr>\n",
       "    <tr>\n",
       "      <th>...</th>\n",
       "      <td>...</td>\n",
       "      <td>...</td>\n",
       "      <td>...</td>\n",
       "      <td>...</td>\n",
       "      <td>...</td>\n",
       "      <td>...</td>\n",
       "    </tr>\n",
       "    <tr>\n",
       "      <th>185936</th>\n",
       "      <td>319657</td>\n",
       "      <td>LG Dryer</td>\n",
       "      <td>1.0</td>\n",
       "      <td>600.00</td>\n",
       "      <td>12/05/19 13:22</td>\n",
       "      <td>159 Lake St, Portland, OR 97035</td>\n",
       "    </tr>\n",
       "    <tr>\n",
       "      <th>185942</th>\n",
       "      <td>319663</td>\n",
       "      <td>Flatscreen TV</td>\n",
       "      <td>1.0</td>\n",
       "      <td>300.00</td>\n",
       "      <td>12/07/19 08:25</td>\n",
       "      <td>334 12th St, Atlanta, GA 30301</td>\n",
       "    </tr>\n",
       "    <tr>\n",
       "      <th>185943</th>\n",
       "      <td>319664</td>\n",
       "      <td>ThinkPad Laptop</td>\n",
       "      <td>1.0</td>\n",
       "      <td>999.99</td>\n",
       "      <td>12/30/19 01:06</td>\n",
       "      <td>767 2nd St, San Francisco, CA 94016</td>\n",
       "    </tr>\n",
       "    <tr>\n",
       "      <th>185944</th>\n",
       "      <td>319665</td>\n",
       "      <td>iPhone</td>\n",
       "      <td>1.0</td>\n",
       "      <td>700.00</td>\n",
       "      <td>12/15/19 11:13</td>\n",
       "      <td>377 1st St, Atlanta, GA 30301</td>\n",
       "    </tr>\n",
       "    <tr>\n",
       "      <th>185947</th>\n",
       "      <td>319668</td>\n",
       "      <td>Vareebadd Phone</td>\n",
       "      <td>1.0</td>\n",
       "      <td>400.00</td>\n",
       "      <td>12/09/19 06:43</td>\n",
       "      <td>273 Wilson St, Seattle, WA 98101</td>\n",
       "    </tr>\n",
       "  </tbody>\n",
       "</table>\n",
       "<p>41779 rows × 6 columns</p>\n",
       "</div>"
      ],
      "text/plain": [
       "       Order_ID                 Product  Quantity_Ordered  Price_Each  \\\n",
       "0        141234                  iPhone               1.0      700.00   \n",
       "6        141240  27in 4K Gaming Monitor               1.0      389.99   \n",
       "11       141245      Macbook Pro Laptop               1.0     1700.00   \n",
       "14       141248           Flatscreen TV               1.0      300.00   \n",
       "16       141250         Vareebadd Phone               1.0      400.00   \n",
       "...         ...                     ...               ...         ...   \n",
       "185936   319657                LG Dryer               1.0      600.00   \n",
       "185942   319663           Flatscreen TV               1.0      300.00   \n",
       "185943   319664         ThinkPad Laptop               1.0      999.99   \n",
       "185944   319665                  iPhone               1.0      700.00   \n",
       "185947   319668         Vareebadd Phone               1.0      400.00   \n",
       "\n",
       "            Order_Date                      Purchase_Address  \n",
       "0       01/22/19 21:25       944 Walnut St, Boston, MA 02215  \n",
       "6       01/26/19 12:16    979 Park St, Los Angeles, CA 90001  \n",
       "11      01/31/19 10:12   322 6th St, San Francisco, CA 94016  \n",
       "14      01/03/19 21:54       363 Spruce St, Austin, TX 73301  \n",
       "16      01/10/19 11:20  471 Center St, Los Angeles, CA 90001  \n",
       "...                ...                                   ...  \n",
       "185936  12/05/19 13:22       159 Lake St, Portland, OR 97035  \n",
       "185942  12/07/19 08:25        334 12th St, Atlanta, GA 30301  \n",
       "185943  12/30/19 01:06   767 2nd St, San Francisco, CA 94016  \n",
       "185944  12/15/19 11:13         377 1st St, Atlanta, GA 30301  \n",
       "185947  12/09/19 06:43      273 Wilson St, Seattle, WA 98101  \n",
       "\n",
       "[41779 rows x 6 columns]"
      ]
     },
     "execution_count": 258,
     "metadata": {},
     "output_type": "execute_result"
    }
   ],
   "source": [
    "df.loc[df['Price_Each'] > 150]"
   ]
  },
  {
   "cell_type": "markdown",
   "id": "31d3ce69",
   "metadata": {},
   "source": [
    "Outlier Decision\n",
    "==="
   ]
  },
  {
   "cell_type": "code",
   "execution_count": 259,
   "id": "fc76c951",
   "metadata": {},
   "outputs": [],
   "source": [
    "#Not Deleting Any Outlier"
   ]
  },
  {
   "cell_type": "markdown",
   "id": "a910c81f",
   "metadata": {},
   "source": [
    "Change Data Type\n",
    "==="
   ]
  },
  {
   "cell_type": "code",
   "execution_count": 260,
   "id": "64f3dfdc",
   "metadata": {},
   "outputs": [],
   "source": [
    "#Date\n",
    "df['Order_Date'] = pd.to_datetime(df['Order_Date'])"
   ]
  },
  {
   "cell_type": "code",
   "execution_count": 261,
   "id": "a3bc08c3",
   "metadata": {},
   "outputs": [],
   "source": [
    "#Adding Quarter and Month Columns for Groupby\n",
    "df['Order_Day'] = df['Order_Date'].dt.to_period('D')\n",
    "df['Order_Quarter'] = df['Order_Date'].dt.to_period('Q')\n",
    "df['Order_Month'] = df['Order_Date'].dt.to_period('M')\n",
    "df['Quarter'] = df['Order_Date'].dt.quarter\n",
    "df['Month'] = pd.DatetimeIndex(df['Order_Date']).month"
   ]
  },
  {
   "cell_type": "code",
   "execution_count": 262,
   "id": "d8d5a3fb",
   "metadata": {},
   "outputs": [],
   "source": [
    "#Getting States / Zip Codes\n",
    "df[\"City\"] = df[\"Purchase_Address\"].str.split(\",\", expand=True)[1]\n",
    "df[\"Dummy\"] = df[\"Purchase_Address\"].str.split(\",\", expand=True)[2]\n",
    "df[\"State\"] = df[\"Dummy\"].str.split(\" \", expand=True)[1]\n",
    "df[\"Zip\"] = df[\"Dummy\"].str.split(\" \", expand=True)[2]\n",
    "df.drop(['Dummy'], axis=1, inplace=True)"
   ]
  },
  {
   "cell_type": "code",
   "execution_count": 263,
   "id": "ace257cd",
   "metadata": {},
   "outputs": [],
   "source": [
    "#Region List\n",
    "west = ['WA','OR','CA','ID','NV','MT','WY','UT','AZ','CO','NM']\n",
    "midwest = ['ND','MN','WI','MI','SD','NE','KS','IA','MO','IL','IN','OH']\n",
    "south = ['TX','OK','AR','LA','MS','TN','KY','AL','GA','FL','SC','NC','VA','WV','MD','DE']\n",
    "northeast = ['PA','NJ','NY','CT','MA','RI','VT','NH','ME']"
   ]
  },
  {
   "cell_type": "code",
   "execution_count": 264,
   "id": "5b2cd556",
   "metadata": {},
   "outputs": [],
   "source": [
    "#Getting Regions\n",
    "s=pd.DataFrame([west,midwest,south,northeast],index=['West','Midwest','South','Northeast'])\n",
    "s=s.reset_index().melt('index')\n",
    "df['Region'] = df['State'].map(dict(zip(s['value'],s['index'])))"
   ]
  },
  {
   "cell_type": "code",
   "execution_count": 265,
   "id": "765e1108",
   "metadata": {},
   "outputs": [
    {
     "data": {
      "text/html": [
       "<div>\n",
       "<style scoped>\n",
       "    .dataframe tbody tr th:only-of-type {\n",
       "        vertical-align: middle;\n",
       "    }\n",
       "\n",
       "    .dataframe tbody tr th {\n",
       "        vertical-align: top;\n",
       "    }\n",
       "\n",
       "    .dataframe thead th {\n",
       "        text-align: right;\n",
       "    }\n",
       "</style>\n",
       "<table border=\"1\" class=\"dataframe\">\n",
       "  <thead>\n",
       "    <tr style=\"text-align: right;\">\n",
       "      <th></th>\n",
       "      <th>Order_ID</th>\n",
       "      <th>Product</th>\n",
       "      <th>Quantity_Ordered</th>\n",
       "      <th>Price_Each</th>\n",
       "      <th>Order_Date</th>\n",
       "      <th>Purchase_Address</th>\n",
       "      <th>Order_Day</th>\n",
       "      <th>Order_Quarter</th>\n",
       "      <th>Order_Month</th>\n",
       "      <th>Quarter</th>\n",
       "      <th>Month</th>\n",
       "      <th>City</th>\n",
       "      <th>State</th>\n",
       "      <th>Zip</th>\n",
       "      <th>Region</th>\n",
       "    </tr>\n",
       "  </thead>\n",
       "  <tbody>\n",
       "    <tr>\n",
       "      <th>0</th>\n",
       "      <td>141234</td>\n",
       "      <td>iPhone</td>\n",
       "      <td>1.0</td>\n",
       "      <td>700.00</td>\n",
       "      <td>2019-01-22 21:25:00</td>\n",
       "      <td>944 Walnut St, Boston, MA 02215</td>\n",
       "      <td>2019-01-22</td>\n",
       "      <td>2019Q1</td>\n",
       "      <td>2019-01</td>\n",
       "      <td>1</td>\n",
       "      <td>1</td>\n",
       "      <td>Boston</td>\n",
       "      <td>MA</td>\n",
       "      <td>02215</td>\n",
       "      <td>Northeast</td>\n",
       "    </tr>\n",
       "    <tr>\n",
       "      <th>1</th>\n",
       "      <td>141235</td>\n",
       "      <td>Lightning Charging Cable</td>\n",
       "      <td>1.0</td>\n",
       "      <td>14.95</td>\n",
       "      <td>2019-01-28 14:15:00</td>\n",
       "      <td>185 Maple St, Portland, OR 97035</td>\n",
       "      <td>2019-01-28</td>\n",
       "      <td>2019Q1</td>\n",
       "      <td>2019-01</td>\n",
       "      <td>1</td>\n",
       "      <td>1</td>\n",
       "      <td>Portland</td>\n",
       "      <td>OR</td>\n",
       "      <td>97035</td>\n",
       "      <td>West</td>\n",
       "    </tr>\n",
       "    <tr>\n",
       "      <th>2</th>\n",
       "      <td>141236</td>\n",
       "      <td>Wired Headphones</td>\n",
       "      <td>2.0</td>\n",
       "      <td>11.99</td>\n",
       "      <td>2019-01-17 13:33:00</td>\n",
       "      <td>538 Adams St, San Francisco, CA 94016</td>\n",
       "      <td>2019-01-17</td>\n",
       "      <td>2019Q1</td>\n",
       "      <td>2019-01</td>\n",
       "      <td>1</td>\n",
       "      <td>1</td>\n",
       "      <td>San Francisco</td>\n",
       "      <td>CA</td>\n",
       "      <td>94016</td>\n",
       "      <td>West</td>\n",
       "    </tr>\n",
       "    <tr>\n",
       "      <th>3</th>\n",
       "      <td>141237</td>\n",
       "      <td>27in FHD Monitor</td>\n",
       "      <td>1.0</td>\n",
       "      <td>149.99</td>\n",
       "      <td>2019-01-05 20:33:00</td>\n",
       "      <td>738 10th St, Los Angeles, CA 90001</td>\n",
       "      <td>2019-01-05</td>\n",
       "      <td>2019Q1</td>\n",
       "      <td>2019-01</td>\n",
       "      <td>1</td>\n",
       "      <td>1</td>\n",
       "      <td>Los Angeles</td>\n",
       "      <td>CA</td>\n",
       "      <td>90001</td>\n",
       "      <td>West</td>\n",
       "    </tr>\n",
       "    <tr>\n",
       "      <th>4</th>\n",
       "      <td>141238</td>\n",
       "      <td>Wired Headphones</td>\n",
       "      <td>1.0</td>\n",
       "      <td>11.99</td>\n",
       "      <td>2019-01-25 11:59:00</td>\n",
       "      <td>387 10th St, Austin, TX 73301</td>\n",
       "      <td>2019-01-25</td>\n",
       "      <td>2019Q1</td>\n",
       "      <td>2019-01</td>\n",
       "      <td>1</td>\n",
       "      <td>1</td>\n",
       "      <td>Austin</td>\n",
       "      <td>TX</td>\n",
       "      <td>73301</td>\n",
       "      <td>South</td>\n",
       "    </tr>\n",
       "  </tbody>\n",
       "</table>\n",
       "</div>"
      ],
      "text/plain": [
       "  Order_ID                   Product  Quantity_Ordered  Price_Each  \\\n",
       "0   141234                    iPhone               1.0      700.00   \n",
       "1   141235  Lightning Charging Cable               1.0       14.95   \n",
       "2   141236          Wired Headphones               2.0       11.99   \n",
       "3   141237          27in FHD Monitor               1.0      149.99   \n",
       "4   141238          Wired Headphones               1.0       11.99   \n",
       "\n",
       "           Order_Date                       Purchase_Address   Order_Day  \\\n",
       "0 2019-01-22 21:25:00        944 Walnut St, Boston, MA 02215  2019-01-22   \n",
       "1 2019-01-28 14:15:00       185 Maple St, Portland, OR 97035  2019-01-28   \n",
       "2 2019-01-17 13:33:00  538 Adams St, San Francisco, CA 94016  2019-01-17   \n",
       "3 2019-01-05 20:33:00     738 10th St, Los Angeles, CA 90001  2019-01-05   \n",
       "4 2019-01-25 11:59:00          387 10th St, Austin, TX 73301  2019-01-25   \n",
       "\n",
       "  Order_Quarter Order_Month  Quarter  Month            City State    Zip  \\\n",
       "0        2019Q1     2019-01        1      1          Boston    MA  02215   \n",
       "1        2019Q1     2019-01        1      1        Portland    OR  97035   \n",
       "2        2019Q1     2019-01        1      1   San Francisco    CA  94016   \n",
       "3        2019Q1     2019-01        1      1     Los Angeles    CA  90001   \n",
       "4        2019Q1     2019-01        1      1          Austin    TX  73301   \n",
       "\n",
       "      Region  \n",
       "0  Northeast  \n",
       "1       West  \n",
       "2       West  \n",
       "3       West  \n",
       "4      South  "
      ]
     },
     "execution_count": 265,
     "metadata": {},
     "output_type": "execute_result"
    }
   ],
   "source": [
    "df.head()"
   ]
  },
  {
   "cell_type": "markdown",
   "id": "ac74a03c",
   "metadata": {},
   "source": [
    "Transforming\n",
    "==="
   ]
  },
  {
   "cell_type": "code",
   "execution_count": 266,
   "id": "6c8415c2",
   "metadata": {},
   "outputs": [],
   "source": [
    "#Calculated/Derived Field\n",
    "df[\"Total\"] = df[\"Quantity_Ordered\"]  * df[\"Price_Each\"] "
   ]
  },
  {
   "cell_type": "code",
   "execution_count": 267,
   "id": "02a6ee3b",
   "metadata": {},
   "outputs": [
    {
     "data": {
      "text/html": [
       "<div>\n",
       "<style scoped>\n",
       "    .dataframe tbody tr th:only-of-type {\n",
       "        vertical-align: middle;\n",
       "    }\n",
       "\n",
       "    .dataframe tbody tr th {\n",
       "        vertical-align: top;\n",
       "    }\n",
       "\n",
       "    .dataframe thead th {\n",
       "        text-align: right;\n",
       "    }\n",
       "</style>\n",
       "<table border=\"1\" class=\"dataframe\">\n",
       "  <thead>\n",
       "    <tr style=\"text-align: right;\">\n",
       "      <th></th>\n",
       "      <th>Order_ID</th>\n",
       "      <th>Product</th>\n",
       "      <th>Quantity_Ordered</th>\n",
       "      <th>Price_Each</th>\n",
       "      <th>Order_Date</th>\n",
       "      <th>Purchase_Address</th>\n",
       "      <th>Order_Day</th>\n",
       "      <th>Order_Quarter</th>\n",
       "      <th>Order_Month</th>\n",
       "      <th>Quarter</th>\n",
       "      <th>Month</th>\n",
       "      <th>City</th>\n",
       "      <th>State</th>\n",
       "      <th>Zip</th>\n",
       "      <th>Region</th>\n",
       "      <th>Total</th>\n",
       "    </tr>\n",
       "  </thead>\n",
       "  <tbody>\n",
       "    <tr>\n",
       "      <th>0</th>\n",
       "      <td>141234</td>\n",
       "      <td>iPhone</td>\n",
       "      <td>1.0</td>\n",
       "      <td>700.00</td>\n",
       "      <td>2019-01-22 21:25:00</td>\n",
       "      <td>944 Walnut St, Boston, MA 02215</td>\n",
       "      <td>2019-01-22</td>\n",
       "      <td>2019Q1</td>\n",
       "      <td>2019-01</td>\n",
       "      <td>1</td>\n",
       "      <td>1</td>\n",
       "      <td>Boston</td>\n",
       "      <td>MA</td>\n",
       "      <td>02215</td>\n",
       "      <td>Northeast</td>\n",
       "      <td>700.00</td>\n",
       "    </tr>\n",
       "    <tr>\n",
       "      <th>1</th>\n",
       "      <td>141235</td>\n",
       "      <td>Lightning Charging Cable</td>\n",
       "      <td>1.0</td>\n",
       "      <td>14.95</td>\n",
       "      <td>2019-01-28 14:15:00</td>\n",
       "      <td>185 Maple St, Portland, OR 97035</td>\n",
       "      <td>2019-01-28</td>\n",
       "      <td>2019Q1</td>\n",
       "      <td>2019-01</td>\n",
       "      <td>1</td>\n",
       "      <td>1</td>\n",
       "      <td>Portland</td>\n",
       "      <td>OR</td>\n",
       "      <td>97035</td>\n",
       "      <td>West</td>\n",
       "      <td>14.95</td>\n",
       "    </tr>\n",
       "    <tr>\n",
       "      <th>2</th>\n",
       "      <td>141236</td>\n",
       "      <td>Wired Headphones</td>\n",
       "      <td>2.0</td>\n",
       "      <td>11.99</td>\n",
       "      <td>2019-01-17 13:33:00</td>\n",
       "      <td>538 Adams St, San Francisco, CA 94016</td>\n",
       "      <td>2019-01-17</td>\n",
       "      <td>2019Q1</td>\n",
       "      <td>2019-01</td>\n",
       "      <td>1</td>\n",
       "      <td>1</td>\n",
       "      <td>San Francisco</td>\n",
       "      <td>CA</td>\n",
       "      <td>94016</td>\n",
       "      <td>West</td>\n",
       "      <td>23.98</td>\n",
       "    </tr>\n",
       "    <tr>\n",
       "      <th>3</th>\n",
       "      <td>141237</td>\n",
       "      <td>27in FHD Monitor</td>\n",
       "      <td>1.0</td>\n",
       "      <td>149.99</td>\n",
       "      <td>2019-01-05 20:33:00</td>\n",
       "      <td>738 10th St, Los Angeles, CA 90001</td>\n",
       "      <td>2019-01-05</td>\n",
       "      <td>2019Q1</td>\n",
       "      <td>2019-01</td>\n",
       "      <td>1</td>\n",
       "      <td>1</td>\n",
       "      <td>Los Angeles</td>\n",
       "      <td>CA</td>\n",
       "      <td>90001</td>\n",
       "      <td>West</td>\n",
       "      <td>149.99</td>\n",
       "    </tr>\n",
       "    <tr>\n",
       "      <th>4</th>\n",
       "      <td>141238</td>\n",
       "      <td>Wired Headphones</td>\n",
       "      <td>1.0</td>\n",
       "      <td>11.99</td>\n",
       "      <td>2019-01-25 11:59:00</td>\n",
       "      <td>387 10th St, Austin, TX 73301</td>\n",
       "      <td>2019-01-25</td>\n",
       "      <td>2019Q1</td>\n",
       "      <td>2019-01</td>\n",
       "      <td>1</td>\n",
       "      <td>1</td>\n",
       "      <td>Austin</td>\n",
       "      <td>TX</td>\n",
       "      <td>73301</td>\n",
       "      <td>South</td>\n",
       "      <td>11.99</td>\n",
       "    </tr>\n",
       "  </tbody>\n",
       "</table>\n",
       "</div>"
      ],
      "text/plain": [
       "  Order_ID                   Product  Quantity_Ordered  Price_Each  \\\n",
       "0   141234                    iPhone               1.0      700.00   \n",
       "1   141235  Lightning Charging Cable               1.0       14.95   \n",
       "2   141236          Wired Headphones               2.0       11.99   \n",
       "3   141237          27in FHD Monitor               1.0      149.99   \n",
       "4   141238          Wired Headphones               1.0       11.99   \n",
       "\n",
       "           Order_Date                       Purchase_Address   Order_Day  \\\n",
       "0 2019-01-22 21:25:00        944 Walnut St, Boston, MA 02215  2019-01-22   \n",
       "1 2019-01-28 14:15:00       185 Maple St, Portland, OR 97035  2019-01-28   \n",
       "2 2019-01-17 13:33:00  538 Adams St, San Francisco, CA 94016  2019-01-17   \n",
       "3 2019-01-05 20:33:00     738 10th St, Los Angeles, CA 90001  2019-01-05   \n",
       "4 2019-01-25 11:59:00          387 10th St, Austin, TX 73301  2019-01-25   \n",
       "\n",
       "  Order_Quarter Order_Month  Quarter  Month            City State    Zip  \\\n",
       "0        2019Q1     2019-01        1      1          Boston    MA  02215   \n",
       "1        2019Q1     2019-01        1      1        Portland    OR  97035   \n",
       "2        2019Q1     2019-01        1      1   San Francisco    CA  94016   \n",
       "3        2019Q1     2019-01        1      1     Los Angeles    CA  90001   \n",
       "4        2019Q1     2019-01        1      1          Austin    TX  73301   \n",
       "\n",
       "      Region   Total  \n",
       "0  Northeast  700.00  \n",
       "1       West   14.95  \n",
       "2       West   23.98  \n",
       "3       West  149.99  \n",
       "4      South   11.99  "
      ]
     },
     "execution_count": 267,
     "metadata": {},
     "output_type": "execute_result"
    }
   ],
   "source": [
    "df.head()"
   ]
  },
  {
   "cell_type": "code",
   "execution_count": 268,
   "id": "0888e7a9",
   "metadata": {},
   "outputs": [
    {
     "data": {
      "text/html": [
       "<div>\n",
       "<style scoped>\n",
       "    .dataframe tbody tr th:only-of-type {\n",
       "        vertical-align: middle;\n",
       "    }\n",
       "\n",
       "    .dataframe tbody tr th {\n",
       "        vertical-align: top;\n",
       "    }\n",
       "\n",
       "    .dataframe thead th {\n",
       "        text-align: right;\n",
       "    }\n",
       "</style>\n",
       "<table border=\"1\" class=\"dataframe\">\n",
       "  <thead>\n",
       "    <tr style=\"text-align: right;\">\n",
       "      <th></th>\n",
       "      <th>Order_ID</th>\n",
       "      <th>Product</th>\n",
       "      <th>Quantity_Ordered</th>\n",
       "      <th>Price_Each</th>\n",
       "      <th>Order_Date</th>\n",
       "      <th>Purchase_Address</th>\n",
       "      <th>Order_Day</th>\n",
       "      <th>Order_Quarter</th>\n",
       "      <th>Order_Month</th>\n",
       "      <th>Quarter</th>\n",
       "      <th>Month</th>\n",
       "      <th>City</th>\n",
       "      <th>State</th>\n",
       "      <th>Zip</th>\n",
       "      <th>Region</th>\n",
       "      <th>Total</th>\n",
       "    </tr>\n",
       "  </thead>\n",
       "  <tbody>\n",
       "    <tr>\n",
       "      <th>185945</th>\n",
       "      <td>319666</td>\n",
       "      <td>Lightning Charging Cable</td>\n",
       "      <td>1.0</td>\n",
       "      <td>14.95</td>\n",
       "      <td>2019-12-11 20:58:00</td>\n",
       "      <td>14 Madison St, San Francisco, CA 94016</td>\n",
       "      <td>2019-12-11</td>\n",
       "      <td>2019Q4</td>\n",
       "      <td>2019-12</td>\n",
       "      <td>4</td>\n",
       "      <td>12</td>\n",
       "      <td>San Francisco</td>\n",
       "      <td>CA</td>\n",
       "      <td>94016</td>\n",
       "      <td>West</td>\n",
       "      <td>14.95</td>\n",
       "    </tr>\n",
       "    <tr>\n",
       "      <th>185946</th>\n",
       "      <td>319667</td>\n",
       "      <td>AA Batteries (4-pack)</td>\n",
       "      <td>2.0</td>\n",
       "      <td>3.84</td>\n",
       "      <td>2019-12-01 12:01:00</td>\n",
       "      <td>549 Willow St, Los Angeles, CA 90001</td>\n",
       "      <td>2019-12-01</td>\n",
       "      <td>2019Q4</td>\n",
       "      <td>2019-12</td>\n",
       "      <td>4</td>\n",
       "      <td>12</td>\n",
       "      <td>Los Angeles</td>\n",
       "      <td>CA</td>\n",
       "      <td>90001</td>\n",
       "      <td>West</td>\n",
       "      <td>7.68</td>\n",
       "    </tr>\n",
       "    <tr>\n",
       "      <th>185947</th>\n",
       "      <td>319668</td>\n",
       "      <td>Vareebadd Phone</td>\n",
       "      <td>1.0</td>\n",
       "      <td>400.00</td>\n",
       "      <td>2019-12-09 06:43:00</td>\n",
       "      <td>273 Wilson St, Seattle, WA 98101</td>\n",
       "      <td>2019-12-09</td>\n",
       "      <td>2019Q4</td>\n",
       "      <td>2019-12</td>\n",
       "      <td>4</td>\n",
       "      <td>12</td>\n",
       "      <td>Seattle</td>\n",
       "      <td>WA</td>\n",
       "      <td>98101</td>\n",
       "      <td>West</td>\n",
       "      <td>400.00</td>\n",
       "    </tr>\n",
       "    <tr>\n",
       "      <th>185948</th>\n",
       "      <td>319669</td>\n",
       "      <td>Wired Headphones</td>\n",
       "      <td>1.0</td>\n",
       "      <td>11.99</td>\n",
       "      <td>2019-12-03 10:39:00</td>\n",
       "      <td>778 River St, Dallas, TX 75001</td>\n",
       "      <td>2019-12-03</td>\n",
       "      <td>2019Q4</td>\n",
       "      <td>2019-12</td>\n",
       "      <td>4</td>\n",
       "      <td>12</td>\n",
       "      <td>Dallas</td>\n",
       "      <td>TX</td>\n",
       "      <td>75001</td>\n",
       "      <td>South</td>\n",
       "      <td>11.99</td>\n",
       "    </tr>\n",
       "    <tr>\n",
       "      <th>185949</th>\n",
       "      <td>319670</td>\n",
       "      <td>Bose SoundSport Headphones</td>\n",
       "      <td>1.0</td>\n",
       "      <td>99.99</td>\n",
       "      <td>2019-12-21 21:45:00</td>\n",
       "      <td>747 Chestnut St, Los Angeles, CA 90001</td>\n",
       "      <td>2019-12-21</td>\n",
       "      <td>2019Q4</td>\n",
       "      <td>2019-12</td>\n",
       "      <td>4</td>\n",
       "      <td>12</td>\n",
       "      <td>Los Angeles</td>\n",
       "      <td>CA</td>\n",
       "      <td>90001</td>\n",
       "      <td>West</td>\n",
       "      <td>99.99</td>\n",
       "    </tr>\n",
       "  </tbody>\n",
       "</table>\n",
       "</div>"
      ],
      "text/plain": [
       "       Order_ID                     Product  Quantity_Ordered  Price_Each  \\\n",
       "185945   319666    Lightning Charging Cable               1.0       14.95   \n",
       "185946   319667       AA Batteries (4-pack)               2.0        3.84   \n",
       "185947   319668             Vareebadd Phone               1.0      400.00   \n",
       "185948   319669            Wired Headphones               1.0       11.99   \n",
       "185949   319670  Bose SoundSport Headphones               1.0       99.99   \n",
       "\n",
       "                Order_Date                        Purchase_Address  \\\n",
       "185945 2019-12-11 20:58:00  14 Madison St, San Francisco, CA 94016   \n",
       "185946 2019-12-01 12:01:00    549 Willow St, Los Angeles, CA 90001   \n",
       "185947 2019-12-09 06:43:00        273 Wilson St, Seattle, WA 98101   \n",
       "185948 2019-12-03 10:39:00          778 River St, Dallas, TX 75001   \n",
       "185949 2019-12-21 21:45:00  747 Chestnut St, Los Angeles, CA 90001   \n",
       "\n",
       "         Order_Day Order_Quarter Order_Month  Quarter  Month            City  \\\n",
       "185945  2019-12-11        2019Q4     2019-12        4     12   San Francisco   \n",
       "185946  2019-12-01        2019Q4     2019-12        4     12     Los Angeles   \n",
       "185947  2019-12-09        2019Q4     2019-12        4     12         Seattle   \n",
       "185948  2019-12-03        2019Q4     2019-12        4     12          Dallas   \n",
       "185949  2019-12-21        2019Q4     2019-12        4     12     Los Angeles   \n",
       "\n",
       "       State    Zip Region   Total  \n",
       "185945    CA  94016   West   14.95  \n",
       "185946    CA  90001   West    7.68  \n",
       "185947    WA  98101   West  400.00  \n",
       "185948    TX  75001  South   11.99  \n",
       "185949    CA  90001   West   99.99  "
      ]
     },
     "execution_count": 268,
     "metadata": {},
     "output_type": "execute_result"
    }
   ],
   "source": [
    "df.tail()"
   ]
  },
  {
   "cell_type": "code",
   "execution_count": 269,
   "id": "5178c412",
   "metadata": {},
   "outputs": [],
   "source": [
    "#Creating Category\n",
    "df['Category'] = 0\n",
    "#Add to column\n",
    "df.loc[df['Product'] == 'iPhone', 'Category'] = 'Phone'\n",
    "df.loc[df['Product'] == 'Vareebadd Phone', 'Category'] = 'Phone'\n",
    "df.loc[df['Product'] == 'Google Phone', 'Category'] = 'Phone'\n",
    "df.loc[df['Product'] == '20in Monitor', 'Category'] = 'Monitor'\n",
    "df.loc[df['Product'] == '27in 4K Gaming Monitor', 'Category'] = 'Monitor'\n",
    "df.loc[df['Product'] == '27in FHD Monitor', 'Category'] = 'Monitor'\n",
    "df.loc[df['Product'] == '34in Ultrawide Monitor', 'Category'] = 'Monitor'\n",
    "df.loc[df['Product'] == 'AA Batteries (4-pack)', 'Category'] = 'Batteries'\n",
    "df.loc[df['Product'] == 'AAA Batteries (4-pack)', 'Category'] = 'Batteries'\n",
    "df.loc[df['Product'] == 'Flatscreen TV', 'Category'] = 'TV'\n",
    "df.loc[df['Product'] == 'LG Washing Machine', 'Category'] = 'Appliance'\n",
    "df.loc[df['Product'] == 'LG Dryer', 'Category'] = 'Appliance'\n",
    "df.loc[df['Product'] == 'Lightning Charging Cable', 'Category'] = 'Accessories'\n",
    "df.loc[df['Product'] == 'Apple Airpods Headphones', 'Category'] = 'Accessories'\n",
    "df.loc[df['Product'] == 'Wired Headphones', 'Category'] = 'Accessories'\n",
    "df.loc[df['Product'] == 'Bose SoundSport Headphones', 'Category'] = 'Accessories'\n",
    "df.loc[df['Product'] == 'USB-C Charging Cable', 'Category'] = 'Accessories'\n",
    "df.loc[df['Product'] == 'Macbook Pro Laptop', 'Category'] = 'Laptop'\n",
    "df.loc[df['Product'] == 'ThinkPad Laptop', 'Category'] = 'Laptop'"
   ]
  },
  {
   "cell_type": "code",
   "execution_count": 270,
   "id": "cca5b3f0",
   "metadata": {},
   "outputs": [
    {
     "data": {
      "text/plain": [
       "Accessories    0.490834\n",
       "Batteries      0.221718\n",
       "Monitor        0.129224\n",
       "Phone          0.077696\n",
       "Laptop         0.047645\n",
       "TV             0.025818\n",
       "Appliance      0.007066\n",
       "Name: Category, dtype: float64"
      ]
     },
     "execution_count": 270,
     "metadata": {},
     "output_type": "execute_result"
    }
   ],
   "source": [
    "#look at target variable spread\n",
    "df['Category'].value_counts(normalize=True)"
   ]
  },
  {
   "cell_type": "markdown",
   "id": "f09d00e2",
   "metadata": {},
   "source": [
    "Descriptive Analysis\n",
    "==="
   ]
  },
  {
   "cell_type": "code",
   "execution_count": 271,
   "id": "aa0419a2",
   "metadata": {},
   "outputs": [
    {
     "data": {
      "text/html": [
       "<div>\n",
       "<style scoped>\n",
       "    .dataframe tbody tr th:only-of-type {\n",
       "        vertical-align: middle;\n",
       "    }\n",
       "\n",
       "    .dataframe tbody tr th {\n",
       "        vertical-align: top;\n",
       "    }\n",
       "\n",
       "    .dataframe thead th {\n",
       "        text-align: right;\n",
       "    }\n",
       "</style>\n",
       "<table border=\"1\" class=\"dataframe\">\n",
       "  <thead>\n",
       "    <tr style=\"text-align: right;\">\n",
       "      <th>Product</th>\n",
       "      <th>20in Monitor</th>\n",
       "      <th>27in 4K Gaming Monitor</th>\n",
       "      <th>27in FHD Monitor</th>\n",
       "      <th>34in Ultrawide Monitor</th>\n",
       "      <th>AA Batteries (4-pack)</th>\n",
       "      <th>AAA Batteries (4-pack)</th>\n",
       "      <th>Apple Airpods Headphones</th>\n",
       "      <th>Bose SoundSport Headphones</th>\n",
       "      <th>Flatscreen TV</th>\n",
       "      <th>Google Phone</th>\n",
       "      <th>LG Dryer</th>\n",
       "      <th>LG Washing Machine</th>\n",
       "      <th>Lightning Charging Cable</th>\n",
       "      <th>Macbook Pro Laptop</th>\n",
       "      <th>ThinkPad Laptop</th>\n",
       "      <th>USB-C Charging Cable</th>\n",
       "      <th>Vareebadd Phone</th>\n",
       "      <th>Wired Headphones</th>\n",
       "      <th>iPhone</th>\n",
       "      <th>All</th>\n",
       "    </tr>\n",
       "    <tr>\n",
       "      <th>Price_Each</th>\n",
       "      <th></th>\n",
       "      <th></th>\n",
       "      <th></th>\n",
       "      <th></th>\n",
       "      <th></th>\n",
       "      <th></th>\n",
       "      <th></th>\n",
       "      <th></th>\n",
       "      <th></th>\n",
       "      <th></th>\n",
       "      <th></th>\n",
       "      <th></th>\n",
       "      <th></th>\n",
       "      <th></th>\n",
       "      <th></th>\n",
       "      <th></th>\n",
       "      <th></th>\n",
       "      <th></th>\n",
       "      <th></th>\n",
       "      <th></th>\n",
       "    </tr>\n",
       "  </thead>\n",
       "  <tbody>\n",
       "    <tr>\n",
       "      <th>2.99</th>\n",
       "      <td>0</td>\n",
       "      <td>0</td>\n",
       "      <td>0</td>\n",
       "      <td>0</td>\n",
       "      <td>0</td>\n",
       "      <td>20612</td>\n",
       "      <td>0</td>\n",
       "      <td>0</td>\n",
       "      <td>0</td>\n",
       "      <td>0</td>\n",
       "      <td>0</td>\n",
       "      <td>0</td>\n",
       "      <td>0</td>\n",
       "      <td>0</td>\n",
       "      <td>0</td>\n",
       "      <td>0</td>\n",
       "      <td>0</td>\n",
       "      <td>0</td>\n",
       "      <td>0</td>\n",
       "      <td>20612</td>\n",
       "    </tr>\n",
       "    <tr>\n",
       "      <th>3.84</th>\n",
       "      <td>0</td>\n",
       "      <td>0</td>\n",
       "      <td>0</td>\n",
       "      <td>0</td>\n",
       "      <td>20558</td>\n",
       "      <td>0</td>\n",
       "      <td>0</td>\n",
       "      <td>0</td>\n",
       "      <td>0</td>\n",
       "      <td>0</td>\n",
       "      <td>0</td>\n",
       "      <td>0</td>\n",
       "      <td>0</td>\n",
       "      <td>0</td>\n",
       "      <td>0</td>\n",
       "      <td>0</td>\n",
       "      <td>0</td>\n",
       "      <td>0</td>\n",
       "      <td>0</td>\n",
       "      <td>20558</td>\n",
       "    </tr>\n",
       "    <tr>\n",
       "      <th>11.95</th>\n",
       "      <td>0</td>\n",
       "      <td>0</td>\n",
       "      <td>0</td>\n",
       "      <td>0</td>\n",
       "      <td>0</td>\n",
       "      <td>0</td>\n",
       "      <td>0</td>\n",
       "      <td>0</td>\n",
       "      <td>0</td>\n",
       "      <td>0</td>\n",
       "      <td>0</td>\n",
       "      <td>0</td>\n",
       "      <td>0</td>\n",
       "      <td>0</td>\n",
       "      <td>0</td>\n",
       "      <td>21859</td>\n",
       "      <td>0</td>\n",
       "      <td>0</td>\n",
       "      <td>0</td>\n",
       "      <td>21859</td>\n",
       "    </tr>\n",
       "    <tr>\n",
       "      <th>11.99</th>\n",
       "      <td>0</td>\n",
       "      <td>0</td>\n",
       "      <td>0</td>\n",
       "      <td>0</td>\n",
       "      <td>0</td>\n",
       "      <td>0</td>\n",
       "      <td>0</td>\n",
       "      <td>0</td>\n",
       "      <td>0</td>\n",
       "      <td>0</td>\n",
       "      <td>0</td>\n",
       "      <td>0</td>\n",
       "      <td>0</td>\n",
       "      <td>0</td>\n",
       "      <td>0</td>\n",
       "      <td>0</td>\n",
       "      <td>0</td>\n",
       "      <td>18849</td>\n",
       "      <td>0</td>\n",
       "      <td>18849</td>\n",
       "    </tr>\n",
       "    <tr>\n",
       "      <th>14.95</th>\n",
       "      <td>0</td>\n",
       "      <td>0</td>\n",
       "      <td>0</td>\n",
       "      <td>0</td>\n",
       "      <td>0</td>\n",
       "      <td>0</td>\n",
       "      <td>0</td>\n",
       "      <td>0</td>\n",
       "      <td>0</td>\n",
       "      <td>0</td>\n",
       "      <td>0</td>\n",
       "      <td>0</td>\n",
       "      <td>21610</td>\n",
       "      <td>0</td>\n",
       "      <td>0</td>\n",
       "      <td>0</td>\n",
       "      <td>0</td>\n",
       "      <td>0</td>\n",
       "      <td>0</td>\n",
       "      <td>21610</td>\n",
       "    </tr>\n",
       "    <tr>\n",
       "      <th>99.99</th>\n",
       "      <td>0</td>\n",
       "      <td>0</td>\n",
       "      <td>0</td>\n",
       "      <td>0</td>\n",
       "      <td>0</td>\n",
       "      <td>0</td>\n",
       "      <td>0</td>\n",
       "      <td>13298</td>\n",
       "      <td>0</td>\n",
       "      <td>0</td>\n",
       "      <td>0</td>\n",
       "      <td>0</td>\n",
       "      <td>0</td>\n",
       "      <td>0</td>\n",
       "      <td>0</td>\n",
       "      <td>0</td>\n",
       "      <td>0</td>\n",
       "      <td>0</td>\n",
       "      <td>0</td>\n",
       "      <td>13298</td>\n",
       "    </tr>\n",
       "    <tr>\n",
       "      <th>109.99</th>\n",
       "      <td>4098</td>\n",
       "      <td>0</td>\n",
       "      <td>0</td>\n",
       "      <td>0</td>\n",
       "      <td>0</td>\n",
       "      <td>0</td>\n",
       "      <td>0</td>\n",
       "      <td>0</td>\n",
       "      <td>0</td>\n",
       "      <td>0</td>\n",
       "      <td>0</td>\n",
       "      <td>0</td>\n",
       "      <td>0</td>\n",
       "      <td>0</td>\n",
       "      <td>0</td>\n",
       "      <td>0</td>\n",
       "      <td>0</td>\n",
       "      <td>0</td>\n",
       "      <td>0</td>\n",
       "      <td>4098</td>\n",
       "    </tr>\n",
       "    <tr>\n",
       "      <th>149.99</th>\n",
       "      <td>0</td>\n",
       "      <td>0</td>\n",
       "      <td>7498</td>\n",
       "      <td>0</td>\n",
       "      <td>0</td>\n",
       "      <td>0</td>\n",
       "      <td>0</td>\n",
       "      <td>0</td>\n",
       "      <td>0</td>\n",
       "      <td>0</td>\n",
       "      <td>0</td>\n",
       "      <td>0</td>\n",
       "      <td>0</td>\n",
       "      <td>0</td>\n",
       "      <td>0</td>\n",
       "      <td>0</td>\n",
       "      <td>0</td>\n",
       "      <td>0</td>\n",
       "      <td>0</td>\n",
       "      <td>7498</td>\n",
       "    </tr>\n",
       "    <tr>\n",
       "      <th>150.0</th>\n",
       "      <td>0</td>\n",
       "      <td>0</td>\n",
       "      <td>0</td>\n",
       "      <td>0</td>\n",
       "      <td>0</td>\n",
       "      <td>0</td>\n",
       "      <td>15525</td>\n",
       "      <td>0</td>\n",
       "      <td>0</td>\n",
       "      <td>0</td>\n",
       "      <td>0</td>\n",
       "      <td>0</td>\n",
       "      <td>0</td>\n",
       "      <td>0</td>\n",
       "      <td>0</td>\n",
       "      <td>0</td>\n",
       "      <td>0</td>\n",
       "      <td>0</td>\n",
       "      <td>0</td>\n",
       "      <td>15525</td>\n",
       "    </tr>\n",
       "    <tr>\n",
       "      <th>300.0</th>\n",
       "      <td>0</td>\n",
       "      <td>0</td>\n",
       "      <td>0</td>\n",
       "      <td>0</td>\n",
       "      <td>0</td>\n",
       "      <td>0</td>\n",
       "      <td>0</td>\n",
       "      <td>0</td>\n",
       "      <td>4794</td>\n",
       "      <td>0</td>\n",
       "      <td>0</td>\n",
       "      <td>0</td>\n",
       "      <td>0</td>\n",
       "      <td>0</td>\n",
       "      <td>0</td>\n",
       "      <td>0</td>\n",
       "      <td>0</td>\n",
       "      <td>0</td>\n",
       "      <td>0</td>\n",
       "      <td>4794</td>\n",
       "    </tr>\n",
       "    <tr>\n",
       "      <th>379.99</th>\n",
       "      <td>0</td>\n",
       "      <td>0</td>\n",
       "      <td>0</td>\n",
       "      <td>6174</td>\n",
       "      <td>0</td>\n",
       "      <td>0</td>\n",
       "      <td>0</td>\n",
       "      <td>0</td>\n",
       "      <td>0</td>\n",
       "      <td>0</td>\n",
       "      <td>0</td>\n",
       "      <td>0</td>\n",
       "      <td>0</td>\n",
       "      <td>0</td>\n",
       "      <td>0</td>\n",
       "      <td>0</td>\n",
       "      <td>0</td>\n",
       "      <td>0</td>\n",
       "      <td>0</td>\n",
       "      <td>6174</td>\n",
       "    </tr>\n",
       "    <tr>\n",
       "      <th>389.99</th>\n",
       "      <td>0</td>\n",
       "      <td>6225</td>\n",
       "      <td>0</td>\n",
       "      <td>0</td>\n",
       "      <td>0</td>\n",
       "      <td>0</td>\n",
       "      <td>0</td>\n",
       "      <td>0</td>\n",
       "      <td>0</td>\n",
       "      <td>0</td>\n",
       "      <td>0</td>\n",
       "      <td>0</td>\n",
       "      <td>0</td>\n",
       "      <td>0</td>\n",
       "      <td>0</td>\n",
       "      <td>0</td>\n",
       "      <td>0</td>\n",
       "      <td>0</td>\n",
       "      <td>0</td>\n",
       "      <td>6225</td>\n",
       "    </tr>\n",
       "    <tr>\n",
       "      <th>400.0</th>\n",
       "      <td>0</td>\n",
       "      <td>0</td>\n",
       "      <td>0</td>\n",
       "      <td>0</td>\n",
       "      <td>0</td>\n",
       "      <td>0</td>\n",
       "      <td>0</td>\n",
       "      <td>0</td>\n",
       "      <td>0</td>\n",
       "      <td>0</td>\n",
       "      <td>0</td>\n",
       "      <td>0</td>\n",
       "      <td>0</td>\n",
       "      <td>0</td>\n",
       "      <td>0</td>\n",
       "      <td>0</td>\n",
       "      <td>2065</td>\n",
       "      <td>0</td>\n",
       "      <td>0</td>\n",
       "      <td>2065</td>\n",
       "    </tr>\n",
       "    <tr>\n",
       "      <th>600.0</th>\n",
       "      <td>0</td>\n",
       "      <td>0</td>\n",
       "      <td>0</td>\n",
       "      <td>0</td>\n",
       "      <td>0</td>\n",
       "      <td>0</td>\n",
       "      <td>0</td>\n",
       "      <td>0</td>\n",
       "      <td>0</td>\n",
       "      <td>5522</td>\n",
       "      <td>646</td>\n",
       "      <td>666</td>\n",
       "      <td>0</td>\n",
       "      <td>0</td>\n",
       "      <td>0</td>\n",
       "      <td>0</td>\n",
       "      <td>0</td>\n",
       "      <td>0</td>\n",
       "      <td>0</td>\n",
       "      <td>6834</td>\n",
       "    </tr>\n",
       "    <tr>\n",
       "      <th>700.0</th>\n",
       "      <td>0</td>\n",
       "      <td>0</td>\n",
       "      <td>0</td>\n",
       "      <td>0</td>\n",
       "      <td>0</td>\n",
       "      <td>0</td>\n",
       "      <td>0</td>\n",
       "      <td>0</td>\n",
       "      <td>0</td>\n",
       "      <td>0</td>\n",
       "      <td>0</td>\n",
       "      <td>0</td>\n",
       "      <td>0</td>\n",
       "      <td>0</td>\n",
       "      <td>0</td>\n",
       "      <td>0</td>\n",
       "      <td>0</td>\n",
       "      <td>0</td>\n",
       "      <td>6840</td>\n",
       "      <td>6840</td>\n",
       "    </tr>\n",
       "    <tr>\n",
       "      <th>999.99</th>\n",
       "      <td>0</td>\n",
       "      <td>0</td>\n",
       "      <td>0</td>\n",
       "      <td>0</td>\n",
       "      <td>0</td>\n",
       "      <td>0</td>\n",
       "      <td>0</td>\n",
       "      <td>0</td>\n",
       "      <td>0</td>\n",
       "      <td>0</td>\n",
       "      <td>0</td>\n",
       "      <td>0</td>\n",
       "      <td>0</td>\n",
       "      <td>0</td>\n",
       "      <td>4126</td>\n",
       "      <td>0</td>\n",
       "      <td>0</td>\n",
       "      <td>0</td>\n",
       "      <td>0</td>\n",
       "      <td>4126</td>\n",
       "    </tr>\n",
       "    <tr>\n",
       "      <th>1700.0</th>\n",
       "      <td>0</td>\n",
       "      <td>0</td>\n",
       "      <td>0</td>\n",
       "      <td>0</td>\n",
       "      <td>0</td>\n",
       "      <td>0</td>\n",
       "      <td>0</td>\n",
       "      <td>0</td>\n",
       "      <td>0</td>\n",
       "      <td>0</td>\n",
       "      <td>0</td>\n",
       "      <td>0</td>\n",
       "      <td>0</td>\n",
       "      <td>4721</td>\n",
       "      <td>0</td>\n",
       "      <td>0</td>\n",
       "      <td>0</td>\n",
       "      <td>0</td>\n",
       "      <td>0</td>\n",
       "      <td>4721</td>\n",
       "    </tr>\n",
       "    <tr>\n",
       "      <th>All</th>\n",
       "      <td>4098</td>\n",
       "      <td>6225</td>\n",
       "      <td>7498</td>\n",
       "      <td>6174</td>\n",
       "      <td>20558</td>\n",
       "      <td>20612</td>\n",
       "      <td>15525</td>\n",
       "      <td>13298</td>\n",
       "      <td>4794</td>\n",
       "      <td>5522</td>\n",
       "      <td>646</td>\n",
       "      <td>666</td>\n",
       "      <td>21610</td>\n",
       "      <td>4721</td>\n",
       "      <td>4126</td>\n",
       "      <td>21859</td>\n",
       "      <td>2065</td>\n",
       "      <td>18849</td>\n",
       "      <td>6840</td>\n",
       "      <td>185686</td>\n",
       "    </tr>\n",
       "  </tbody>\n",
       "</table>\n",
       "</div>"
      ],
      "text/plain": [
       "Product     20in Monitor  27in 4K Gaming Monitor  27in FHD Monitor  \\\n",
       "Price_Each                                                           \n",
       "2.99                   0                       0                 0   \n",
       "3.84                   0                       0                 0   \n",
       "11.95                  0                       0                 0   \n",
       "11.99                  0                       0                 0   \n",
       "14.95                  0                       0                 0   \n",
       "99.99                  0                       0                 0   \n",
       "109.99              4098                       0                 0   \n",
       "149.99                 0                       0              7498   \n",
       "150.0                  0                       0                 0   \n",
       "300.0                  0                       0                 0   \n",
       "379.99                 0                       0                 0   \n",
       "389.99                 0                    6225                 0   \n",
       "400.0                  0                       0                 0   \n",
       "600.0                  0                       0                 0   \n",
       "700.0                  0                       0                 0   \n",
       "999.99                 0                       0                 0   \n",
       "1700.0                 0                       0                 0   \n",
       "All                 4098                    6225              7498   \n",
       "\n",
       "Product     34in Ultrawide Monitor  AA Batteries (4-pack)  \\\n",
       "Price_Each                                                  \n",
       "2.99                             0                      0   \n",
       "3.84                             0                  20558   \n",
       "11.95                            0                      0   \n",
       "11.99                            0                      0   \n",
       "14.95                            0                      0   \n",
       "99.99                            0                      0   \n",
       "109.99                           0                      0   \n",
       "149.99                           0                      0   \n",
       "150.0                            0                      0   \n",
       "300.0                            0                      0   \n",
       "379.99                        6174                      0   \n",
       "389.99                           0                      0   \n",
       "400.0                            0                      0   \n",
       "600.0                            0                      0   \n",
       "700.0                            0                      0   \n",
       "999.99                           0                      0   \n",
       "1700.0                           0                      0   \n",
       "All                           6174                  20558   \n",
       "\n",
       "Product     AAA Batteries (4-pack)  Apple Airpods Headphones  \\\n",
       "Price_Each                                                     \n",
       "2.99                         20612                         0   \n",
       "3.84                             0                         0   \n",
       "11.95                            0                         0   \n",
       "11.99                            0                         0   \n",
       "14.95                            0                         0   \n",
       "99.99                            0                         0   \n",
       "109.99                           0                         0   \n",
       "149.99                           0                         0   \n",
       "150.0                            0                     15525   \n",
       "300.0                            0                         0   \n",
       "379.99                           0                         0   \n",
       "389.99                           0                         0   \n",
       "400.0                            0                         0   \n",
       "600.0                            0                         0   \n",
       "700.0                            0                         0   \n",
       "999.99                           0                         0   \n",
       "1700.0                           0                         0   \n",
       "All                          20612                     15525   \n",
       "\n",
       "Product     Bose SoundSport Headphones  Flatscreen TV  Google Phone  LG Dryer  \\\n",
       "Price_Each                                                                      \n",
       "2.99                                 0              0             0         0   \n",
       "3.84                                 0              0             0         0   \n",
       "11.95                                0              0             0         0   \n",
       "11.99                                0              0             0         0   \n",
       "14.95                                0              0             0         0   \n",
       "99.99                            13298              0             0         0   \n",
       "109.99                               0              0             0         0   \n",
       "149.99                               0              0             0         0   \n",
       "150.0                                0              0             0         0   \n",
       "300.0                                0           4794             0         0   \n",
       "379.99                               0              0             0         0   \n",
       "389.99                               0              0             0         0   \n",
       "400.0                                0              0             0         0   \n",
       "600.0                                0              0          5522       646   \n",
       "700.0                                0              0             0         0   \n",
       "999.99                               0              0             0         0   \n",
       "1700.0                               0              0             0         0   \n",
       "All                              13298           4794          5522       646   \n",
       "\n",
       "Product     LG Washing Machine  Lightning Charging Cable  Macbook Pro Laptop  \\\n",
       "Price_Each                                                                     \n",
       "2.99                         0                         0                   0   \n",
       "3.84                         0                         0                   0   \n",
       "11.95                        0                         0                   0   \n",
       "11.99                        0                         0                   0   \n",
       "14.95                        0                     21610                   0   \n",
       "99.99                        0                         0                   0   \n",
       "109.99                       0                         0                   0   \n",
       "149.99                       0                         0                   0   \n",
       "150.0                        0                         0                   0   \n",
       "300.0                        0                         0                   0   \n",
       "379.99                       0                         0                   0   \n",
       "389.99                       0                         0                   0   \n",
       "400.0                        0                         0                   0   \n",
       "600.0                      666                         0                   0   \n",
       "700.0                        0                         0                   0   \n",
       "999.99                       0                         0                   0   \n",
       "1700.0                       0                         0                4721   \n",
       "All                        666                     21610                4721   \n",
       "\n",
       "Product     ThinkPad Laptop  USB-C Charging Cable  Vareebadd Phone  \\\n",
       "Price_Each                                                           \n",
       "2.99                      0                     0                0   \n",
       "3.84                      0                     0                0   \n",
       "11.95                     0                 21859                0   \n",
       "11.99                     0                     0                0   \n",
       "14.95                     0                     0                0   \n",
       "99.99                     0                     0                0   \n",
       "109.99                    0                     0                0   \n",
       "149.99                    0                     0                0   \n",
       "150.0                     0                     0                0   \n",
       "300.0                     0                     0                0   \n",
       "379.99                    0                     0                0   \n",
       "389.99                    0                     0                0   \n",
       "400.0                     0                     0             2065   \n",
       "600.0                     0                     0                0   \n",
       "700.0                     0                     0                0   \n",
       "999.99                 4126                     0                0   \n",
       "1700.0                    0                     0                0   \n",
       "All                    4126                 21859             2065   \n",
       "\n",
       "Product     Wired Headphones  iPhone     All  \n",
       "Price_Each                                    \n",
       "2.99                       0       0   20612  \n",
       "3.84                       0       0   20558  \n",
       "11.95                      0       0   21859  \n",
       "11.99                  18849       0   18849  \n",
       "14.95                      0       0   21610  \n",
       "99.99                      0       0   13298  \n",
       "109.99                     0       0    4098  \n",
       "149.99                     0       0    7498  \n",
       "150.0                      0       0   15525  \n",
       "300.0                      0       0    4794  \n",
       "379.99                     0       0    6174  \n",
       "389.99                     0       0    6225  \n",
       "400.0                      0       0    2065  \n",
       "600.0                      0       0    6834  \n",
       "700.0                      0    6840    6840  \n",
       "999.99                     0       0    4126  \n",
       "1700.0                     0       0    4721  \n",
       "All                    18849    6840  185686  "
      ]
     },
     "execution_count": 271,
     "metadata": {},
     "output_type": "execute_result"
    }
   ],
   "source": [
    "#Simple\n",
    "pd.crosstab(index=df['Price_Each'], columns=df['Product'], margins = True)"
   ]
  },
  {
   "cell_type": "code",
   "execution_count": 272,
   "id": "c27f8752",
   "metadata": {},
   "outputs": [
    {
     "data": {
      "text/plain": [
       "<AxesSubplot:xlabel='Region', ylabel='Total'>"
      ]
     },
     "execution_count": 272,
     "metadata": {},
     "output_type": "execute_result"
    },
    {
     "data": {
      "image/png": "[encoded data removed]",
      "text/plain": [
       "<Figure size 1080x720 with 1 Axes>"
      ]
     },
     "metadata": {},
     "output_type": "display_data"
    }
   ],
   "source": [
    "#Overall BoxWhisker\n",
    "sns.set(rc = {'figure.figsize':(15,10)})\n",
    "sns.boxplot(x=\"Region\", y=\"Total\", hue=\"Category\", data=df, )"
   ]
  },
  {
   "cell_type": "markdown",
   "id": "1d144335",
   "metadata": {},
   "source": [
    "Region\n",
    "===="
   ]
  },
  {
   "cell_type": "code",
   "execution_count": 273,
   "id": "83445c07",
   "metadata": {},
   "outputs": [
    {
     "data": {
      "text/plain": [
       "(126.4841605877296, 0.08528658564277473, 106)"
      ]
     },
     "execution_count": 273,
     "metadata": {},
     "output_type": "execute_result"
    }
   ],
   "source": [
    "#Check Chi-Square (Need to Revisit)\n",
    "from scipy.stats import chi2_contingency\n",
    "#Single\n",
    "ft = pd.crosstab(index=df['Region'], columns=df['Total'])\n",
    "c, p, dof, expected = chi2_contingency(ft)\n",
    "c, p, dof"
   ]
  },
  {
   "cell_type": "code",
   "execution_count": 274,
   "id": "02f7d7b6",
   "metadata": {},
   "outputs": [
    {
     "data": {
      "text/plain": [
       "<AxesSubplot:xlabel='Total', ylabel='Region'>"
      ]
     },
     "execution_count": 274,
     "metadata": {},
     "output_type": "execute_result"
    },
    {
     "data": {
      "image/png": "[encoded data removed]",
      "text/plain": [
       "<Figure size 1080x720 with 1 Axes>"
      ]
     },
     "metadata": {},
     "output_type": "display_data"
    }
   ],
   "source": [
    "#BoxPlot\n",
    "sns.set(rc = {'figure.figsize':(15,10)})\n",
    "sns.boxplot(x=\"Total\", y=\"Region\", data=df)"
   ]
  },
  {
   "cell_type": "markdown",
   "id": "aa564ef0",
   "metadata": {},
   "source": [
    "Category\n",
    "===="
   ]
  },
  {
   "cell_type": "code",
   "execution_count": 275,
   "id": "7938ea47",
   "metadata": {},
   "outputs": [
    {
     "data": {
      "text/plain": [
       "(945097.7716177546, 0.0, 318)"
      ]
     },
     "execution_count": 275,
     "metadata": {},
     "output_type": "execute_result"
    }
   ],
   "source": [
    "#Check Chi-Square (Used in Model)\n",
    "from scipy.stats import chi2_contingency\n",
    "#Single\n",
    "ft = pd.crosstab(index=df['Category'], columns=df['Total'])\n",
    "c, p, dof, expected = chi2_contingency(ft)\n",
    "c, p, dof"
   ]
  },
  {
   "cell_type": "code",
   "execution_count": 276,
   "id": "5f8c2c76",
   "metadata": {},
   "outputs": [
    {
     "data": {
      "text/plain": [
       "<AxesSubplot:xlabel='Total', ylabel='Category'>"
      ]
     },
     "execution_count": 276,
     "metadata": {},
     "output_type": "execute_result"
    },
    {
     "data": {
      "image/png": "[encoded data removed]",
      "text/plain": [
       "<Figure size 1080x720 with 1 Axes>"
      ]
     },
     "metadata": {},
     "output_type": "display_data"
    }
   ],
   "source": [
    "#BoxPlot\n",
    "sns.set(rc = {'figure.figsize':(15,10)})\n",
    "sns.boxplot(x=\"Total\", y=\"Category\", data=df)"
   ]
  },
  {
   "cell_type": "code",
   "execution_count": 277,
   "id": "c2ae48da",
   "metadata": {},
   "outputs": [],
   "source": [
    "totalorderdaygroup = df.groupby(['Order_Day','Region','Category'])['Total'].sum().T\n",
    "totalorderday = df.groupby(['Order_Day'])['Total'].sum().T\n",
    "totalordermonth = df.groupby(['Order_Month'])['Total'].sum().T\n",
    "totalmonth = df.groupby(['Month'])['Total'].sum().T\n",
    "totalquarter = df.groupby(['Quarter'])['Total'].sum().T"
   ]
  },
  {
   "cell_type": "code",
   "execution_count": 278,
   "id": "859b49f8",
   "metadata": {},
   "outputs": [],
   "source": [
    "totalorderday = pd.DataFrame(totalorderday)\n",
    "#Finished Dataset for Use CSV by Day Total\n",
    "totalorderday.to_csv('C:\\\\Users\\\\2-1\\\\Downloads\\\\Sales_Day_Total_Processed.csv')"
   ]
  },
  {
   "cell_type": "code",
   "execution_count": 279,
   "id": "8e6979f9",
   "metadata": {},
   "outputs": [],
   "source": [
    "totalordermonth = pd.DataFrame(totalordermonth)\n",
    "#Finished Dataset for Use CSV by Month\n",
    "totalordermonth.to_csv('C:\\\\Users\\\\2-1\\\\Downloads\\\\Sales_Month_Processed.csv')"
   ]
  },
  {
   "cell_type": "code",
   "execution_count": 280,
   "id": "c77e36a1",
   "metadata": {},
   "outputs": [],
   "source": [
    "totalorderdaygroup = pd.DataFrame(totalorderdaygroup)\n",
    "#Finished Dataset for Use CSV by Day Grouped\n",
    "totalorderdaygroup.to_csv('C:\\\\Users\\\\2-1\\\\Downloads\\\\Sales_Day_Processed.csv')"
   ]
  },
  {
   "cell_type": "code",
   "execution_count": 281,
   "id": "040aec5a",
   "metadata": {},
   "outputs": [
    {
     "data": {
      "text/html": [
       "<div>\n",
       "<style scoped>\n",
       "    .dataframe tbody tr th:only-of-type {\n",
       "        vertical-align: middle;\n",
       "    }\n",
       "\n",
       "    .dataframe tbody tr th {\n",
       "        vertical-align: top;\n",
       "    }\n",
       "\n",
       "    .dataframe thead th {\n",
       "        text-align: right;\n",
       "    }\n",
       "</style>\n",
       "<table border=\"1\" class=\"dataframe\">\n",
       "  <thead>\n",
       "    <tr style=\"text-align: right;\">\n",
       "      <th></th>\n",
       "      <th>Total</th>\n",
       "    </tr>\n",
       "    <tr>\n",
       "      <th>Month</th>\n",
       "      <th></th>\n",
       "    </tr>\n",
       "  </thead>\n",
       "  <tbody>\n",
       "    <tr>\n",
       "      <th>1</th>\n",
       "      <td>1821413.16</td>\n",
       "    </tr>\n",
       "    <tr>\n",
       "      <th>2</th>\n",
       "      <td>2200078.08</td>\n",
       "    </tr>\n",
       "    <tr>\n",
       "      <th>3</th>\n",
       "      <td>2804973.35</td>\n",
       "    </tr>\n",
       "    <tr>\n",
       "      <th>4</th>\n",
       "      <td>3389217.98</td>\n",
       "    </tr>\n",
       "    <tr>\n",
       "      <th>5</th>\n",
       "      <td>3150616.23</td>\n",
       "    </tr>\n",
       "    <tr>\n",
       "      <th>6</th>\n",
       "      <td>2576280.15</td>\n",
       "    </tr>\n",
       "    <tr>\n",
       "      <th>7</th>\n",
       "      <td>2646461.32</td>\n",
       "    </tr>\n",
       "    <tr>\n",
       "      <th>8</th>\n",
       "      <td>2241083.37</td>\n",
       "    </tr>\n",
       "    <tr>\n",
       "      <th>9</th>\n",
       "      <td>2094465.69</td>\n",
       "    </tr>\n",
       "    <tr>\n",
       "      <th>10</th>\n",
       "      <td>3734777.86</td>\n",
       "    </tr>\n",
       "    <tr>\n",
       "      <th>11</th>\n",
       "      <td>3197875.05</td>\n",
       "    </tr>\n",
       "    <tr>\n",
       "      <th>12</th>\n",
       "      <td>4608295.70</td>\n",
       "    </tr>\n",
       "  </tbody>\n",
       "</table>\n",
       "</div>"
      ],
      "text/plain": [
       "            Total\n",
       "Month            \n",
       "1      1821413.16\n",
       "2      2200078.08\n",
       "3      2804973.35\n",
       "4      3389217.98\n",
       "5      3150616.23\n",
       "6      2576280.15\n",
       "7      2646461.32\n",
       "8      2241083.37\n",
       "9      2094465.69\n",
       "10     3734777.86\n",
       "11     3197875.05\n",
       "12     4608295.70"
      ]
     },
     "execution_count": 281,
     "metadata": {},
     "output_type": "execute_result"
    }
   ],
   "source": [
    "totalmonth = pd.DataFrame(totalmonth)\n",
    "totalmonth"
   ]
  },
  {
   "cell_type": "code",
   "execution_count": 282,
   "id": "45714d4a",
   "metadata": {},
   "outputs": [
    {
     "data": {
      "text/plain": [
       "<AxesSubplot:xlabel='Month', ylabel='Total'>"
      ]
     },
     "execution_count": 282,
     "metadata": {},
     "output_type": "execute_result"
    },
    {
     "data": {
      "image/png": "[encoded data removed]",
      "text/plain": [
       "<Figure size 1080x720 with 1 Axes>"
      ]
     },
     "metadata": {},
     "output_type": "display_data"
    }
   ],
   "source": [
    "#Show Total Sales by Month\n",
    "sns.set(rc = {'figure.figsize':(15,10)})\n",
    "sns.lineplot(data=totalmonth, x=\"Month\", y=\"Total\")"
   ]
  },
  {
   "cell_type": "code",
   "execution_count": 283,
   "id": "47176c8b",
   "metadata": {},
   "outputs": [
    {
     "data": {
      "text/html": [
       "<div>\n",
       "<style scoped>\n",
       "    .dataframe tbody tr th:only-of-type {\n",
       "        vertical-align: middle;\n",
       "    }\n",
       "\n",
       "    .dataframe tbody tr th {\n",
       "        vertical-align: top;\n",
       "    }\n",
       "\n",
       "    .dataframe thead th {\n",
       "        text-align: right;\n",
       "    }\n",
       "</style>\n",
       "<table border=\"1\" class=\"dataframe\">\n",
       "  <thead>\n",
       "    <tr style=\"text-align: right;\">\n",
       "      <th></th>\n",
       "      <th>Total</th>\n",
       "    </tr>\n",
       "    <tr>\n",
       "      <th>Quarter</th>\n",
       "      <th></th>\n",
       "    </tr>\n",
       "  </thead>\n",
       "  <tbody>\n",
       "    <tr>\n",
       "      <th>1</th>\n",
       "      <td>6826464.59</td>\n",
       "    </tr>\n",
       "    <tr>\n",
       "      <th>2</th>\n",
       "      <td>9116114.36</td>\n",
       "    </tr>\n",
       "    <tr>\n",
       "      <th>3</th>\n",
       "      <td>6982010.38</td>\n",
       "    </tr>\n",
       "    <tr>\n",
       "      <th>4</th>\n",
       "      <td>11540948.61</td>\n",
       "    </tr>\n",
       "  </tbody>\n",
       "</table>\n",
       "</div>"
      ],
      "text/plain": [
       "               Total\n",
       "Quarter             \n",
       "1         6826464.59\n",
       "2         9116114.36\n",
       "3         6982010.38\n",
       "4        11540948.61"
      ]
     },
     "execution_count": 283,
     "metadata": {},
     "output_type": "execute_result"
    }
   ],
   "source": [
    "totalquarter = pd.DataFrame(totalquarter)  \n",
    "totalquarter"
   ]
  },
  {
   "cell_type": "code",
   "execution_count": 284,
   "id": "2ee0ba99",
   "metadata": {},
   "outputs": [
    {
     "data": {
      "text/plain": [
       "<AxesSubplot:xlabel='Quarter', ylabel='Total'>"
      ]
     },
     "execution_count": 284,
     "metadata": {},
     "output_type": "execute_result"
    },
    {
     "data": {
      "image/png": "[encoded data removed]",
      "text/plain": [
       "<Figure size 1080x720 with 1 Axes>"
      ]
     },
     "metadata": {},
     "output_type": "display_data"
    }
   ],
   "source": [
    "#Show Total Sales by Quarter\n",
    "sns.set(rc = {'figure.figsize':(15,10)})\n",
    "sns.lineplot(data=totalquarter, x=\"Quarter\", y=\"Total\")"
   ]
  },
  {
   "cell_type": "markdown",
   "id": "f547f884",
   "metadata": {},
   "source": [
    "Looking at Data Types\n",
    "===="
   ]
  },
  {
   "cell_type": "code",
   "execution_count": 285,
   "id": "8b64329c",
   "metadata": {},
   "outputs": [
    {
     "data": {
      "text/html": [
       "<div>\n",
       "<style scoped>\n",
       "    .dataframe tbody tr th:only-of-type {\n",
       "        vertical-align: middle;\n",
       "    }\n",
       "\n",
       "    .dataframe tbody tr th {\n",
       "        vertical-align: top;\n",
       "    }\n",
       "\n",
       "    .dataframe thead th {\n",
       "        text-align: right;\n",
       "    }\n",
       "</style>\n",
       "<table border=\"1\" class=\"dataframe\">\n",
       "  <thead>\n",
       "    <tr style=\"text-align: right;\">\n",
       "      <th></th>\n",
       "      <th>Quantity_Ordered</th>\n",
       "      <th>Price_Each</th>\n",
       "      <th>Quarter</th>\n",
       "      <th>Month</th>\n",
       "      <th>Total</th>\n",
       "    </tr>\n",
       "  </thead>\n",
       "  <tbody>\n",
       "    <tr>\n",
       "      <th>count</th>\n",
       "      <td>185686.000000</td>\n",
       "      <td>185686.000000</td>\n",
       "      <td>185686.000000</td>\n",
       "      <td>185686.000000</td>\n",
       "      <td>185686.000000</td>\n",
       "    </tr>\n",
       "    <tr>\n",
       "      <th>mean</th>\n",
       "      <td>1.124544</td>\n",
       "      <td>184.519255</td>\n",
       "      <td>2.681317</td>\n",
       "      <td>7.058653</td>\n",
       "      <td>185.611936</td>\n",
       "    </tr>\n",
       "    <tr>\n",
       "      <th>std</th>\n",
       "      <td>0.443069</td>\n",
       "      <td>332.843838</td>\n",
       "      <td>1.135367</td>\n",
       "      <td>3.502932</td>\n",
       "      <td>333.032118</td>\n",
       "    </tr>\n",
       "    <tr>\n",
       "      <th>min</th>\n",
       "      <td>1.000000</td>\n",
       "      <td>2.990000</td>\n",
       "      <td>1.000000</td>\n",
       "      <td>1.000000</td>\n",
       "      <td>2.990000</td>\n",
       "    </tr>\n",
       "    <tr>\n",
       "      <th>25%</th>\n",
       "      <td>1.000000</td>\n",
       "      <td>11.950000</td>\n",
       "      <td>2.000000</td>\n",
       "      <td>4.000000</td>\n",
       "      <td>11.950000</td>\n",
       "    </tr>\n",
       "    <tr>\n",
       "      <th>50%</th>\n",
       "      <td>1.000000</td>\n",
       "      <td>14.950000</td>\n",
       "      <td>3.000000</td>\n",
       "      <td>7.000000</td>\n",
       "      <td>14.950000</td>\n",
       "    </tr>\n",
       "    <tr>\n",
       "      <th>75%</th>\n",
       "      <td>1.000000</td>\n",
       "      <td>150.000000</td>\n",
       "      <td>4.000000</td>\n",
       "      <td>10.000000</td>\n",
       "      <td>150.000000</td>\n",
       "    </tr>\n",
       "    <tr>\n",
       "      <th>max</th>\n",
       "      <td>9.000000</td>\n",
       "      <td>1700.000000</td>\n",
       "      <td>4.000000</td>\n",
       "      <td>12.000000</td>\n",
       "      <td>3400.000000</td>\n",
       "    </tr>\n",
       "  </tbody>\n",
       "</table>\n",
       "</div>"
      ],
      "text/plain": [
       "       Quantity_Ordered     Price_Each        Quarter          Month  \\\n",
       "count     185686.000000  185686.000000  185686.000000  185686.000000   \n",
       "mean           1.124544     184.519255       2.681317       7.058653   \n",
       "std            0.443069     332.843838       1.135367       3.502932   \n",
       "min            1.000000       2.990000       1.000000       1.000000   \n",
       "25%            1.000000      11.950000       2.000000       4.000000   \n",
       "50%            1.000000      14.950000       3.000000       7.000000   \n",
       "75%            1.000000     150.000000       4.000000      10.000000   \n",
       "max            9.000000    1700.000000       4.000000      12.000000   \n",
       "\n",
       "               Total  \n",
       "count  185686.000000  \n",
       "mean      185.611936  \n",
       "std       333.032118  \n",
       "min         2.990000  \n",
       "25%        11.950000  \n",
       "50%        14.950000  \n",
       "75%       150.000000  \n",
       "max      3400.000000  "
      ]
     },
     "execution_count": 285,
     "metadata": {},
     "output_type": "execute_result"
    }
   ],
   "source": [
    "#quick summary stats:numeric\n",
    "df.describe()"
   ]
  },
  {
   "cell_type": "code",
   "execution_count": 286,
   "id": "0fcd5c62",
   "metadata": {},
   "outputs": [
    {
     "data": {
      "text/html": [
       "<div>\n",
       "<style scoped>\n",
       "    .dataframe tbody tr th:only-of-type {\n",
       "        vertical-align: middle;\n",
       "    }\n",
       "\n",
       "    .dataframe tbody tr th {\n",
       "        vertical-align: top;\n",
       "    }\n",
       "\n",
       "    .dataframe thead th {\n",
       "        text-align: right;\n",
       "    }\n",
       "</style>\n",
       "<table border=\"1\" class=\"dataframe\">\n",
       "  <thead>\n",
       "    <tr style=\"text-align: right;\">\n",
       "      <th></th>\n",
       "      <th>Order_ID</th>\n",
       "      <th>Product</th>\n",
       "      <th>Purchase_Address</th>\n",
       "      <th>City</th>\n",
       "      <th>State</th>\n",
       "      <th>Zip</th>\n",
       "      <th>Region</th>\n",
       "      <th>Category</th>\n",
       "    </tr>\n",
       "  </thead>\n",
       "  <tbody>\n",
       "    <tr>\n",
       "      <th>count</th>\n",
       "      <td>185686</td>\n",
       "      <td>185686</td>\n",
       "      <td>185686</td>\n",
       "      <td>185686</td>\n",
       "      <td>185686</td>\n",
       "      <td>185686</td>\n",
       "      <td>185686</td>\n",
       "      <td>185686</td>\n",
       "    </tr>\n",
       "    <tr>\n",
       "      <th>unique</th>\n",
       "      <td>178437</td>\n",
       "      <td>19</td>\n",
       "      <td>140787</td>\n",
       "      <td>9</td>\n",
       "      <td>8</td>\n",
       "      <td>10</td>\n",
       "      <td>3</td>\n",
       "      <td>7</td>\n",
       "    </tr>\n",
       "    <tr>\n",
       "      <th>top</th>\n",
       "      <td>160873</td>\n",
       "      <td>USB-C Charging Cable</td>\n",
       "      <td>193 Forest St, San Francisco, CA 94016</td>\n",
       "      <td>San Francisco</td>\n",
       "      <td>CA</td>\n",
       "      <td>94016</td>\n",
       "      <td>West</td>\n",
       "      <td>Accessories</td>\n",
       "    </tr>\n",
       "    <tr>\n",
       "      <th>freq</th>\n",
       "      <td>5</td>\n",
       "      <td>21859</td>\n",
       "      <td>9</td>\n",
       "      <td>44662</td>\n",
       "      <td>74226</td>\n",
       "      <td>44662</td>\n",
       "      <td>98937</td>\n",
       "      <td>91141</td>\n",
       "    </tr>\n",
       "  </tbody>\n",
       "</table>\n",
       "</div>"
      ],
      "text/plain": [
       "       Order_ID               Product                        Purchase_Address  \\\n",
       "count    185686                185686                                  185686   \n",
       "unique   178437                    19                                  140787   \n",
       "top      160873  USB-C Charging Cable  193 Forest St, San Francisco, CA 94016   \n",
       "freq          5                 21859                                       9   \n",
       "\n",
       "                  City   State     Zip  Region     Category  \n",
       "count           185686  185686  185686  185686       185686  \n",
       "unique               9       8      10       3            7  \n",
       "top      San Francisco      CA   94016    West  Accessories  \n",
       "freq             44662   74226   44662   98937        91141  "
      ]
     },
     "execution_count": 286,
     "metadata": {},
     "output_type": "execute_result"
    }
   ],
   "source": [
    "#quick summary stats:categorical\n",
    "df.describe(include='object')"
   ]
  },
  {
   "cell_type": "code",
   "execution_count": 287,
   "id": "fb618604",
   "metadata": {},
   "outputs": [],
   "source": [
    "#drop Column\n",
    "df.drop(['Month', 'Quarter'], axis=1, inplace=True)"
   ]
  },
  {
   "cell_type": "code",
   "execution_count": 288,
   "id": "7d4adc52",
   "metadata": {},
   "outputs": [],
   "source": [
    "#Finished Full Dataset for Use CSV\n",
    "df.to_csv('C:\\\\Users\\\\2-1\\\\Downloads\\\\Sales_Processed.csv')"
   ]
  },
  {
   "cell_type": "markdown",
   "id": "631c760c",
   "metadata": {},
   "source": [
    "Final Process Finish\n",
    "===="
   ]
  },
  {
   "cell_type": "code",
   "execution_count": 289,
   "id": "7a60c905",
   "metadata": {},
   "outputs": [],
   "source": [
    "df = pd.read_csv(r\"C:\\Users\\2-1\\Downloads\\Sales_Day_Processed.csv\")"
   ]
  },
  {
   "cell_type": "code",
   "execution_count": 290,
   "id": "efe8d30c",
   "metadata": {},
   "outputs": [
    {
     "data": {
      "text/html": [
       "<div>\n",
       "<style scoped>\n",
       "    .dataframe tbody tr th:only-of-type {\n",
       "        vertical-align: middle;\n",
       "    }\n",
       "\n",
       "    .dataframe tbody tr th {\n",
       "        vertical-align: top;\n",
       "    }\n",
       "\n",
       "    .dataframe thead th {\n",
       "        text-align: right;\n",
       "    }\n",
       "</style>\n",
       "<table border=\"1\" class=\"dataframe\">\n",
       "  <thead>\n",
       "    <tr style=\"text-align: right;\">\n",
       "      <th></th>\n",
       "      <th>Order_Day</th>\n",
       "      <th>Region</th>\n",
       "      <th>Category</th>\n",
       "      <th>Total</th>\n",
       "    </tr>\n",
       "  </thead>\n",
       "  <tbody>\n",
       "    <tr>\n",
       "      <th>0</th>\n",
       "      <td>2019-01-01</td>\n",
       "      <td>Northeast</td>\n",
       "      <td>Accessories</td>\n",
       "      <td>1829.92</td>\n",
       "    </tr>\n",
       "    <tr>\n",
       "      <th>1</th>\n",
       "      <td>2019-01-01</td>\n",
       "      <td>Northeast</td>\n",
       "      <td>Appliance</td>\n",
       "      <td>600.00</td>\n",
       "    </tr>\n",
       "    <tr>\n",
       "      <th>2</th>\n",
       "      <td>2019-01-01</td>\n",
       "      <td>Northeast</td>\n",
       "      <td>Batteries</td>\n",
       "      <td>80.67</td>\n",
       "    </tr>\n",
       "    <tr>\n",
       "      <th>3</th>\n",
       "      <td>2019-01-01</td>\n",
       "      <td>Northeast</td>\n",
       "      <td>Laptop</td>\n",
       "      <td>5100.00</td>\n",
       "    </tr>\n",
       "    <tr>\n",
       "      <th>4</th>\n",
       "      <td>2019-01-01</td>\n",
       "      <td>Northeast</td>\n",
       "      <td>Monitor</td>\n",
       "      <td>2699.91</td>\n",
       "    </tr>\n",
       "  </tbody>\n",
       "</table>\n",
       "</div>"
      ],
      "text/plain": [
       "    Order_Day     Region     Category    Total\n",
       "0  2019-01-01  Northeast  Accessories  1829.92\n",
       "1  2019-01-01  Northeast    Appliance   600.00\n",
       "2  2019-01-01  Northeast    Batteries    80.67\n",
       "3  2019-01-01  Northeast       Laptop  5100.00\n",
       "4  2019-01-01  Northeast      Monitor  2699.91"
      ]
     },
     "execution_count": 290,
     "metadata": {},
     "output_type": "execute_result"
    }
   ],
   "source": [
    "df.head()"
   ]
  },
  {
   "cell_type": "code",
   "execution_count": 291,
   "id": "aa0616cb",
   "metadata": {},
   "outputs": [
    {
     "data": {
      "text/html": [
       "<div>\n",
       "<style scoped>\n",
       "    .dataframe tbody tr th:only-of-type {\n",
       "        vertical-align: middle;\n",
       "    }\n",
       "\n",
       "    .dataframe tbody tr th {\n",
       "        vertical-align: top;\n",
       "    }\n",
       "\n",
       "    .dataframe thead th {\n",
       "        text-align: right;\n",
       "    }\n",
       "</style>\n",
       "<table border=\"1\" class=\"dataframe\">\n",
       "  <thead>\n",
       "    <tr style=\"text-align: right;\">\n",
       "      <th></th>\n",
       "      <th>count</th>\n",
       "      <th>mean</th>\n",
       "      <th>std</th>\n",
       "      <th>min</th>\n",
       "      <th>25%</th>\n",
       "      <th>50%</th>\n",
       "      <th>75%</th>\n",
       "      <th>max</th>\n",
       "    </tr>\n",
       "  </thead>\n",
       "  <tbody>\n",
       "    <tr>\n",
       "      <th>Total</th>\n",
       "      <td>7261.0</td>\n",
       "      <td>4746.665465</td>\n",
       "      <td>5225.553913</td>\n",
       "      <td>5.98</td>\n",
       "      <td>900.0</td>\n",
       "      <td>3019.88</td>\n",
       "      <td>6850.41</td>\n",
       "      <td>38599.92</td>\n",
       "    </tr>\n",
       "  </tbody>\n",
       "</table>\n",
       "</div>"
      ],
      "text/plain": [
       "        count         mean          std   min    25%      50%      75%  \\\n",
       "Total  7261.0  4746.665465  5225.553913  5.98  900.0  3019.88  6850.41   \n",
       "\n",
       "            max  \n",
       "Total  38599.92  "
      ]
     },
     "execution_count": 291,
     "metadata": {},
     "output_type": "execute_result"
    }
   ],
   "source": [
    "#quick summary stats:numeric\n",
    "df.describe().T"
   ]
  },
  {
   "cell_type": "code",
   "execution_count": 292,
   "id": "2226dc08",
   "metadata": {},
   "outputs": [
    {
     "data": {
      "text/html": [
       "<div>\n",
       "<style scoped>\n",
       "    .dataframe tbody tr th:only-of-type {\n",
       "        vertical-align: middle;\n",
       "    }\n",
       "\n",
       "    .dataframe tbody tr th {\n",
       "        vertical-align: top;\n",
       "    }\n",
       "\n",
       "    .dataframe thead th {\n",
       "        text-align: right;\n",
       "    }\n",
       "</style>\n",
       "<table border=\"1\" class=\"dataframe\">\n",
       "  <thead>\n",
       "    <tr style=\"text-align: right;\">\n",
       "      <th></th>\n",
       "      <th>Order_Day</th>\n",
       "      <th>Region</th>\n",
       "      <th>Category</th>\n",
       "    </tr>\n",
       "  </thead>\n",
       "  <tbody>\n",
       "    <tr>\n",
       "      <th>count</th>\n",
       "      <td>7261</td>\n",
       "      <td>7261</td>\n",
       "      <td>7261</td>\n",
       "    </tr>\n",
       "    <tr>\n",
       "      <th>unique</th>\n",
       "      <td>366</td>\n",
       "      <td>3</td>\n",
       "      <td>7</td>\n",
       "    </tr>\n",
       "    <tr>\n",
       "      <th>top</th>\n",
       "      <td>2019-06-17</td>\n",
       "      <td>West</td>\n",
       "      <td>Accessories</td>\n",
       "    </tr>\n",
       "    <tr>\n",
       "      <th>freq</th>\n",
       "      <td>21</td>\n",
       "      <td>2502</td>\n",
       "      <td>1098</td>\n",
       "    </tr>\n",
       "  </tbody>\n",
       "</table>\n",
       "</div>"
      ],
      "text/plain": [
       "         Order_Day Region     Category\n",
       "count         7261   7261         7261\n",
       "unique         366      3            7\n",
       "top     2019-06-17   West  Accessories\n",
       "freq            21   2502         1098"
      ]
     },
     "execution_count": 292,
     "metadata": {},
     "output_type": "execute_result"
    }
   ],
   "source": [
    "#quick summary stats:categorical\n",
    "df.describe(include='object')"
   ]
  },
  {
   "cell_type": "code",
   "execution_count": 293,
   "id": "091c2930",
   "metadata": {},
   "outputs": [],
   "source": [
    "#Drop Day\n",
    "df.drop(['Order_Day'], axis=1, inplace=True)"
   ]
  },
  {
   "cell_type": "code",
   "execution_count": 294,
   "id": "b9534636",
   "metadata": {},
   "outputs": [],
   "source": [
    "#reset index\n",
    "df = df.reset_index()\n",
    "df.drop(['index'], axis=1, inplace=True)"
   ]
  },
  {
   "cell_type": "code",
   "execution_count": 295,
   "id": "84561ac7",
   "metadata": {},
   "outputs": [
    {
     "data": {
      "text/html": [
       "<div>\n",
       "<style scoped>\n",
       "    .dataframe tbody tr th:only-of-type {\n",
       "        vertical-align: middle;\n",
       "    }\n",
       "\n",
       "    .dataframe tbody tr th {\n",
       "        vertical-align: top;\n",
       "    }\n",
       "\n",
       "    .dataframe thead th {\n",
       "        text-align: right;\n",
       "    }\n",
       "</style>\n",
       "<table border=\"1\" class=\"dataframe\">\n",
       "  <thead>\n",
       "    <tr style=\"text-align: right;\">\n",
       "      <th></th>\n",
       "      <th>Unique Values</th>\n",
       "    </tr>\n",
       "    <tr>\n",
       "      <th>Variable</th>\n",
       "      <th></th>\n",
       "    </tr>\n",
       "  </thead>\n",
       "  <tbody>\n",
       "    <tr>\n",
       "      <th>Region</th>\n",
       "      <td>3</td>\n",
       "    </tr>\n",
       "    <tr>\n",
       "      <th>Category</th>\n",
       "      <td>7</td>\n",
       "    </tr>\n",
       "    <tr>\n",
       "      <th>Total</th>\n",
       "      <td>3183</td>\n",
       "    </tr>\n",
       "  </tbody>\n",
       "</table>\n",
       "</div>"
      ],
      "text/plain": [
       "          Unique Values\n",
       "Variable               \n",
       "Region                3\n",
       "Category              7\n",
       "Total              3183"
      ]
     },
     "execution_count": 295,
     "metadata": {},
     "output_type": "execute_result"
    }
   ],
   "source": [
    "### Look at Unique Variables\n",
    "df_uniques = pd.DataFrame([[i, len(df[i].unique())] for i in df.columns], columns=['Variable', 'Unique Values']).set_index('Variable')\n",
    "df_uniques"
   ]
  },
  {
   "cell_type": "code",
   "execution_count": 296,
   "id": "161b9bd0",
   "metadata": {},
   "outputs": [
    {
     "data": {
      "text/plain": [
       "[]"
      ]
     },
     "execution_count": 296,
     "metadata": {},
     "output_type": "execute_result"
    }
   ],
   "source": [
    "#look at binary variables\n",
    "binary_variables = list(df_uniques[df_uniques['Unique Values'].between(1, 2, inclusive = 'both')].index)\n",
    "binary_variables"
   ]
  },
  {
   "cell_type": "code",
   "execution_count": 297,
   "id": "e9ceeb60",
   "metadata": {},
   "outputs": [
    {
     "data": {
      "text/plain": [
       "['Region', 'Category']"
      ]
     },
     "execution_count": 297,
     "metadata": {},
     "output_type": "execute_result"
    }
   ],
   "source": [
    "#look at multi-nominal\n",
    "categorical_variables = list(df_uniques[(10 >= df_uniques['Unique Values']) & (df_uniques['Unique Values'] > 2)].index)\n",
    "categorical_variables"
   ]
  },
  {
   "cell_type": "code",
   "execution_count": 298,
   "id": "68ac08c6",
   "metadata": {},
   "outputs": [
    {
     "data": {
      "text/plain": [
       "[['Region', ['Northeast', 'South', 'West']],\n",
       " ['Category',\n",
       "  ['Accessories',\n",
       "   'Appliance',\n",
       "   'Batteries',\n",
       "   'Laptop',\n",
       "   'Monitor',\n",
       "   'Phone',\n",
       "   'TV']]]"
      ]
     },
     "execution_count": 298,
     "metadata": {},
     "output_type": "execute_result"
    }
   ],
   "source": [
    "#look for ordinal/nominal in each categorical\n",
    "[[i, list(df[i].unique())] for i in categorical_variables]"
   ]
  },
  {
   "cell_type": "code",
   "execution_count": 299,
   "id": "1ea6b00f",
   "metadata": {},
   "outputs": [],
   "source": [
    "#specify ordinal\n",
    "ordinal_variables = []"
   ]
  },
  {
   "cell_type": "code",
   "execution_count": 300,
   "id": "9acff8ba",
   "metadata": {},
   "outputs": [],
   "source": [
    "#specify numeric\n",
    "numeric_variables = list(set(df.columns) - set(ordinal_variables) - set(categorical_variables) - set(binary_variables))"
   ]
  },
  {
   "cell_type": "markdown",
   "id": "976cc06e",
   "metadata": {},
   "source": [
    "Data Visualization\n",
    "==="
   ]
  },
  {
   "cell_type": "code",
   "execution_count": 301,
   "id": "85d7dd76",
   "metadata": {},
   "outputs": [
    {
     "data": {
      "text/plain": [
       "array([[<AxesSubplot:title={'center':'Total'}>]], dtype=object)"
      ]
     },
     "execution_count": 301,
     "metadata": {},
     "output_type": "execute_result"
    },
    {
     "data": {
      "image/png": "[encoded data removed]",
      "text/plain": [
       "<Figure size 864x432 with 1 Axes>"
      ]
     },
     "metadata": {},
     "output_type": "display_data"
    }
   ],
   "source": [
    "#histogram of numeric values\n",
    "df[numeric_variables].hist(figsize=(12, 6))"
   ]
  },
  {
   "cell_type": "markdown",
   "id": "86d0a297",
   "metadata": {},
   "source": [
    "Check Normal Distribution on Features/Target (Skew)\n",
    "===="
   ]
  },
  {
   "cell_type": "code",
   "execution_count": 302,
   "id": "65bf363d",
   "metadata": {},
   "outputs": [
    {
     "data": {
      "text/plain": [
       "Index(['Total'], dtype='object')"
      ]
     },
     "execution_count": 302,
     "metadata": {},
     "output_type": "execute_result"
    }
   ],
   "source": [
    "#looking at which columns are numbers\n",
    "df.select_dtypes('number').columns"
   ]
  },
  {
   "cell_type": "code",
   "execution_count": 303,
   "id": "e6858fb7",
   "metadata": {},
   "outputs": [],
   "source": [
    "# Create a list of float colums to check for skewing\n",
    "mask = df.dtypes == float\n",
    "float_cols = df.columns[mask]\n",
    "\n",
    "skew_limit = 0.75 # define a limit above which we will log transform\n",
    "skew_vals = df[float_cols].skew()"
   ]
  },
  {
   "cell_type": "code",
   "execution_count": 304,
   "id": "3be08a54",
   "metadata": {},
   "outputs": [
    {
     "data": {
      "text/html": [
       "<div>\n",
       "<style scoped>\n",
       "    .dataframe tbody tr th:only-of-type {\n",
       "        vertical-align: middle;\n",
       "    }\n",
       "\n",
       "    .dataframe tbody tr th {\n",
       "        vertical-align: top;\n",
       "    }\n",
       "\n",
       "    .dataframe thead th {\n",
       "        text-align: right;\n",
       "    }\n",
       "</style>\n",
       "<table border=\"1\" class=\"dataframe\">\n",
       "  <thead>\n",
       "    <tr style=\"text-align: right;\">\n",
       "      <th></th>\n",
       "      <th>Skew</th>\n",
       "    </tr>\n",
       "  </thead>\n",
       "  <tbody>\n",
       "    <tr>\n",
       "      <th>Total</th>\n",
       "      <td>1.903055</td>\n",
       "    </tr>\n",
       "  </tbody>\n",
       "</table>\n",
       "</div>"
      ],
      "text/plain": [
       "           Skew\n",
       "Total  1.903055"
      ]
     },
     "execution_count": 304,
     "metadata": {},
     "output_type": "execute_result"
    }
   ],
   "source": [
    "# Showing the skewed columns\n",
    "skew_cols = (skew_vals\n",
    "             .sort_values(ascending=False)\n",
    "             .to_frame()\n",
    "             .rename(columns={0:'Skew'})\n",
    "             .query('abs(Skew) > {}'.format(skew_limit)))\n",
    "\n",
    "skew_cols"
   ]
  },
  {
   "cell_type": "code",
   "execution_count": 305,
   "id": "66a32d25",
   "metadata": {},
   "outputs": [],
   "source": [
    "# Create a list of int colums to check for skewing\n",
    "mask2 = df.dtypes == int\n",
    "int_cols = df.columns[mask2]\n",
    "\n",
    "skew_limit = 0.75 # define a limit above which we will skew transform\n",
    "skew_vals2 = df[int_cols].skew()"
   ]
  },
  {
   "cell_type": "code",
   "execution_count": 306,
   "id": "b9860349",
   "metadata": {},
   "outputs": [
    {
     "data": {
      "text/html": [
       "<div>\n",
       "<style scoped>\n",
       "    .dataframe tbody tr th:only-of-type {\n",
       "        vertical-align: middle;\n",
       "    }\n",
       "\n",
       "    .dataframe tbody tr th {\n",
       "        vertical-align: top;\n",
       "    }\n",
       "\n",
       "    .dataframe thead th {\n",
       "        text-align: right;\n",
       "    }\n",
       "</style>\n",
       "<table border=\"1\" class=\"dataframe\">\n",
       "  <thead>\n",
       "    <tr style=\"text-align: right;\">\n",
       "      <th></th>\n",
       "      <th>Skew</th>\n",
       "    </tr>\n",
       "  </thead>\n",
       "  <tbody>\n",
       "  </tbody>\n",
       "</table>\n",
       "</div>"
      ],
      "text/plain": [
       "Empty DataFrame\n",
       "Columns: [Skew]\n",
       "Index: []"
      ]
     },
     "execution_count": 306,
     "metadata": {},
     "output_type": "execute_result"
    }
   ],
   "source": [
    "# Showing the skewed columns\n",
    "skew_cols = (skew_vals2\n",
    "             .sort_values(ascending=False)\n",
    "             .to_frame()\n",
    "             .rename(columns={0:'Skew'})\n",
    "             .query('abs(Skew) > {}'.format(skew_limit)))\n",
    "\n",
    "skew_cols"
   ]
  },
  {
   "cell_type": "markdown",
   "id": "1504f51a",
   "metadata": {},
   "source": [
    "Transformation of Target\n",
    "===="
   ]
  },
  {
   "cell_type": "code",
   "execution_count": 307,
   "id": "f454ad8e",
   "metadata": {},
   "outputs": [],
   "source": [
    "from scipy.stats import boxcox\n",
    "bc_result = boxcox(df.Total)\n",
    "df['Total'] = bc_result[0]"
   ]
  },
  {
   "cell_type": "code",
   "execution_count": 308,
   "id": "36364da7",
   "metadata": {},
   "outputs": [
    {
     "data": {
      "text/plain": [
       "-0.09468062393103377"
      ]
     },
     "execution_count": 308,
     "metadata": {},
     "output_type": "execute_result"
    }
   ],
   "source": [
    "#Check Skew\n",
    "df['Total'].skew()"
   ]
  },
  {
   "cell_type": "markdown",
   "id": "3534663d",
   "metadata": {},
   "source": [
    "Check Normal Distribution After Transformation\n",
    "===="
   ]
  },
  {
   "cell_type": "code",
   "execution_count": 309,
   "id": "f3d3aa1c",
   "metadata": {},
   "outputs": [
    {
     "name": "stdout",
     "output_type": "stream",
     "text": [
      "Sample does not look Gaussian (reject H0)\n"
     ]
    }
   ],
   "source": [
    "#Check Normal Distribution\n",
    "z,pval = normaltest(df.Total)\n",
    "\n",
    "alpha = 0.05\n",
    "if p > alpha:\n",
    "    print('Sample looks Gaussian (fail to reject H0)')\n",
    "else:\n",
    "    print('Sample does not look Gaussian (reject H0)')"
   ]
  },
  {
   "cell_type": "code",
   "execution_count": 310,
   "id": "3fbd6a6d",
   "metadata": {},
   "outputs": [
    {
     "data": {
      "text/plain": [
       "<AxesSubplot:>"
      ]
     },
     "execution_count": 310,
     "metadata": {},
     "output_type": "execute_result"
    },
    {
     "data": {
      "image/png": "[encoded data removed]",
      "text/plain": [
       "<Figure size 1080x720 with 1 Axes>"
      ]
     },
     "metadata": {},
     "output_type": "display_data"
    }
   ],
   "source": [
    "#histogram of numeric values\n",
    "df['Total'].hist()"
   ]
  },
  {
   "cell_type": "code",
   "execution_count": 311,
   "id": "e00eca02",
   "metadata": {},
   "outputs": [],
   "source": [
    "#Transformed data with transformation for SAS use to double check work.\n",
    "df.to_csv('C:\\\\Users\\\\2-1\\\\Downloads\\\\Sales_Day_T_Processed.csv')"
   ]
  },
  {
   "cell_type": "markdown",
   "id": "cd7254b4",
   "metadata": {},
   "source": [
    "Statistics ANOVA\n",
    "===="
   ]
  },
  {
   "cell_type": "code",
   "execution_count": 312,
   "id": "057642a1",
   "metadata": {},
   "outputs": [],
   "source": [
    "df = pd.read_csv(r\"C:\\Users\\2-1\\Downloads\\Sales_Day_T_Processed.csv\", header=0)"
   ]
  },
  {
   "cell_type": "code",
   "execution_count": 313,
   "id": "893afabc",
   "metadata": {},
   "outputs": [
    {
     "data": {
      "text/html": [
       "<div>\n",
       "<style scoped>\n",
       "    .dataframe tbody tr th:only-of-type {\n",
       "        vertical-align: middle;\n",
       "    }\n",
       "\n",
       "    .dataframe tbody tr th {\n",
       "        vertical-align: top;\n",
       "    }\n",
       "\n",
       "    .dataframe thead th {\n",
       "        text-align: right;\n",
       "    }\n",
       "</style>\n",
       "<table border=\"1\" class=\"dataframe\">\n",
       "  <thead>\n",
       "    <tr style=\"text-align: right;\">\n",
       "      <th></th>\n",
       "      <th>Unnamed: 0</th>\n",
       "      <th>Region</th>\n",
       "      <th>Category</th>\n",
       "      <th>Total</th>\n",
       "    </tr>\n",
       "  </thead>\n",
       "  <tbody>\n",
       "    <tr>\n",
       "      <th>0</th>\n",
       "      <td>0</td>\n",
       "      <td>Northeast</td>\n",
       "      <td>Accessories</td>\n",
       "      <td>18.998580</td>\n",
       "    </tr>\n",
       "    <tr>\n",
       "      <th>1</th>\n",
       "      <td>1</td>\n",
       "      <td>Northeast</td>\n",
       "      <td>Appliance</td>\n",
       "      <td>13.909787</td>\n",
       "    </tr>\n",
       "    <tr>\n",
       "      <th>2</th>\n",
       "      <td>2</td>\n",
       "      <td>Northeast</td>\n",
       "      <td>Batteries</td>\n",
       "      <td>7.357234</td>\n",
       "    </tr>\n",
       "    <tr>\n",
       "      <th>3</th>\n",
       "      <td>3</td>\n",
       "      <td>Northeast</td>\n",
       "      <td>Laptop</td>\n",
       "      <td>24.902277</td>\n",
       "    </tr>\n",
       "    <tr>\n",
       "      <th>4</th>\n",
       "      <td>4</td>\n",
       "      <td>Northeast</td>\n",
       "      <td>Monitor</td>\n",
       "      <td>21.085142</td>\n",
       "    </tr>\n",
       "  </tbody>\n",
       "</table>\n",
       "</div>"
      ],
      "text/plain": [
       "   Unnamed: 0     Region     Category      Total\n",
       "0           0  Northeast  Accessories  18.998580\n",
       "1           1  Northeast    Appliance  13.909787\n",
       "2           2  Northeast    Batteries   7.357234\n",
       "3           3  Northeast       Laptop  24.902277\n",
       "4           4  Northeast      Monitor  21.085142"
      ]
     },
     "execution_count": 313,
     "metadata": {},
     "output_type": "execute_result"
    }
   ],
   "source": [
    "df.head()"
   ]
  },
  {
   "cell_type": "code",
   "execution_count": 314,
   "id": "24d98f0d",
   "metadata": {},
   "outputs": [],
   "source": [
    "df.drop(['Unnamed: 0'], axis=1, inplace=True)"
   ]
  },
  {
   "cell_type": "code",
   "execution_count": 315,
   "id": "8010d35b",
   "metadata": {},
   "outputs": [
    {
     "data": {
      "text/html": [
       "<div>\n",
       "<style scoped>\n",
       "    .dataframe tbody tr th:only-of-type {\n",
       "        vertical-align: middle;\n",
       "    }\n",
       "\n",
       "    .dataframe tbody tr th {\n",
       "        vertical-align: top;\n",
       "    }\n",
       "\n",
       "    .dataframe thead th {\n",
       "        text-align: right;\n",
       "    }\n",
       "</style>\n",
       "<table border=\"1\" class=\"dataframe\">\n",
       "  <thead>\n",
       "    <tr style=\"text-align: right;\">\n",
       "      <th></th>\n",
       "      <th>Region</th>\n",
       "      <th>Category</th>\n",
       "      <th>Total</th>\n",
       "    </tr>\n",
       "  </thead>\n",
       "  <tbody>\n",
       "    <tr>\n",
       "      <th>0</th>\n",
       "      <td>Northeast</td>\n",
       "      <td>Accessories</td>\n",
       "      <td>18.998580</td>\n",
       "    </tr>\n",
       "    <tr>\n",
       "      <th>1</th>\n",
       "      <td>Northeast</td>\n",
       "      <td>Appliance</td>\n",
       "      <td>13.909787</td>\n",
       "    </tr>\n",
       "    <tr>\n",
       "      <th>2</th>\n",
       "      <td>Northeast</td>\n",
       "      <td>Batteries</td>\n",
       "      <td>7.357234</td>\n",
       "    </tr>\n",
       "    <tr>\n",
       "      <th>3</th>\n",
       "      <td>Northeast</td>\n",
       "      <td>Laptop</td>\n",
       "      <td>24.902277</td>\n",
       "    </tr>\n",
       "    <tr>\n",
       "      <th>4</th>\n",
       "      <td>Northeast</td>\n",
       "      <td>Monitor</td>\n",
       "      <td>21.085142</td>\n",
       "    </tr>\n",
       "  </tbody>\n",
       "</table>\n",
       "</div>"
      ],
      "text/plain": [
       "      Region     Category      Total\n",
       "0  Northeast  Accessories  18.998580\n",
       "1  Northeast    Appliance  13.909787\n",
       "2  Northeast    Batteries   7.357234\n",
       "3  Northeast       Laptop  24.902277\n",
       "4  Northeast      Monitor  21.085142"
      ]
     },
     "execution_count": 315,
     "metadata": {},
     "output_type": "execute_result"
    }
   ],
   "source": [
    "df.head()"
   ]
  },
  {
   "cell_type": "code",
   "execution_count": 316,
   "id": "f53990ab",
   "metadata": {},
   "outputs": [
    {
     "data": {
      "text/html": [
       "<div>\n",
       "<style scoped>\n",
       "    .dataframe tbody tr th:only-of-type {\n",
       "        vertical-align: middle;\n",
       "    }\n",
       "\n",
       "    .dataframe tbody tr th {\n",
       "        vertical-align: top;\n",
       "    }\n",
       "\n",
       "    .dataframe thead th {\n",
       "        text-align: right;\n",
       "    }\n",
       "</style>\n",
       "<table border=\"1\" class=\"dataframe\">\n",
       "  <thead>\n",
       "    <tr style=\"text-align: right;\">\n",
       "      <th></th>\n",
       "      <th>df</th>\n",
       "      <th>sum_sq</th>\n",
       "      <th>mean_sq</th>\n",
       "      <th>F</th>\n",
       "      <th>PR(&gt;F)</th>\n",
       "    </tr>\n",
       "  </thead>\n",
       "  <tbody>\n",
       "    <tr>\n",
       "      <th>C(Category)</th>\n",
       "      <td>6.0</td>\n",
       "      <td>323071.301139</td>\n",
       "      <td>53845.216856</td>\n",
       "      <td>8326.270824</td>\n",
       "      <td>0.000000e+00</td>\n",
       "    </tr>\n",
       "    <tr>\n",
       "      <th>C(Region)</th>\n",
       "      <td>2.0</td>\n",
       "      <td>35855.645555</td>\n",
       "      <td>17927.822777</td>\n",
       "      <td>2772.240813</td>\n",
       "      <td>0.000000e+00</td>\n",
       "    </tr>\n",
       "    <tr>\n",
       "      <th>C(Category):C(Region)</th>\n",
       "      <td>12.0</td>\n",
       "      <td>4403.958976</td>\n",
       "      <td>366.996581</td>\n",
       "      <td>56.749942</td>\n",
       "      <td>1.160105e-131</td>\n",
       "    </tr>\n",
       "    <tr>\n",
       "      <th>Residual</th>\n",
       "      <td>7240.0</td>\n",
       "      <td>46820.404749</td>\n",
       "      <td>6.466907</td>\n",
       "      <td>NaN</td>\n",
       "      <td>NaN</td>\n",
       "    </tr>\n",
       "  </tbody>\n",
       "</table>\n",
       "</div>"
      ],
      "text/plain": [
       "                           df         sum_sq       mean_sq            F  \\\n",
       "C(Category)               6.0  323071.301139  53845.216856  8326.270824   \n",
       "C(Region)                 2.0   35855.645555  17927.822777  2772.240813   \n",
       "C(Category):C(Region)    12.0    4403.958976    366.996581    56.749942   \n",
       "Residual               7240.0   46820.404749      6.466907          NaN   \n",
       "\n",
       "                              PR(>F)  \n",
       "C(Category)             0.000000e+00  \n",
       "C(Region)               0.000000e+00  \n",
       "C(Category):C(Region)  1.160105e-131  \n",
       "Residual                         NaN  "
      ]
     },
     "execution_count": 316,
     "metadata": {},
     "output_type": "execute_result"
    }
   ],
   "source": [
    "#Statistics ANOVA\n",
    "import statsmodels.api as sm\n",
    "from statsmodels.formula.api import ols\n",
    "\n",
    "product_lm = ols('Total ~ C(Category) + C(Region) + C(Category)*C(Region)', data=df).fit()\n",
    "\n",
    "table = sm.stats.anova_lm(product_lm, typ=1) # N-Way Anova\n",
    "summary1 = product_lm.summary()\n",
    "summary2 = product_lm.summary2()\n",
    "table"
   ]
  },
  {
   "cell_type": "code",
   "execution_count": 317,
   "id": "c4d84bf3",
   "metadata": {},
   "outputs": [
    {
     "data": {
      "text/html": [
       "<table class=\"simpletable\">\n",
       "<caption>OLS Regression Results</caption>\n",
       "<tr>\n",
       "  <th>Dep. Variable:</th>          <td>Total</td>      <th>  R-squared:         </th> <td>   0.886</td> \n",
       "</tr>\n",
       "<tr>\n",
       "  <th>Model:</th>                   <td>OLS</td>       <th>  Adj. R-squared:    </th> <td>   0.886</td> \n",
       "</tr>\n",
       "<tr>\n",
       "  <th>Method:</th>             <td>Least Squares</td>  <th>  F-statistic:       </th> <td>   2809.</td> \n",
       "</tr>\n",
       "<tr>\n",
       "  <th>Date:</th>             <td>Tue, 19 Apr 2022</td> <th>  Prob (F-statistic):</th>  <td>  0.00</td>  \n",
       "</tr>\n",
       "<tr>\n",
       "  <th>Time:</th>                 <td>19:04:38</td>     <th>  Log-Likelihood:    </th> <td> -17069.</td> \n",
       "</tr>\n",
       "<tr>\n",
       "  <th>No. Observations:</th>      <td>  7261</td>      <th>  AIC:               </th> <td>3.418e+04</td>\n",
       "</tr>\n",
       "<tr>\n",
       "  <th>Df Residuals:</th>          <td>  7240</td>      <th>  BIC:               </th> <td>3.433e+04</td>\n",
       "</tr>\n",
       "<tr>\n",
       "  <th>Df Model:</th>              <td>    20</td>      <th>                     </th>     <td> </td>    \n",
       "</tr>\n",
       "<tr>\n",
       "  <th>Covariance Type:</th>      <td>nonrobust</td>    <th>                     </th>     <td> </td>    \n",
       "</tr>\n",
       "</table>\n",
       "<table class=\"simpletable\">\n",
       "<tr>\n",
       "                       <td></td>                          <th>coef</th>     <th>std err</th>      <th>t</th>      <th>P>|t|</th>  <th>[0.025</th>    <th>0.975]</th>  \n",
       "</tr>\n",
       "<tr>\n",
       "  <th>Intercept</th>                                   <td>   21.7367</td> <td>    0.133</td> <td>  163.526</td> <td> 0.000</td> <td>   21.476</td> <td>   21.997</td>\n",
       "</tr>\n",
       "<tr>\n",
       "  <th>C(Category)[T.Appliance]</th>                    <td>   -6.5962</td> <td>    0.219</td> <td>  -30.187</td> <td> 0.000</td> <td>   -7.025</td> <td>   -6.168</td>\n",
       "</tr>\n",
       "<tr>\n",
       "  <th>C(Category)[T.Batteries]</th>                    <td>  -13.0191</td> <td>    0.188</td> <td>  -69.256</td> <td> 0.000</td> <td>  -13.388</td> <td>  -12.651</td>\n",
       "</tr>\n",
       "<tr>\n",
       "  <th>C(Category)[T.Laptop]</th>                       <td>    5.9003</td> <td>    0.188</td> <td>   31.366</td> <td> 0.000</td> <td>    5.532</td> <td>    6.269</td>\n",
       "</tr>\n",
       "<tr>\n",
       "  <th>C(Category)[T.Monitor]</th>                      <td>    2.0188</td> <td>    0.188</td> <td>   10.732</td> <td> 0.000</td> <td>    1.650</td> <td>    2.388</td>\n",
       "</tr>\n",
       "<tr>\n",
       "  <th>C(Category)[T.Phone]</th>                        <td>    3.9558</td> <td>    0.188</td> <td>   21.043</td> <td> 0.000</td> <td>    3.587</td> <td>    4.324</td>\n",
       "</tr>\n",
       "<tr>\n",
       "  <th>C(Category)[T.TV]</th>                           <td>   -5.8119</td> <td>    0.191</td> <td>  -30.480</td> <td> 0.000</td> <td>   -6.186</td> <td>   -5.438</td>\n",
       "</tr>\n",
       "<tr>\n",
       "  <th>C(Region)[T.South]</th>                          <td>   -0.9983</td> <td>    0.188</td> <td>   -5.311</td> <td> 0.000</td> <td>   -1.367</td> <td>   -0.630</td>\n",
       "</tr>\n",
       "<tr>\n",
       "  <th>C(Region)[T.West]</th>                           <td>    4.6975</td> <td>    0.188</td> <td>   24.989</td> <td> 0.000</td> <td>    4.329</td> <td>    5.066</td>\n",
       "</tr>\n",
       "<tr>\n",
       "  <th>C(Category)[T.Appliance]:C(Region)[T.South]</th> <td>    0.9686</td> <td>    0.313</td> <td>    3.098</td> <td> 0.002</td> <td>    0.356</td> <td>    1.582</td>\n",
       "</tr>\n",
       "<tr>\n",
       "  <th>C(Category)[T.Batteries]:C(Region)[T.South]</th> <td>    0.4615</td> <td>    0.266</td> <td>    1.736</td> <td> 0.083</td> <td>   -0.060</td> <td>    0.983</td>\n",
       "</tr>\n",
       "<tr>\n",
       "  <th>C(Category)[T.Laptop]:C(Region)[T.South]</th>    <td>   -0.2300</td> <td>    0.266</td> <td>   -0.864</td> <td> 0.388</td> <td>   -0.752</td> <td>    0.292</td>\n",
       "</tr>\n",
       "<tr>\n",
       "  <th>C(Category)[T.Monitor]:C(Region)[T.South]</th>   <td>   -0.3156</td> <td>    0.266</td> <td>   -1.187</td> <td> 0.235</td> <td>   -0.837</td> <td>    0.206</td>\n",
       "</tr>\n",
       "<tr>\n",
       "  <th>C(Category)[T.Phone]:C(Region)[T.South]</th>     <td>   -0.1855</td> <td>    0.266</td> <td>   -0.698</td> <td> 0.485</td> <td>   -0.707</td> <td>    0.336</td>\n",
       "</tr>\n",
       "<tr>\n",
       "  <th>C(Category)[T.TV]:C(Region)[T.South]</th>        <td>    0.2311</td> <td>    0.270</td> <td>    0.857</td> <td> 0.392</td> <td>   -0.298</td> <td>    0.760</td>\n",
       "</tr>\n",
       "<tr>\n",
       "  <th>C(Category)[T.Appliance]:C(Region)[T.West]</th>  <td>   -2.7628</td> <td>    0.294</td> <td>   -9.398</td> <td> 0.000</td> <td>   -3.339</td> <td>   -2.187</td>\n",
       "</tr>\n",
       "<tr>\n",
       "  <th>C(Category)[T.Batteries]:C(Region)[T.West]</th>  <td>   -2.3619</td> <td>    0.266</td> <td>   -8.884</td> <td> 0.000</td> <td>   -2.883</td> <td>   -1.841</td>\n",
       "</tr>\n",
       "<tr>\n",
       "  <th>C(Category)[T.Laptop]:C(Region)[T.West]</th>     <td>    1.1887</td> <td>    0.266</td> <td>    4.468</td> <td> 0.000</td> <td>    0.667</td> <td>    1.710</td>\n",
       "</tr>\n",
       "<tr>\n",
       "  <th>C(Category)[T.Monitor]:C(Region)[T.West]</th>    <td>    0.2616</td> <td>    0.266</td> <td>    0.984</td> <td> 0.325</td> <td>   -0.260</td> <td>    0.783</td>\n",
       "</tr>\n",
       "<tr>\n",
       "  <th>C(Category)[T.Phone]:C(Region)[T.West]</th>      <td>    0.8355</td> <td>    0.266</td> <td>    3.143</td> <td> 0.002</td> <td>    0.314</td> <td>    1.357</td>\n",
       "</tr>\n",
       "<tr>\n",
       "  <th>C(Category)[T.TV]:C(Region)[T.West]</th>         <td>   -1.5051</td> <td>    0.268</td> <td>   -5.619</td> <td> 0.000</td> <td>   -2.030</td> <td>   -0.980</td>\n",
       "</tr>\n",
       "</table>\n",
       "<table class=\"simpletable\">\n",
       "<tr>\n",
       "  <th>Omnibus:</th>       <td>535.132</td> <th>  Durbin-Watson:     </th> <td>   1.344</td> \n",
       "</tr>\n",
       "<tr>\n",
       "  <th>Prob(Omnibus):</th> <td> 0.000</td>  <th>  Jarque-Bera (JB):  </th> <td>1372.642</td> \n",
       "</tr>\n",
       "<tr>\n",
       "  <th>Skew:</th>          <td>-0.430</td>  <th>  Prob(JB):          </th> <td>8.60e-299</td>\n",
       "</tr>\n",
       "<tr>\n",
       "  <th>Kurtosis:</th>      <td> 4.949</td>  <th>  Cond. No.          </th> <td>    28.8</td> \n",
       "</tr>\n",
       "</table><br/><br/>Notes:<br/>[1] Standard Errors assume that the covariance matrix of the errors is correctly specified."
      ],
      "text/plain": [
       "<class 'statsmodels.iolib.summary.Summary'>\n",
       "\"\"\"\n",
       "                            OLS Regression Results                            \n",
       "==============================================================================\n",
       "Dep. Variable:                  Total   R-squared:                       0.886\n",
       "Model:                            OLS   Adj. R-squared:                  0.886\n",
       "Method:                 Least Squares   F-statistic:                     2809.\n",
       "Date:                Tue, 19 Apr 2022   Prob (F-statistic):               0.00\n",
       "Time:                        19:04:38   Log-Likelihood:                -17069.\n",
       "No. Observations:                7261   AIC:                         3.418e+04\n",
       "Df Residuals:                    7240   BIC:                         3.433e+04\n",
       "Df Model:                          20                                         \n",
       "Covariance Type:            nonrobust                                         \n",
       "===============================================================================================================\n",
       "                                                  coef    std err          t      P>|t|      [0.025      0.975]\n",
       "---------------------------------------------------------------------------------------------------------------\n",
       "Intercept                                      21.7367      0.133    163.526      0.000      21.476      21.997\n",
       "C(Category)[T.Appliance]                       -6.5962      0.219    -30.187      0.000      -7.025      -6.168\n",
       "C(Category)[T.Batteries]                      -13.0191      0.188    -69.256      0.000     -13.388     -12.651\n",
       "C(Category)[T.Laptop]                           5.9003      0.188     31.366      0.000       5.532       6.269\n",
       "C(Category)[T.Monitor]                          2.0188      0.188     10.732      0.000       1.650       2.388\n",
       "C(Category)[T.Phone]                            3.9558      0.188     21.043      0.000       3.587       4.324\n",
       "C(Category)[T.TV]                              -5.8119      0.191    -30.480      0.000      -6.186      -5.438\n",
       "C(Region)[T.South]                             -0.9983      0.188     -5.311      0.000      -1.367      -0.630\n",
       "C(Region)[T.West]                               4.6975      0.188     24.989      0.000       4.329       5.066\n",
       "C(Category)[T.Appliance]:C(Region)[T.South]     0.9686      0.313      3.098      0.002       0.356       1.582\n",
       "C(Category)[T.Batteries]:C(Region)[T.South]     0.4615      0.266      1.736      0.083      -0.060       0.983\n",
       "C(Category)[T.Laptop]:C(Region)[T.South]       -0.2300      0.266     -0.864      0.388      -0.752       0.292\n",
       "C(Category)[T.Monitor]:C(Region)[T.South]      -0.3156      0.266     -1.187      0.235      -0.837       0.206\n",
       "C(Category)[T.Phone]:C(Region)[T.South]        -0.1855      0.266     -0.698      0.485      -0.707       0.336\n",
       "C(Category)[T.TV]:C(Region)[T.South]            0.2311      0.270      0.857      0.392      -0.298       0.760\n",
       "C(Category)[T.Appliance]:C(Region)[T.West]     -2.7628      0.294     -9.398      0.000      -3.339      -2.187\n",
       "C(Category)[T.Batteries]:C(Region)[T.West]     -2.3619      0.266     -8.884      0.000      -2.883      -1.841\n",
       "C(Category)[T.Laptop]:C(Region)[T.West]         1.1887      0.266      4.468      0.000       0.667       1.710\n",
       "C(Category)[T.Monitor]:C(Region)[T.West]        0.2616      0.266      0.984      0.325      -0.260       0.783\n",
       "C(Category)[T.Phone]:C(Region)[T.West]          0.8355      0.266      3.143      0.002       0.314       1.357\n",
       "C(Category)[T.TV]:C(Region)[T.West]            -1.5051      0.268     -5.619      0.000      -2.030      -0.980\n",
       "==============================================================================\n",
       "Omnibus:                      535.132   Durbin-Watson:                   1.344\n",
       "Prob(Omnibus):                  0.000   Jarque-Bera (JB):             1372.642\n",
       "Skew:                          -0.430   Prob(JB):                    8.60e-299\n",
       "Kurtosis:                       4.949   Cond. No.                         28.8\n",
       "==============================================================================\n",
       "\n",
       "Notes:\n",
       "[1] Standard Errors assume that the covariance matrix of the errors is correctly specified.\n",
       "\"\"\""
      ]
     },
     "execution_count": 317,
     "metadata": {},
     "output_type": "execute_result"
    }
   ],
   "source": [
    "summary1"
   ]
  },
  {
   "cell_type": "code",
   "execution_count": 318,
   "id": "63e6b730",
   "metadata": {},
   "outputs": [
    {
     "data": {
      "text/html": [
       "<table class=\"simpletable\">\n",
       "<tr>\n",
       "        <td>Model:</td>               <td>OLS</td>         <td>Adj. R-squared:</td>      <td>0.886</td>  \n",
       "</tr>\n",
       "<tr>\n",
       "  <td>Dependent Variable:</td>       <td>Total</td>             <td>AIC:</td>         <td>34180.8884</td>\n",
       "</tr>\n",
       "<tr>\n",
       "         <td>Date:</td>        <td>2022-04-19 19:04</td>        <td>BIC:</td>         <td>34325.5841</td>\n",
       "</tr>\n",
       "<tr>\n",
       "   <td>No. Observations:</td>        <td>7261</td>         <td>Log-Likelihood:</td>     <td>-17069.</td> \n",
       "</tr>\n",
       "<tr>\n",
       "       <td>Df Model:</td>             <td>20</td>           <td>F-statistic:</td>        <td>2809.</td>  \n",
       "</tr>\n",
       "<tr>\n",
       "     <td>Df Residuals:</td>          <td>7240</td>       <td>Prob (F-statistic):</td>    <td>0.00</td>   \n",
       "</tr>\n",
       "<tr>\n",
       "      <td>R-squared:</td>            <td>0.886</td>            <td>Scale:</td>          <td>6.4669</td>  \n",
       "</tr>\n",
       "</table>\n",
       "<table class=\"simpletable\">\n",
       "<tr>\n",
       "                       <td></td>                         <th>Coef.</th>  <th>Std.Err.</th>     <th>t</th>     <th>P>|t|</th>  <th>[0.025</th>   <th>0.975]</th> \n",
       "</tr>\n",
       "<tr>\n",
       "  <th>Intercept</th>                                    <td>21.7367</td>  <td>0.1329</td>  <td>163.5255</td> <td>0.0000</td>  <td>21.4761</td>  <td>21.9973</td>\n",
       "</tr>\n",
       "<tr>\n",
       "  <th>C(Category)[T.Appliance]</th>                     <td>-6.5962</td>  <td>0.2185</td>  <td>-30.1870</td> <td>0.0000</td>  <td>-7.0246</td>  <td>-6.1679</td>\n",
       "</tr>\n",
       "<tr>\n",
       "  <th>C(Category)[T.Batteries]</th>                    <td>-13.0191</td>  <td>0.1880</td>  <td>-69.2563</td> <td>0.0000</td> <td>-13.3876</td> <td>-12.6506</td>\n",
       "</tr>\n",
       "<tr>\n",
       "  <th>C(Category)[T.Laptop]</th>                        <td>5.9003</td>   <td>0.1881</td>   <td>31.3659</td> <td>0.0000</td>  <td>5.5316</td>   <td>6.2691</td> \n",
       "</tr>\n",
       "<tr>\n",
       "  <th>C(Category)[T.Monitor]</th>                       <td>2.0188</td>   <td>0.1881</td>   <td>10.7319</td> <td>0.0000</td>  <td>1.6501</td>   <td>2.3876</td> \n",
       "</tr>\n",
       "<tr>\n",
       "  <th>C(Category)[T.Phone]</th>                         <td>3.9558</td>   <td>0.1880</td>   <td>21.0433</td> <td>0.0000</td>  <td>3.5873</td>   <td>4.3243</td> \n",
       "</tr>\n",
       "<tr>\n",
       "  <th>C(Category)[T.TV]</th>                            <td>-5.8119</td>  <td>0.1907</td>  <td>-30.4795</td> <td>0.0000</td>  <td>-6.1857</td>  <td>-5.4381</td>\n",
       "</tr>\n",
       "<tr>\n",
       "  <th>C(Region)[T.South]</th>                           <td>-0.9983</td>  <td>0.1880</td>   <td>-5.3108</td> <td>0.0000</td>  <td>-1.3669</td>  <td>-0.6298</td>\n",
       "</tr>\n",
       "<tr>\n",
       "  <th>C(Region)[T.West]</th>                            <td>4.6975</td>   <td>0.1880</td>   <td>24.9885</td> <td>0.0000</td>  <td>4.3290</td>   <td>5.0660</td> \n",
       "</tr>\n",
       "<tr>\n",
       "  <th>C(Category)[T.Appliance]:C(Region)[T.South]</th>  <td>0.9686</td>   <td>0.3127</td>   <td>3.0981</td>  <td>0.0020</td>  <td>0.3557</td>   <td>1.5815</td> \n",
       "</tr>\n",
       "<tr>\n",
       "  <th>C(Category)[T.Batteries]:C(Region)[T.South]</th>  <td>0.4615</td>   <td>0.2659</td>   <td>1.7355</td>  <td>0.0827</td>  <td>-0.0598</td>  <td>0.9829</td> \n",
       "</tr>\n",
       "<tr>\n",
       "  <th>C(Category)[T.Laptop]:C(Region)[T.South]</th>     <td>-0.2300</td>  <td>0.2662</td>   <td>-0.8641</td> <td>0.3876</td>  <td>-0.7519</td>  <td>0.2918</td> \n",
       "</tr>\n",
       "<tr>\n",
       "  <th>C(Category)[T.Monitor]:C(Region)[T.South]</th>    <td>-0.3156</td>  <td>0.2659</td>   <td>-1.1868</td> <td>0.2354</td>  <td>-0.8369</td>  <td>0.2057</td> \n",
       "</tr>\n",
       "<tr>\n",
       "  <th>C(Category)[T.Phone]:C(Region)[T.South]</th>      <td>-0.1855</td>  <td>0.2659</td>   <td>-0.6976</td> <td>0.4854</td>  <td>-0.7069</td>  <td>0.3358</td> \n",
       "</tr>\n",
       "<tr>\n",
       "  <th>C(Category)[T.TV]:C(Region)[T.South]</th>         <td>0.2311</td>   <td>0.2698</td>   <td>0.8566</td>  <td>0.3917</td>  <td>-0.2977</td>  <td>0.7599</td> \n",
       "</tr>\n",
       "<tr>\n",
       "  <th>C(Category)[T.Appliance]:C(Region)[T.West]</th>   <td>-2.7628</td>  <td>0.2940</td>   <td>-9.3984</td> <td>0.0000</td>  <td>-3.3390</td>  <td>-2.1865</td>\n",
       "</tr>\n",
       "<tr>\n",
       "  <th>C(Category)[T.Batteries]:C(Region)[T.West]</th>   <td>-2.3619</td>  <td>0.2659</td>   <td>-8.8843</td> <td>0.0000</td>  <td>-2.8830</td>  <td>-1.8408</td>\n",
       "</tr>\n",
       "<tr>\n",
       "  <th>C(Category)[T.Laptop]:C(Region)[T.West]</th>      <td>1.1887</td>   <td>0.2660</td>   <td>4.4683</td>  <td>0.0000</td>  <td>0.6672</td>   <td>1.7102</td> \n",
       "</tr>\n",
       "<tr>\n",
       "  <th>C(Category)[T.Monitor]:C(Region)[T.West]</th>     <td>0.2616</td>   <td>0.2659</td>   <td>0.9839</td>  <td>0.3252</td>  <td>-0.2597</td>  <td>0.7830</td> \n",
       "</tr>\n",
       "<tr>\n",
       "  <th>C(Category)[T.Phone]:C(Region)[T.West]</th>       <td>0.8355</td>   <td>0.2659</td>   <td>3.1429</td>  <td>0.0017</td>  <td>0.3144</td>   <td>1.3567</td> \n",
       "</tr>\n",
       "<tr>\n",
       "  <th>C(Category)[T.TV]:C(Region)[T.West]</th>          <td>-1.5051</td>  <td>0.2679</td>   <td>-5.6192</td> <td>0.0000</td>  <td>-2.0302</td>  <td>-0.9801</td>\n",
       "</tr>\n",
       "</table>\n",
       "<table class=\"simpletable\">\n",
       "<tr>\n",
       "     <td>Omnibus:</td>    <td>535.132</td>  <td>Durbin-Watson:</td>     <td>1.344</td> \n",
       "</tr>\n",
       "<tr>\n",
       "  <td>Prob(Omnibus):</td>  <td>0.000</td>  <td>Jarque-Bera (JB):</td> <td>1372.642</td>\n",
       "</tr>\n",
       "<tr>\n",
       "       <td>Skew:</td>     <td>-0.430</td>      <td>Prob(JB):</td>       <td>0.000</td> \n",
       "</tr>\n",
       "<tr>\n",
       "     <td>Kurtosis:</td>    <td>4.949</td>   <td>Condition No.:</td>      <td>29</td>   \n",
       "</tr>\n",
       "</table>"
      ],
      "text/plain": [
       "<class 'statsmodels.iolib.summary2.Summary'>\n",
       "\"\"\"\n",
       "                                Results: Ordinary least squares\n",
       "===============================================================================================\n",
       "Model:                        OLS                       Adj. R-squared:              0.886     \n",
       "Dependent Variable:           Total                     AIC:                         34180.8884\n",
       "Date:                         2022-04-19 19:04          BIC:                         34325.5841\n",
       "No. Observations:             7261                      Log-Likelihood:              -17069.   \n",
       "Df Model:                     20                        F-statistic:                 2809.     \n",
       "Df Residuals:                 7240                      Prob (F-statistic):          0.00      \n",
       "R-squared:                    0.886                     Scale:                       6.4669    \n",
       "-----------------------------------------------------------------------------------------------\n",
       "                                             Coef.   Std.Err.    t     P>|t|   [0.025   0.975] \n",
       "-----------------------------------------------------------------------------------------------\n",
       "Intercept                                    21.7367   0.1329 163.5255 0.0000  21.4761  21.9973\n",
       "C(Category)[T.Appliance]                     -6.5962   0.2185 -30.1870 0.0000  -7.0246  -6.1679\n",
       "C(Category)[T.Batteries]                    -13.0191   0.1880 -69.2563 0.0000 -13.3876 -12.6506\n",
       "C(Category)[T.Laptop]                         5.9003   0.1881  31.3659 0.0000   5.5316   6.2691\n",
       "C(Category)[T.Monitor]                        2.0188   0.1881  10.7319 0.0000   1.6501   2.3876\n",
       "C(Category)[T.Phone]                          3.9558   0.1880  21.0433 0.0000   3.5873   4.3243\n",
       "C(Category)[T.TV]                            -5.8119   0.1907 -30.4795 0.0000  -6.1857  -5.4381\n",
       "C(Region)[T.South]                           -0.9983   0.1880  -5.3108 0.0000  -1.3669  -0.6298\n",
       "C(Region)[T.West]                             4.6975   0.1880  24.9885 0.0000   4.3290   5.0660\n",
       "C(Category)[T.Appliance]:C(Region)[T.South]   0.9686   0.3127   3.0981 0.0020   0.3557   1.5815\n",
       "C(Category)[T.Batteries]:C(Region)[T.South]   0.4615   0.2659   1.7355 0.0827  -0.0598   0.9829\n",
       "C(Category)[T.Laptop]:C(Region)[T.South]     -0.2300   0.2662  -0.8641 0.3876  -0.7519   0.2918\n",
       "C(Category)[T.Monitor]:C(Region)[T.South]    -0.3156   0.2659  -1.1868 0.2354  -0.8369   0.2057\n",
       "C(Category)[T.Phone]:C(Region)[T.South]      -0.1855   0.2659  -0.6976 0.4854  -0.7069   0.3358\n",
       "C(Category)[T.TV]:C(Region)[T.South]          0.2311   0.2698   0.8566 0.3917  -0.2977   0.7599\n",
       "C(Category)[T.Appliance]:C(Region)[T.West]   -2.7628   0.2940  -9.3984 0.0000  -3.3390  -2.1865\n",
       "C(Category)[T.Batteries]:C(Region)[T.West]   -2.3619   0.2659  -8.8843 0.0000  -2.8830  -1.8408\n",
       "C(Category)[T.Laptop]:C(Region)[T.West]       1.1887   0.2660   4.4683 0.0000   0.6672   1.7102\n",
       "C(Category)[T.Monitor]:C(Region)[T.West]      0.2616   0.2659   0.9839 0.3252  -0.2597   0.7830\n",
       "C(Category)[T.Phone]:C(Region)[T.West]        0.8355   0.2659   3.1429 0.0017   0.3144   1.3567\n",
       "C(Category)[T.TV]:C(Region)[T.West]          -1.5051   0.2679  -5.6192 0.0000  -2.0302  -0.9801\n",
       "-----------------------------------------------------------------------------------------------\n",
       "Omnibus:                       535.132                Durbin-Watson:                   1.344   \n",
       "Prob(Omnibus):                 0.000                  Jarque-Bera (JB):                1372.642\n",
       "Skew:                          -0.430                 Prob(JB):                        0.000   \n",
       "Kurtosis:                      4.949                  Condition No.:                   29      \n",
       "===============================================================================================\n",
       "\n",
       "\"\"\""
      ]
     },
     "execution_count": 318,
     "metadata": {},
     "output_type": "execute_result"
    }
   ],
   "source": [
    "summary2"
   ]
  },
  {
   "cell_type": "markdown",
   "id": "ce3d6483",
   "metadata": {},
   "source": [
    "Machine Learning: Linear Regression\n",
    "==="
   ]
  },
  {
   "cell_type": "markdown",
   "id": "7e76250b",
   "metadata": {},
   "source": [
    "Binary: Encoder\n",
    "==="
   ]
  },
  {
   "cell_type": "code",
   "execution_count": 319,
   "id": "3712b261",
   "metadata": {},
   "outputs": [],
   "source": [
    "lb, le, oe = LabelBinarizer(), LabelEncoder(), OrdinalEncoder()\n",
    "#binary\n",
    "for column in binary_variables:\n",
    "    df[column] = lb.fit_transform(df[column])"
   ]
  },
  {
   "cell_type": "markdown",
   "id": "48ee311f",
   "metadata": {},
   "source": [
    "Ordinal: Label Encoder\n",
    "===="
   ]
  },
  {
   "cell_type": "code",
   "execution_count": 320,
   "id": "4eb2b0de",
   "metadata": {},
   "outputs": [],
   "source": [
    "#Ordinal\n",
    "for column in ordinal_variables:\n",
    "    df[column] = le.fit_transform(df[column])"
   ]
  },
  {
   "cell_type": "markdown",
   "id": "ad3f5f66",
   "metadata": {},
   "source": [
    "Nominal: Encoder\n",
    "=="
   ]
  },
  {
   "cell_type": "code",
   "execution_count": 321,
   "id": "91db3efe",
   "metadata": {},
   "outputs": [],
   "source": [
    "#Nominal\n",
    "categorical_variables = list(set(categorical_variables) - set(ordinal_variables))\n",
    "df = pd.get_dummies(df, columns = categorical_variables, drop_first=False)"
   ]
  },
  {
   "cell_type": "markdown",
   "id": "9c96940d",
   "metadata": {},
   "source": [
    "Extract X/Y (Target / Features)\n",
    "===="
   ]
  },
  {
   "cell_type": "code",
   "execution_count": 322,
   "id": "aa01cd3e",
   "metadata": {},
   "outputs": [],
   "source": [
    "#Normal\n",
    "y, X = df['Total'], df.drop(columns='Total')"
   ]
  },
  {
   "cell_type": "code",
   "execution_count": 323,
   "id": "7b99db22",
   "metadata": {},
   "outputs": [],
   "source": [
    "#create Train/Test for Feature Selection\n",
    "X_train, X_test, y_train, y_test = train_test_split(X, y,test_size=0.2)"
   ]
  },
  {
   "cell_type": "code",
   "execution_count": 324,
   "id": "5bafe88f",
   "metadata": {},
   "outputs": [
    {
     "data": {
      "text/plain": [
       "LinearRegression()"
      ]
     },
     "execution_count": 324,
     "metadata": {},
     "output_type": "execute_result"
    }
   ],
   "source": [
    "# importing module\n",
    "from sklearn.linear_model import LinearRegression\n",
    "# creating an object of LinearRegression class\n",
    "LR = LinearRegression()\n",
    "# fitting the training data\n",
    "LR.fit(X_train,y_train)"
   ]
  },
  {
   "cell_type": "code",
   "execution_count": 325,
   "id": "40c9c400",
   "metadata": {},
   "outputs": [
    {
     "data": {
      "text/plain": [
       "array([15.6484375, 27.3203125, 30.109375 , ..., 27.9609375, 22.0078125,\n",
       "        8.2890625])"
      ]
     },
     "execution_count": 325,
     "metadata": {},
     "output_type": "execute_result"
    }
   ],
   "source": [
    "y_prediction =  LR.predict(X_test)\n",
    "y_prediction"
   ]
  },
  {
   "cell_type": "code",
   "execution_count": 326,
   "id": "afae92ea",
   "metadata": {},
   "outputs": [
    {
     "name": "stdout",
     "output_type": "stream",
     "text": [
      "0.8631751350891195\n"
     ]
    }
   ],
   "source": [
    "# importing r2_score module\n",
    "from sklearn.metrics import r2_score\n",
    "from sklearn.metrics import mean_squared_error\n",
    "# predicting the accuracy score\n",
    "score=r2_score(y_test,y_prediction)\n",
    "print(score)"
   ]
  },
  {
   "cell_type": "code",
   "execution_count": 327,
   "id": "45e8ba5b",
   "metadata": {},
   "outputs": [
    {
     "data": {
      "text/plain": [
       "Index(['Category_Accessories', 'Category_Appliance', 'Category_Batteries',\n",
       "       'Category_Laptop', 'Category_Monitor', 'Category_Phone', 'Category_TV',\n",
       "       'Region_Northeast', 'Region_South', 'Region_West'],\n",
       "      dtype='object')"
      ]
     },
     "execution_count": 327,
     "metadata": {},
     "output_type": "execute_result"
    }
   ],
   "source": [
    "X.columns"
   ]
  },
  {
   "cell_type": "code",
   "execution_count": 328,
   "id": "2426c611",
   "metadata": {},
   "outputs": [
    {
     "name": "stdout",
     "output_type": "stream",
     "text": [
      "Intercept: \n",
      " 49487808434897.14\n",
      "Coefficients: \n",
      " [-8.29863730e+12 -8.29863730e+12 -8.29863730e+12 -8.29863730e+12\n",
      " -8.29863730e+12 -8.29863730e+12 -8.29863730e+12 -4.11891711e+13\n",
      " -4.11891711e+13 -4.11891711e+13]\n"
     ]
    }
   ],
   "source": [
    "print('Intercept: \\n', LR.intercept_)\n",
    "print('Coefficients: \\n', LR.coef_)"
   ]
  },
  {
   "cell_type": "markdown",
   "id": "40b5f9be",
   "metadata": {},
   "source": [
    "ARIMA\n",
    "===="
   ]
  },
  {
   "cell_type": "code",
   "execution_count": 413,
   "id": "4b1566e7",
   "metadata": {},
   "outputs": [],
   "source": [
    "df = pd.read_csv(r\"C:\\Users\\2-1\\Downloads\\Sales_Day_Total_Processed.csv\", header=0, index_col=0, parse_dates=True)"
   ]
  },
  {
   "cell_type": "code",
   "execution_count": 414,
   "id": "71b185ed",
   "metadata": {},
   "outputs": [
    {
     "data": {
      "text/html": [
       "<div>\n",
       "<style scoped>\n",
       "    .dataframe tbody tr th:only-of-type {\n",
       "        vertical-align: middle;\n",
       "    }\n",
       "\n",
       "    .dataframe tbody tr th {\n",
       "        vertical-align: top;\n",
       "    }\n",
       "\n",
       "    .dataframe thead th {\n",
       "        text-align: right;\n",
       "    }\n",
       "</style>\n",
       "<table border=\"1\" class=\"dataframe\">\n",
       "  <thead>\n",
       "    <tr style=\"text-align: right;\">\n",
       "      <th></th>\n",
       "      <th>Total</th>\n",
       "    </tr>\n",
       "    <tr>\n",
       "      <th>Order_Day</th>\n",
       "      <th></th>\n",
       "    </tr>\n",
       "  </thead>\n",
       "  <tbody>\n",
       "    <tr>\n",
       "      <th>2019-01-01</th>\n",
       "      <td>65681.94</td>\n",
       "    </tr>\n",
       "    <tr>\n",
       "      <th>2019-01-02</th>\n",
       "      <td>70663.20</td>\n",
       "    </tr>\n",
       "    <tr>\n",
       "      <th>2019-01-03</th>\n",
       "      <td>47046.20</td>\n",
       "    </tr>\n",
       "    <tr>\n",
       "      <th>2019-01-04</th>\n",
       "      <td>62000.22</td>\n",
       "    </tr>\n",
       "    <tr>\n",
       "      <th>2019-01-05</th>\n",
       "      <td>46524.63</td>\n",
       "    </tr>\n",
       "  </tbody>\n",
       "</table>\n",
       "</div>"
      ],
      "text/plain": [
       "               Total\n",
       "Order_Day           \n",
       "2019-01-01  65681.94\n",
       "2019-01-02  70663.20\n",
       "2019-01-03  47046.20\n",
       "2019-01-04  62000.22\n",
       "2019-01-05  46524.63"
      ]
     },
     "execution_count": 414,
     "metadata": {},
     "output_type": "execute_result"
    }
   ],
   "source": [
    "#Take a look at what's inside of the data\n",
    "df.head()"
   ]
  },
  {
   "cell_type": "code",
   "execution_count": 415,
   "id": "7be15b68",
   "metadata": {},
   "outputs": [],
   "source": [
    "#Transform date index from string type to date type\n",
    "df.index = pd.DatetimeIndex(df.index).to_period('D')"
   ]
  },
  {
   "cell_type": "code",
   "execution_count": 416,
   "id": "de3467e6",
   "metadata": {},
   "outputs": [
    {
     "data": {
      "text/plain": [
       "<AxesSubplot:xlabel='Order_Day'>"
      ]
     },
     "execution_count": 416,
     "metadata": {},
     "output_type": "execute_result"
    },
    {
     "data": {
      "image/png": "[encoded data removed]",
      "text/plain": [
       "<Figure size 1080x720 with 1 Axes>"
      ]
     },
     "metadata": {},
     "output_type": "display_data"
    }
   ],
   "source": [
    "#Draw plot chart\n",
    "df[\"Total\"].plot()"
   ]
  },
  {
   "cell_type": "code",
   "execution_count": 417,
   "id": "3c569667",
   "metadata": {},
   "outputs": [
    {
     "data": {
      "text/html": [
       "<div>\n",
       "<style scoped>\n",
       "    .dataframe tbody tr th:only-of-type {\n",
       "        vertical-align: middle;\n",
       "    }\n",
       "\n",
       "    .dataframe tbody tr th {\n",
       "        vertical-align: top;\n",
       "    }\n",
       "\n",
       "    .dataframe thead th {\n",
       "        text-align: right;\n",
       "    }\n",
       "</style>\n",
       "<table border=\"1\" class=\"dataframe\">\n",
       "  <thead>\n",
       "    <tr style=\"text-align: right;\">\n",
       "      <th></th>\n",
       "      <th>Total</th>\n",
       "    </tr>\n",
       "    <tr>\n",
       "      <th>Order_Day</th>\n",
       "      <th></th>\n",
       "    </tr>\n",
       "  </thead>\n",
       "  <tbody>\n",
       "    <tr>\n",
       "      <th>2019-12-27</th>\n",
       "      <td>126604.07</td>\n",
       "    </tr>\n",
       "    <tr>\n",
       "      <th>2019-12-28</th>\n",
       "      <td>133601.53</td>\n",
       "    </tr>\n",
       "    <tr>\n",
       "      <th>2019-12-29</th>\n",
       "      <td>156009.67</td>\n",
       "    </tr>\n",
       "    <tr>\n",
       "      <th>2019-12-30</th>\n",
       "      <td>151857.82</td>\n",
       "    </tr>\n",
       "    <tr>\n",
       "      <th>2019-12-31</th>\n",
       "      <td>131439.32</td>\n",
       "    </tr>\n",
       "  </tbody>\n",
       "</table>\n",
       "</div>"
      ],
      "text/plain": [
       "                Total\n",
       "Order_Day            \n",
       "2019-12-27  126604.07\n",
       "2019-12-28  133601.53\n",
       "2019-12-29  156009.67\n",
       "2019-12-30  151857.82\n",
       "2019-12-31  131439.32"
      ]
     },
     "execution_count": 417,
     "metadata": {},
     "output_type": "execute_result"
    }
   ],
   "source": [
    "df.tail()"
   ]
  },
  {
   "cell_type": "code",
   "execution_count": 418,
   "id": "5bbfc105",
   "metadata": {},
   "outputs": [
    {
     "data": {
      "image/png": "[encoded data removed]",
      "text/plain": [
       "<Figure size 1080x720 with 1 Axes>"
      ]
     },
     "metadata": {},
     "output_type": "display_data"
    },
    {
     "data": {
      "image/png": "[encoded data removed]",
      "text/plain": [
       "<Figure size 1080x720 with 1 Axes>"
      ]
     },
     "metadata": {},
     "output_type": "display_data"
    }
   ],
   "source": [
    "#Part II: Draw ACF and PACF Plot Charts to identify the order of AR or MA or ARMA model\n",
    "sm.graphics.tsa.plot_acf(df.values.squeeze(), lags=30) # You can change the lags value if you want to see more lags\n",
    "sm.graphics.tsa.plot_pacf(df.values.squeeze(), lags=30)\n",
    "plt.show()"
   ]
  },
  {
   "cell_type": "code",
   "execution_count": 419,
   "id": "ef600fba",
   "metadata": {},
   "outputs": [],
   "source": [
    "#How to differencing data if there is a trend in original data?\n",
    "from statsmodels.tsa.statespace.tools import diff \n",
    "diff=diff(df, k_diff=1, k_seasonal_diff=None, seasonal_periods=1)"
   ]
  },
  {
   "cell_type": "code",
   "execution_count": 420,
   "id": "37006ede",
   "metadata": {},
   "outputs": [],
   "source": [
    "diff = pd.DataFrame(diff)"
   ]
  },
  {
   "cell_type": "code",
   "execution_count": 421,
   "id": "09c50eb9",
   "metadata": {},
   "outputs": [
    {
     "data": {
      "text/html": [
       "<div>\n",
       "<style scoped>\n",
       "    .dataframe tbody tr th:only-of-type {\n",
       "        vertical-align: middle;\n",
       "    }\n",
       "\n",
       "    .dataframe tbody tr th {\n",
       "        vertical-align: top;\n",
       "    }\n",
       "\n",
       "    .dataframe thead th {\n",
       "        text-align: right;\n",
       "    }\n",
       "</style>\n",
       "<table border=\"1\" class=\"dataframe\">\n",
       "  <thead>\n",
       "    <tr style=\"text-align: right;\">\n",
       "      <th></th>\n",
       "      <th>Total</th>\n",
       "    </tr>\n",
       "    <tr>\n",
       "      <th>Order_Day</th>\n",
       "      <th></th>\n",
       "    </tr>\n",
       "  </thead>\n",
       "  <tbody>\n",
       "    <tr>\n",
       "      <th>2019-01-02</th>\n",
       "      <td>4981.26</td>\n",
       "    </tr>\n",
       "    <tr>\n",
       "      <th>2019-01-03</th>\n",
       "      <td>-23617.00</td>\n",
       "    </tr>\n",
       "    <tr>\n",
       "      <th>2019-01-04</th>\n",
       "      <td>14954.02</td>\n",
       "    </tr>\n",
       "    <tr>\n",
       "      <th>2019-01-05</th>\n",
       "      <td>-15475.59</td>\n",
       "    </tr>\n",
       "    <tr>\n",
       "      <th>2019-01-06</th>\n",
       "      <td>6237.91</td>\n",
       "    </tr>\n",
       "  </tbody>\n",
       "</table>\n",
       "</div>"
      ],
      "text/plain": [
       "               Total\n",
       "Order_Day           \n",
       "2019-01-02   4981.26\n",
       "2019-01-03 -23617.00\n",
       "2019-01-04  14954.02\n",
       "2019-01-05 -15475.59\n",
       "2019-01-06   6237.91"
      ]
     },
     "execution_count": 421,
     "metadata": {},
     "output_type": "execute_result"
    }
   ],
   "source": [
    "diff.head()"
   ]
  },
  {
   "cell_type": "code",
   "execution_count": 422,
   "id": "b86d790c",
   "metadata": {},
   "outputs": [],
   "source": [
    "#Export\n",
    "diff.to_csv('C:\\\\Users\\\\2-1\\\\Downloads\\\\Sales_Diff_Processed.csv')"
   ]
  },
  {
   "cell_type": "code",
   "execution_count": 424,
   "id": "9d046908",
   "metadata": {},
   "outputs": [],
   "source": [
    "#Import\n",
    "diff = pd.read_csv(r\"C:\\Users\\2-1\\Downloads\\Sales_Diff_Processed.csv\", header=0, index_col=0, parse_dates=True)"
   ]
  },
  {
   "cell_type": "code",
   "execution_count": 425,
   "id": "ce66e1fa",
   "metadata": {},
   "outputs": [
    {
     "data": {
      "text/plain": [
       "<AxesSubplot:xlabel='Order_Day', ylabel='Total'>"
      ]
     },
     "execution_count": 425,
     "metadata": {},
     "output_type": "execute_result"
    },
    {
     "data": {
      "image/png": "[encoded data removed]",
      "text/plain": [
       "<Figure size 1080x720 with 1 Axes>"
      ]
     },
     "metadata": {},
     "output_type": "display_data"
    }
   ],
   "source": [
    "sns.lineplot(data=diff, x=\"Order_Day\", y=\"Total\")"
   ]
  },
  {
   "cell_type": "code",
   "execution_count": 426,
   "id": "69e5e75c",
   "metadata": {},
   "outputs": [
    {
     "name": "stdout",
     "output_type": "stream",
     "text": [
      "ADF Statistic: -14.044855\n",
      "p-value: 0.000000\n",
      "Critical Values:\n",
      "\t1%: -3.449\n",
      "\t5%: -2.870\n",
      "\t10%: -2.571\n"
     ]
    }
   ],
   "source": [
    "from pandas import read_csv\n",
    "from statsmodels.tsa.stattools import adfuller\n",
    "X = diff.values\n",
    "result = adfuller(X)\n",
    "print('ADF Statistic: %f' % result[0])\n",
    "print('p-value: %f' % result[1])\n",
    "print('Critical Values:')\n",
    "for key, value in result[4].items():\n",
    "    print('\\t%s: %.3f' % (key, value))"
   ]
  },
  {
   "cell_type": "code",
   "execution_count": 410,
   "id": "f8232a51",
   "metadata": {},
   "outputs": [
    {
     "name": "stderr",
     "output_type": "stream",
     "text": [
      "C:\\Users\\2-1\\anaconda3\\lib\\site-packages\\statsmodels\\base\\model.py:566: ConvergenceWarning: Maximum Likelihood optimization failed to converge. Check mle_retvals\n",
      "  warnings.warn(\"Maximum Likelihood optimization failed to \"\n"
     ]
    }
   ],
   "source": [
    "#import model\n",
    "from statsmodels.tsa.arima.model import ARIMA\n",
    "model = ARIMA(df, order=(20, 1, 4))\n",
    "model_fit = model.fit()"
   ]
  },
  {
   "cell_type": "code",
   "execution_count": 411,
   "id": "6667a75b",
   "metadata": {},
   "outputs": [
    {
     "name": "stdout",
     "output_type": "stream",
     "text": [
      "2020-01-01    141461.910207\n",
      "2020-01-02    140687.706433\n",
      "2020-01-03    135500.499216\n",
      "2020-01-04    135730.843742\n",
      "2020-01-05    137698.087326\n",
      "2020-01-06    136052.943951\n",
      "2020-01-07    137194.902721\n",
      "2020-01-08    139019.029158\n",
      "2020-01-09    137475.593617\n",
      "2020-01-10    139337.162733\n",
      "Freq: D, Name: predicted_mean, dtype: float64\n"
     ]
    }
   ],
   "source": [
    "print(model_fit.forecast(10))"
   ]
  },
  {
   "cell_type": "code",
   "execution_count": 412,
   "id": "c66691d6",
   "metadata": {},
   "outputs": [
    {
     "name": "stdout",
     "output_type": "stream",
     "text": [
      "                               SARIMAX Results                                \n",
      "==============================================================================\n",
      "Dep. Variable:                  Total   No. Observations:                  365\n",
      "Model:                ARIMA(20, 1, 4)   Log Likelihood               -3897.412\n",
      "Date:                Tue, 19 Apr 2022   AIC                           7844.825\n",
      "Time:                        19:45:24   BIC                           7942.254\n",
      "Sample:                    01-01-2019   HQIC                          7883.548\n",
      "                         - 12-31-2019                                         \n",
      "Covariance Type:                  opg                                         \n",
      "==============================================================================\n",
      "                 coef    std err          z      P>|z|      [0.025      0.975]\n",
      "------------------------------------------------------------------------------\n",
      "ar.L1          0.0793      0.160      0.495      0.620      -0.234       0.393\n",
      "ar.L2         -0.1418      0.149     -0.952      0.341      -0.434       0.150\n",
      "ar.L3          0.7071      0.141      5.026      0.000       0.431       0.983\n",
      "ar.L4         -0.4913      0.112     -4.405      0.000      -0.710      -0.273\n",
      "ar.L5         -0.2115      0.094     -2.260      0.024      -0.395      -0.028\n",
      "ar.L6         -0.2669      0.088     -3.051      0.002      -0.438      -0.095\n",
      "ar.L7         -0.0292      0.075     -0.389      0.697      -0.176       0.118\n",
      "ar.L8         -0.1142      0.083     -1.378      0.168      -0.277       0.048\n",
      "ar.L9          0.0140      0.076      0.185      0.853      -0.134       0.162\n",
      "ar.L10        -0.0705      0.086     -0.822      0.411      -0.238       0.098\n",
      "ar.L11         0.0152      0.080      0.191      0.849      -0.141       0.171\n",
      "ar.L12        -0.0322      0.080     -0.400      0.689      -0.190       0.125\n",
      "ar.L13         0.0596      0.081      0.737      0.461      -0.099       0.218\n",
      "ar.L14         0.0144      0.076      0.190      0.850      -0.134       0.163\n",
      "ar.L15         0.0140      0.076      0.183      0.854      -0.136       0.164\n",
      "ar.L16         0.0148      0.084      0.176      0.860      -0.150       0.179\n",
      "ar.L17        -0.0342      0.081     -0.421      0.674      -0.194       0.125\n",
      "ar.L18        -0.0220      0.066     -0.335      0.738      -0.151       0.107\n",
      "ar.L19        -0.0571      0.068     -0.837      0.403      -0.191       0.077\n",
      "ar.L20         0.0492      0.072      0.688      0.491      -0.091       0.189\n",
      "ma.L1         -0.7419      0.152     -4.874      0.000      -1.040      -0.444\n",
      "ma.L2          0.1420      0.163      0.871      0.384      -0.178       0.462\n",
      "ma.L3         -0.6933      0.158     -4.382      0.000      -1.003      -0.383\n",
      "ma.L4          0.8797      0.128      6.897      0.000       0.630       1.130\n",
      "sigma2      1.179e+08   6.74e-10   1.75e+17      0.000    1.18e+08    1.18e+08\n",
      "===================================================================================\n",
      "Ljung-Box (L1) (Q):                   0.07   Jarque-Bera (JB):               136.56\n",
      "Prob(Q):                              0.80   Prob(JB):                         0.00\n",
      "Heteroskedasticity (H):               1.88   Skew:                             0.62\n",
      "Prob(H) (two-sided):                  0.00   Kurtosis:                         5.73\n",
      "===================================================================================\n",
      "\n",
      "Warnings:\n",
      "[1] Covariance matrix calculated using the outer product of gradients (complex-step).\n",
      "[2] Covariance matrix is singular or near-singular, with condition number 1.76e+32. Standard errors may be unstable.\n"
     ]
    }
   ],
   "source": [
    "print(model_fit.summary())"
   ]
  },
  {
   "cell_type": "code",
   "execution_count": null,
   "id": "3e56e9e9",
   "metadata": {},
   "outputs": [],
   "source": []
  }
 ],
 "metadata": {
  "kernelspec": {
   "display_name": "Python 3 (ipykernel)",
   "language": "python",
   "name": "python3"
  },
  "language_info": {
   "codemirror_mode": {
    "name": "ipython",
    "version": 3
   },
   "file_extension": ".py",
   "mimetype": "text/x-python",
   "name": "python",
   "nbconvert_exporter": "python",
   "pygments_lexer": "ipython3",
   "version": "3.9.7"
  }
 },
 "nbformat": 4,
 "nbformat_minor": 5
}
